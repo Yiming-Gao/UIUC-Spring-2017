{
 "cells": [
  {
   "cell_type": "markdown",
   "metadata": {
    "deletable": false,
    "nbgrader": {
     "checksum": "1206a454e6c628e914177ddb325af6a9",
     "grade": false,
     "grade_id": "header",
     "locked": true,
     "solution": false
    }
   },
   "source": [
    "If you are not using the `Assignments` tab on the course JupyterHub server to read this notebook, read [Activating the assignments tab](https://github.com/lcdm-uiuc/info490-sp17/blob/master/help/act_assign_tab.md).\n",
    "\n",
    "A few things you should keep in mind when working on assignments:\n",
    "\n",
    "1. Make sure you fill in any place that says `YOUR CODE HERE`. Do **not** write your answer in anywhere else other than where it says `YOUR CODE HERE`. Anything you write anywhere else will be removed or overwritten by the autograder.\n",
    "\n",
    "2. Before you submit your assignment, make sure everything runs as expected. Go to menubar, select _Kernel_, and restart the kernel and run all cells (_Restart & Run all_).\n",
    "\n",
    "3. Do not change the title (i.e. file name) of this notebook.\n",
    "\n",
    "4. Make sure that you save your work (in the menubar, select _File_  → _Save and CheckPoint_)\n",
    "\n",
    "5. You are allowed to submit an assignment multiple times, but only the most recent submission will be graded."
   ]
  },
  {
   "cell_type": "markdown",
   "metadata": {
    "deletable": false,
    "nbgrader": {
     "checksum": "bd1a989fc2329200e88f49702fd7c4ec",
     "grade": false,
     "grade_id": "title",
     "locked": true,
     "solution": false
    }
   },
   "source": [
    "## Problem 13.1. MongoDB\n",
    "\n",
    "In this problem, we work with MongoDB from a Python program by using the pymongo database driver."
   ]
  },
  {
   "cell_type": "code",
   "execution_count": 1,
   "metadata": {
    "collapsed": true,
    "deletable": false,
    "nbgrader": {
     "checksum": "91bcfd9920689dffba030e263bcc2128",
     "grade": false,
     "grade_id": "import",
     "locked": true,
     "solution": false
    }
   },
   "outputs": [],
   "source": [
    "import os\n",
    "import datetime\n",
    "import json\n",
    "import bson\n",
    "import pymongo as pm\n",
    "\n",
    "from nose.tools import assert_equal, assert_true, assert_is_instance"
   ]
  },
  {
   "cell_type": "markdown",
   "metadata": {
    "deletable": false,
    "nbgrader": {
     "checksum": "96405d9ddda6fb3ddfae72aaed1ca151",
     "grade": false,
     "grade_id": "markdown_1",
     "locked": true,
     "solution": false
    }
   },
   "source": [
    "Here, we will be using historical weather data from [Weather Underground](http://www.wunderground.com/) to create a database. This dataset will be from January 1, 2001, collected from O'Hare (KORD). To make life easier for you, I've imported the data for you below:"
   ]
  },
  {
   "cell_type": "code",
   "execution_count": 2,
   "metadata": {
    "collapsed": false,
    "deletable": false,
    "nbgrader": {
     "checksum": "57c0e6a886c115444065674c3853cd0e",
     "grade": false,
     "grade_id": "json_load",
     "locked": true,
     "solution": false
    }
   },
   "outputs": [],
   "source": [
    "fpath = '/home/data_scientist/data/weather'\n",
    "fname = 'weather_kord_2001_0101.json'\n",
    "\n",
    "with open(os.path.join(fpath, fname)) as f:\n",
    "    weather_json = json.load(f)\n",
    "\n",
    "assert_is_instance(weather_json, dict)\n",
    "assert_equal(set(weather_json.keys()), set(['current_observation', 'response', 'history']))\n",
    "assert_true('observations' in weather_json['history'])"
   ]
  },
  {
   "cell_type": "code",
   "execution_count": 3,
   "metadata": {
    "collapsed": false,
    "deletable": false,
    "nbgrader": {
     "checksum": "fb72142aba928f978362be92950b6873",
     "grade": false,
     "grade_id": "observations",
     "locked": true,
     "solution": false
    }
   },
   "outputs": [
    {
     "name": "stdout",
     "output_type": "stream",
     "text": [
      "There are 24 dictionaries in the list.\n",
      "The first element is\n",
      "{'wgusti': '-9999.0', 'tempm': '-10.6', 'pressurei': '30.38', 'windchillm': '-14.9', 'heatindexi': '-9999', 'dewptm': '-11.7', 'date': {'min': '56', 'hour': '00', 'pretty': '12:56 AM CST on January 01, 2001', 'mon': '01', 'tzname': 'America/Chicago', 'year': '2001', 'mday': '01'}, 'tornado': '0', 'icon': 'cloudy', 'wspdm': '7.4', 'thunder': '0', 'precipi': '-9999.00', 'wspdi': '4.6', 'dewpti': '10.9', 'wdird': '360', 'heatindexm': '-9999', 'pressurem': '1028.5', 'wgustm': '-9999.0', 'tempi': '12.9', 'conds': 'Overcast', 'rain': '0', 'windchilli': '5.2', 'utcdate': {'min': '56', 'hour': '06', 'pretty': '6:56 AM GMT on January 01, 2001', 'mon': '01', 'tzname': 'UTC', 'year': '2001', 'mday': '01'}, 'metar': 'METAR KORD 010656Z 36004KT 9SM BKN055 OVC095 M11/M12 A3034 RMK AO2 SLP285 T11061117 $', 'hail': '0', 'fog': '0', 'precipm': '-9999.00', 'visi': '9.0', 'wdire': 'North', 'snow': '0', 'hum': '92', 'vism': '14.5'}\n"
     ]
    }
   ],
   "source": [
    "observations = weather_json['history']['observations']\n",
    "print('There are {} dictionaries in the list.'.format(len(observations)))\n",
    "print('The first element is\\n{}'.format(observations[0]))\n",
    "\n",
    "assert_is_instance(observations, list)\n",
    "assert_true(all(isinstance(o, dict) for o in observations))"
   ]
  },
  {
   "cell_type": "markdown",
   "metadata": {
    "deletable": false,
    "nbgrader": {
     "checksum": "4b2a6cadff87db31ff379af3248d8625",
     "grade": false,
     "grade_id": "markdown_2",
     "locked": true,
     "solution": false
    }
   },
   "source": [
    "We connect to the course MongoDB cloud computing system, hosted by NCSA's Nebula cloud."
   ]
  },
  {
   "cell_type": "code",
   "execution_count": 4,
   "metadata": {
    "collapsed": false,
    "deletable": false,
    "nbgrader": {
     "checksum": "bf1430730f07d540e98125bf56c4f0c8",
     "grade": false,
     "grade_id": "mongo_client",
     "locked": true,
     "solution": false
    }
   },
   "outputs": [],
   "source": [
    "client = pm.MongoClient(\"mongodb://141.142.211.6:27017\")"
   ]
  },
  {
   "cell_type": "markdown",
   "metadata": {
    "deletable": false,
    "nbgrader": {
     "checksum": "dfa2cc258e01729dce8e310ac738bb3a",
     "grade": false,
     "grade_id": "markdown_3",
     "locked": true,
     "solution": false
    }
   },
   "source": [
    "Since we are using a shared resource without authentication, we use your netid to create a database for each student."
   ]
  },
  {
   "cell_type": "code",
   "execution_count": 5,
   "metadata": {
    "collapsed": false,
    "deletable": false,
    "nbgrader": {
     "checksum": "6ddd1556a084e8a85863e228647dc55d",
     "grade": false,
     "grade_id": "dbname",
     "locked": true,
     "solution": false
    }
   },
   "outputs": [
    {
     "name": "stdout",
     "output_type": "stream",
     "text": [
      "Existing databases: ['admin', 'local']\n"
     ]
    }
   ],
   "source": [
    "# Filename containing user's netid\n",
    "fname = '/home/data_scientist/users.txt'\n",
    "with open(fname, 'r') as fin:\n",
    "    netid = fin.readline().rstrip()\n",
    "\n",
    "# We will delete our working directory if it exists before recreating.\n",
    "dbname = 'assignment-{0}'.format(netid)\n",
    "\n",
    "if dbname in client.database_names():\n",
    "    client.drop_database(dbname)\n",
    "\n",
    "print('Existing databases:', client.database_names())\n",
    "\n",
    "assert_true(dbname not in client.database_names())"
   ]
  },
  {
   "cell_type": "markdown",
   "metadata": {
    "deletable": false,
    "nbgrader": {
     "checksum": "b726e7841bb123fd714cf137a007e1d7",
     "grade": false,
     "grade_id": "makrdown_4",
     "locked": true,
     "solution": false
    }
   },
   "source": [
    "## Inserting Data\n",
    "\n",
    "- Create a new collection using the name `collection_name` and add new documents `data` to our MongoDB collection\n",
    "- Return a list of object IDs as a validation of the insertion process."
   ]
  },
  {
   "cell_type": "code",
   "execution_count": 6,
   "metadata": {
    "collapsed": false,
    "deletable": false,
    "nbgrader": {
     "checksum": "c48aca1fc73d22fcfec63e411f2d2664",
     "grade": false,
     "grade_id": "insert_answer",
     "locked": false,
     "solution": true
    }
   },
   "outputs": [],
   "source": [
    "def insert_data(db, collection_name, data):\n",
    "    '''\n",
    "    Creates a new collection using the name \"collection_name\" \n",
    "    and adds new documents `data` to our MongoDB collection.\n",
    "    \n",
    "    Parameters\n",
    "    ----------\n",
    "    data: A list of dictionaries.\n",
    "    db: A pymongo.database.Database instance.\n",
    "    collection_name: Name of new MongoDB collection.\n",
    "    \n",
    "    Returns\n",
    "    -------\n",
    "    A list of bson.ObjectId\n",
    "    '''\n",
    "    \n",
    "    # YOUR CODE HERE\n",
    "    # new collection\n",
    "    coll = db[collection_name]\n",
    "    \n",
    "    # add new documents\n",
    "    ids = map(lambda x: coll.insert_one(x).inserted_id, data)\n",
    "    \n",
    "    # get Ids\n",
    "    inserted_ids = list(ids) \n",
    "    \n",
    "    return inserted_ids"
   ]
  },
  {
   "cell_type": "code",
   "execution_count": 7,
   "metadata": {
    "collapsed": false,
    "deletable": false,
    "nbgrader": {
     "checksum": "f63dbb93198113f8fc05b305fd031769",
     "grade": false,
     "grade_id": "insert_run",
     "locked": true,
     "solution": false
    }
   },
   "outputs": [
    {
     "name": "stdout",
     "output_type": "stream",
     "text": [
      "New weather ID:  [ObjectId('58f21972b870f800c7f9f452'), ObjectId('58f21972b870f800c7f9f453'), ObjectId('58f21972b870f800c7f9f454'), ObjectId('58f21972b870f800c7f9f455'), ObjectId('58f21972b870f800c7f9f456'), ObjectId('58f21972b870f800c7f9f457'), ObjectId('58f21972b870f800c7f9f458'), ObjectId('58f21972b870f800c7f9f459'), ObjectId('58f21972b870f800c7f9f45a'), ObjectId('58f21972b870f800c7f9f45b'), ObjectId('58f21972b870f800c7f9f45c'), ObjectId('58f21972b870f800c7f9f45d'), ObjectId('58f21972b870f800c7f9f45e'), ObjectId('58f21972b870f800c7f9f45f'), ObjectId('58f21972b870f800c7f9f460'), ObjectId('58f21972b870f800c7f9f461'), ObjectId('58f21972b870f800c7f9f462'), ObjectId('58f21972b870f800c7f9f463'), ObjectId('58f21972b870f800c7f9f464'), ObjectId('58f21972b870f800c7f9f465'), ObjectId('58f21972b870f800c7f9f466'), ObjectId('58f21972b870f800c7f9f467'), ObjectId('58f21972b870f800c7f9f468'), ObjectId('58f21972b870f800c7f9f469')]\n",
      "Existing databases: ['admin', 'assignment-yimingg2', 'local']\n",
      "Existing collections: ['0101']\n"
     ]
    }
   ],
   "source": [
    "inserted_ids = insert_data(client[dbname], '0101', observations)\n",
    "\n",
    "print(\"New weather ID: \", inserted_ids)\n",
    "print('Existing databases:', client.database_names())\n",
    "print('Existing collections:', client[dbname].collection_names())"
   ]
  },
  {
   "cell_type": "code",
   "execution_count": 8,
   "metadata": {
    "collapsed": false,
    "deletable": false,
    "nbgrader": {
     "checksum": "e74412b3a1cbf56fccd6e43dd92359da",
     "grade": true,
     "grade_id": "insert_test",
     "locked": true,
     "points": 9,
     "solution": false
    }
   },
   "outputs": [],
   "source": [
    "assert_is_instance(inserted_ids, list)\n",
    "assert_true(all(isinstance(i, bson.objectid.ObjectId) for i in inserted_ids))\n",
    "\n",
    "assert_true(dbname in client.database_names())\n",
    "assert_true('0101' in client[dbname].collection_names())\n",
    "assert_equal(client[dbname]['0101'].count(), len(observations))"
   ]
  },
  {
   "cell_type": "markdown",
   "metadata": {
    "deletable": false,
    "nbgrader": {
     "checksum": "cdf7ad072bcd6a3d75e110a79e99f87c",
     "grade": false,
     "grade_id": "markdown_5",
     "locked": true,
     "solution": false
    }
   },
   "source": [
    "## Retrieving Data\n",
    "\n",
    "- Find all documents that have a given weather `condition` (e.g., `conds == \"Clear\"` or `conds == \"Partly Cloudy\"`)\n",
    "- Return the `_id` values of all documents that match the search query."
   ]
  },
  {
   "cell_type": "code",
   "execution_count": 9,
   "metadata": {
    "collapsed": false,
    "deletable": false,
    "nbgrader": {
     "checksum": "70373c14aa1760ac3e3723b174ecaf28",
     "grade": false,
     "grade_id": "retrieve_answer",
     "locked": false,
     "solution": true
    }
   },
   "outputs": [],
   "source": [
    "def retrieve_data(collection, condition):\n",
    "    '''\n",
    "    Finds all documents that have a given weather `condition`\n",
    "    and return the `_id` values of all documents that match the search query.\n",
    "    \n",
    "    Parameters\n",
    "    ----------\n",
    "    collection: A pymongo.Collection instance.\n",
    "    condition: A string, e.g., \"Clear\", \"Partly Cloudy\", \"Overcast\".\n",
    "    \n",
    "    Returns\n",
    "    -------\n",
    "    A list of bson.ObjectId\n",
    "    '''\n",
    "    \n",
    "    #YOUR CODE HERE\n",
    "    result = [doc['_id'] for doc in collection.find({\"conds\": condition})]\n",
    "    \n",
    "    return result"
   ]
  },
  {
   "cell_type": "code",
   "execution_count": 10,
   "metadata": {
    "collapsed": false,
    "deletable": false,
    "nbgrader": {
     "checksum": "d412d07061187eb8b9bf14d907b86dfa",
     "grade": false,
     "grade_id": "retrieve_run",
     "locked": true,
     "solution": false
    }
   },
   "outputs": [
    {
     "name": "stdout",
     "output_type": "stream",
     "text": [
      "[ObjectId('58f21972b870f800c7f9f455'), ObjectId('58f21972b870f800c7f9f45f'), ObjectId('58f21972b870f800c7f9f460'), ObjectId('58f21972b870f800c7f9f467'), ObjectId('58f21972b870f800c7f9f468'), ObjectId('58f21972b870f800c7f9f469')]\n"
     ]
    }
   ],
   "source": [
    "clear_ids = retrieve_data(client[dbname]['0101'], 'Clear')\n",
    "print(clear_ids)"
   ]
  },
  {
   "cell_type": "code",
   "execution_count": 11,
   "metadata": {
    "collapsed": false,
    "deletable": false,
    "nbgrader": {
     "checksum": "1fb87f9313b75154580ae6f1c3c6b4a0",
     "grade": true,
     "grade_id": "retrieve_test",
     "locked": true,
     "points": 9,
     "solution": false
    }
   },
   "outputs": [],
   "source": [
    "assert_is_instance(clear_ids, list)\n",
    "assert_true(all(isinstance(i, bson.objectid.ObjectId) for i in clear_ids))\n",
    "\n",
    "conds = {obs['conds'] for obs in observations}\n",
    "for cond in conds:\n",
    "    r = retrieve_data(client[dbname]['0101'], cond)\n",
    "    n = [obs['_id'] for obs in observations if obs['conds'] == cond]\n",
    "    assert_equal(len(r), len(n))\n",
    "    assert_equal(set(r), set(n))"
   ]
  },
  {
   "cell_type": "markdown",
   "metadata": {
    "deletable": false,
    "nbgrader": {
     "checksum": "d44f17beb7a13b04d4ea3d308beb8bea",
     "grade": false,
     "grade_id": "markdown_6",
     "locked": true,
     "solution": false
    }
   },
   "source": [
    "## Modifying Data\n",
    "\n",
    "- Find all documents whose `conds` value is `\"Clear\"` and change the `conds` attribute to `Cloudy`.\n",
    "- Return the number of documents modified as a validation of the process."
   ]
  },
  {
   "cell_type": "code",
   "execution_count": 12,
   "metadata": {
    "collapsed": false,
    "deletable": false,
    "nbgrader": {
     "checksum": "10d9b8fc31d6a8730e5511e09062d650",
     "grade": false,
     "grade_id": "modify_answer",
     "locked": false,
     "solution": true
    }
   },
   "outputs": [],
   "source": [
    "def modify_data(collection):\n",
    "    '''\n",
    "    Finds all documents whose \"conds\" value is \"Clear\"\n",
    "    and change the \"conds\" attribute to \"Cloudy\".\n",
    "\n",
    "    Parameters\n",
    "    ----------\n",
    "    collection: A pymongo.Collection instance.\n",
    "    \n",
    "    Returns\n",
    "    -------\n",
    "    An int. The number of documents modified.\n",
    "    '''\n",
    "    \n",
    "    #YOUR CODE HERE\n",
    "    # the number of modified documents\n",
    "    count = len([doc for doc in collection.find({'conds': 'Clear'})])\n",
    "    \n",
    "    # change attribute\n",
    "    collection.update_many({'conds': 'Clear'}, {'$set':{'conds': 'Cloudy'}})\n",
    "    \n",
    "    return count"
   ]
  },
  {
   "cell_type": "code",
   "execution_count": 13,
   "metadata": {
    "collapsed": false,
    "deletable": false,
    "nbgrader": {
     "checksum": "753d9a8be8340865d384799bb1a5ce6f",
     "grade": false,
     "grade_id": "modify_run",
     "locked": true,
     "solution": false
    }
   },
   "outputs": [
    {
     "name": "stdout",
     "output_type": "stream",
     "text": [
      "6 records modified.\n"
     ]
    }
   ],
   "source": [
    "n_modified = modify_data(client[dbname]['0101'])\n",
    "print('{0} records modified.'.format(n_modified))"
   ]
  },
  {
   "cell_type": "code",
   "execution_count": 14,
   "metadata": {
    "collapsed": false,
    "deletable": false,
    "nbgrader": {
     "checksum": "08120b6ff46bf2ab6ebbc519bdd1a528",
     "grade": true,
     "grade_id": "modify_test",
     "locked": true,
     "points": 9,
     "solution": false
    }
   },
   "outputs": [],
   "source": [
    "assert_equal(\n",
    "    n_modified,\n",
    "    len([obs['_id'] for obs in observations if obs['conds'] == 'Clear'])\n",
    "    )\n",
    "\n",
    "conds = [obs['conds'] for obs in observations]\n",
    "for cond in conds:\n",
    "    if cond != 'Clear' and cond != 'Cloudy':\n",
    "        r = retrieve_data(client[dbname]['0101'], cond)\n",
    "        n = [obs['_id'] for obs in observations if obs['conds'] == cond]\n",
    "        assert_equal(len(r), len(n))\n",
    "        assert_equal(set(r), set(n))"
   ]
  },
  {
   "cell_type": "markdown",
   "metadata": {
    "deletable": false,
    "nbgrader": {
     "checksum": "95bce8b51c51da34b7df0aa05b347e83",
     "grade": false,
     "grade_id": "markdown_7",
     "locked": true,
     "solution": false
    }
   },
   "source": [
    "## Advanced Querying\n",
    "\n",
    "- Find all documents with `visi` equal to `\"10.0\"` and sort the documents by `conds`.\n",
    "- Return a list of `conds` as a validation of the process."
   ]
  },
  {
   "cell_type": "code",
   "execution_count": 15,
   "metadata": {
    "collapsed": false,
    "deletable": false,
    "nbgrader": {
     "checksum": "5f39a2d78386bad963481f4f3f15dd27",
     "grade": false,
     "grade_id": "query_answer",
     "locked": false,
     "solution": true
    }
   },
   "outputs": [],
   "source": [
    "def query(collection):\n",
    "    '''\n",
    "    Finds all documents with \"visi\" equal to `\"10.0\"\n",
    "    and sort the documents by \"conds\".\n",
    "    \n",
    "    Parameters\n",
    "    ----------\n",
    "    collection: A pymongo.Collection instance.\n",
    "\n",
    "    Returns\n",
    "    -------\n",
    "    A list of strings.\n",
    "    '''\n",
    "    \n",
    "    #YOUR CODE HERE\n",
    "    result = [doc['conds'] for doc in collection.find({\"visi\": {'$eq': '10.0'}}).sort('conds')]\n",
    "\n",
    "    return result"
   ]
  },
  {
   "cell_type": "code",
   "execution_count": 16,
   "metadata": {
    "collapsed": false,
    "deletable": false,
    "nbgrader": {
     "checksum": "0275fb695638301b8b5615f257b5a32d",
     "grade": false,
     "grade_id": "query_run",
     "locked": true,
     "solution": false
    }
   },
   "outputs": [
    {
     "name": "stdout",
     "output_type": "stream",
     "text": [
      "['Cloudy', 'Cloudy', 'Cloudy', 'Cloudy', 'Cloudy', 'Cloudy', 'Mostly Cloudy', 'Mostly Cloudy', 'Mostly Cloudy', 'Mostly Cloudy', 'Overcast', 'Overcast', 'Partly Cloudy', 'Partly Cloudy', 'Partly Cloudy', 'Partly Cloudy', 'Partly Cloudy', 'Partly Cloudy', 'Scattered Clouds', 'Scattered Clouds', 'Scattered Clouds']\n"
     ]
    }
   ],
   "source": [
    "query_conds = query(client[dbname]['0101'])\n",
    "print(query_conds)"
   ]
  },
  {
   "cell_type": "code",
   "execution_count": 17,
   "metadata": {
    "collapsed": false,
    "deletable": false,
    "nbgrader": {
     "checksum": "1a1dfbe3ddfb0e67f35dabb4b3f7775b",
     "grade": true,
     "grade_id": "query_test",
     "locked": true,
     "points": 9,
     "solution": false
    }
   },
   "outputs": [],
   "source": [
    "modified_conds = [obs['conds'] for obs in observations if obs['visi'] == '10.0']\n",
    "modified_conds = ['Cloudy' if cond == 'Clear' else cond for cond in modified_conds]\n",
    "modified_conds = sorted(modified_conds)\n",
    "assert_equal(query_conds, modified_conds)"
   ]
  },
  {
   "cell_type": "markdown",
   "metadata": {
    "deletable": false,
    "nbgrader": {
     "checksum": "cefa82365ce619f2d4d179f15146b6fb",
     "grade": false,
     "grade_id": "markdown_8",
     "locked": true,
     "solution": false
    }
   },
   "source": [
    "## Deleting Data\n",
    "\n",
    "- Delete all documents whose `conds` attribute is equal to `\"Cloudy\"` from our collection.\n",
    "- Return the number of documents deleted as a validation of the process."
   ]
  },
  {
   "cell_type": "code",
   "execution_count": 18,
   "metadata": {
    "collapsed": true,
    "deletable": false,
    "nbgrader": {
     "checksum": "d6c70137d016ae16532b19d1fe7584bb",
     "grade": false,
     "grade_id": "delete_answer",
     "locked": false,
     "solution": true
    }
   },
   "outputs": [],
   "source": [
    "def delete_data(collection):\n",
    "    '''\n",
    "    Deletes all documents whose \"conds\" == \"Cloudy\".\n",
    "    \n",
    "    Paramters\n",
    "    ---------\n",
    "    collection: A pymongo.Collection instance.\n",
    "\n",
    "    Returns\n",
    "    -------\n",
    "    An int. The number of documents deleted.\n",
    "    '''\n",
    "    \n",
    "    #YOUR CODE HERE\n",
    "    count = len([doc for doc in collection.find({'conds': 'Cloudy'})])\n",
    "    \n",
    "    # delete documents\n",
    "    collection.delete_many({'conds': 'Cloudy'})\n",
    "    \n",
    "    return count"
   ]
  },
  {
   "cell_type": "code",
   "execution_count": 19,
   "metadata": {
    "collapsed": false,
    "deletable": false,
    "nbgrader": {
     "checksum": "4fe2a56bf3038a07d9a4e7167eda8dfa",
     "grade": false,
     "grade_id": "delete_run",
     "locked": true,
     "solution": false
    }
   },
   "outputs": [
    {
     "name": "stdout",
     "output_type": "stream",
     "text": [
      "6 records deleted.\n"
     ]
    }
   ],
   "source": [
    "n_deleted = delete_data(client[dbname]['0101'])\n",
    "print('{0} records deleted.'.format(n_deleted))"
   ]
  },
  {
   "cell_type": "code",
   "execution_count": 20,
   "metadata": {
    "collapsed": false,
    "deletable": false,
    "nbgrader": {
     "checksum": "e157da8a1205a20d1feeff1af562f066",
     "grade": true,
     "grade_id": "delete_test",
     "locked": true,
     "points": 9,
     "solution": false
    }
   },
   "outputs": [],
   "source": [
    "deleted_obs = [obs for obs in modified_conds if obs == 'Cloudy']\n",
    "assert_equal(n_deleted, len(deleted_obs))\n",
    "\n",
    "for cond in set(conds):\n",
    "    if cond != 'Clear' and cond != 'Cloudy':\n",
    "        r = retrieve_data(client[dbname]['0101'], cond)\n",
    "        n = [obs['_id'] for obs in observations if obs['conds'] == cond]\n",
    "        assert_equal(len(r), len(n))\n",
    "        assert_equal(set(r), set(n))"
   ]
  },
  {
   "cell_type": "markdown",
   "metadata": {
    "deletable": false,
    "nbgrader": {
     "checksum": "1c7dc1da948d4e82b90c820b0af642c2",
     "grade": false,
     "grade_id": "markdown_9",
     "locked": true,
     "solution": false
    }
   },
   "source": [
    "## Cleanup\n",
    "\n",
    "When you are done or if you want to start over with a clean database, run the following code cell.\n",
    "\n",
    "PLEASE MAKE SURE TO RUN THIS BEFORE RESTARTING AND RUNNING YOUR CODE!!!"
   ]
  },
  {
   "cell_type": "code",
   "execution_count": 21,
   "metadata": {
    "collapsed": true,
    "deletable": false,
    "nbgrader": {
     "checksum": "8cc4caef0c9477bb3ceba7c8edc1117b",
     "grade": false,
     "grade_id": "cleanup",
     "locked": true,
     "solution": false
    }
   },
   "outputs": [],
   "source": [
    "if dbname in client.database_names():\n",
    "    client.drop_database(dbname)\n",
    "    \n",
    "assert_true(dbname not in client.database_names())"
   ]
  }
 ],
 "metadata": {
  "kernelspec": {
   "display_name": "Python 3",
   "language": "python",
   "name": "python3"
  },
  "language_info": {
   "codemirror_mode": {
    "name": "ipython",
    "version": 3
   },
   "file_extension": ".py",
   "mimetype": "text/x-python",
   "name": "python",
   "nbconvert_exporter": "python",
   "pygments_lexer": "ipython3",
   "version": "3.5.2"
  }
 },
 "nbformat": 4,
 "nbformat_minor": 0
}
