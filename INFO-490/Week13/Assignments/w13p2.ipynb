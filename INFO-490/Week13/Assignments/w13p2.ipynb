{
 "cells": [
  {
   "cell_type": "markdown",
   "metadata": {
    "deletable": false,
    "nbgrader": {
     "checksum": "1891bdcd87c6c960df75b6e90b02b234",
     "grade": false,
     "grade_id": "header",
     "locked": true,
     "solution": false
    }
   },
   "source": [
    "If you are not using the `Assignments` tab on the course JupyterHub server to read this notebook, read [Activating the assignments tab](https://github.com/lcdm-uiuc/info490-sp17/blob/master/help/act_assign_tab.md).\n",
    "\n",
    "A few things you should keep in mind when working on assignments:\n",
    "\n",
    "1. Make sure you fill in any place that says `YOUR CODE HERE`. Do **not** write your answer in anywhere else other than where it says `YOUR CODE HERE`. Anything you write anywhere else will be removed or overwritten by the autograder.\n",
    "\n",
    "2. Before you submit your assignment, make sure everything runs as expected. Go to menubar, select _Kernel_, and restart the kernel and run all cells (_Restart & Run all_).\n",
    "\n",
    "3. Do not change the title (i.e. file name) of this notebook.\n",
    "\n",
    "4. Make sure that you save your work (in the menubar, select _File_ → _Save and CheckPoint_)\n",
    "\n",
    "5. You are allowed to submit an assignment multiple times, but only the most recent submission will be graded."
   ]
  },
  {
   "cell_type": "markdown",
   "metadata": {
    "deletable": false,
    "nbgrader": {
     "checksum": "1fe9db139dadd8059e786a7de08ecb59",
     "grade": false,
     "grade_id": "title",
     "locked": true,
     "solution": false
    }
   },
   "source": [
    "# Problem 13.2. Cassandra\n",
    "\n",
    "In this problem, we use the Cassandra Python database driver to execute CQL (Cassandra Query Language) queries."
   ]
  },
  {
   "cell_type": "code",
   "execution_count": 1,
   "metadata": {
    "collapsed": true,
    "deletable": false,
    "nbgrader": {
     "checksum": "d6a504e8e079e49f0a4d717212fee47f",
     "grade": false,
     "grade_id": "import",
     "locked": true,
     "solution": false
    }
   },
   "outputs": [],
   "source": [
    "import os\n",
    "import json\n",
    "import cassandra\n",
    "from cassandra.cluster import Cluster\n",
    "from cassandra.policies import WhiteListRoundRobinPolicy\n",
    "from cassandra.query import dict_factory\n",
    "from cassandra.cqlengine import connection, management\n",
    "\n",
    "from nose.tools import assert_equal, assert_true, assert_is_instance"
   ]
  },
  {
   "cell_type": "markdown",
   "metadata": {
    "deletable": false,
    "nbgrader": {
     "checksum": "69bef922048f3c43622d960573f5dc65",
     "grade": false,
     "grade_id": "markdown_1",
     "locked": true,
     "solution": false
    }
   },
   "source": [
    "We use the historical weather data from [Weather Underground](http://www.wunderground.com/) to create a database."
   ]
  },
  {
   "cell_type": "code",
   "execution_count": 2,
   "metadata": {
    "collapsed": true,
    "deletable": false,
    "nbgrader": {
     "checksum": "b569adccb3194db3e3661a25a25e3057",
     "grade": false,
     "grade_id": "weather_json",
     "locked": true,
     "solution": false
    }
   },
   "outputs": [],
   "source": [
    "fpath = '/home/data_scientist/data/weather'\n",
    "fname = 'weather_kord_2001_1231.json'\n",
    "\n",
    "with open(os.path.join(fpath, fname)) as f:\n",
    "    weather_json = json.load(f)"
   ]
  },
  {
   "cell_type": "markdown",
   "metadata": {
    "deletable": false,
    "nbgrader": {
     "checksum": "d788be12626508475888db308a334caf",
     "grade": false,
     "grade_id": "markdown_2",
     "locked": true,
     "solution": false
    }
   },
   "source": [
    "For simplicity, we use only two attributes, `wspdi` and `wdire`."
   ]
  },
  {
   "cell_type": "code",
   "execution_count": 3,
   "metadata": {
    "collapsed": false,
    "deletable": false,
    "nbgrader": {
     "checksum": "481462505f76ce1e60cbfb5e62730992",
     "grade": false,
     "grade_id": "observations",
     "locked": true,
     "solution": false
    }
   },
   "outputs": [
    {
     "name": "stdout",
     "output_type": "stream",
     "text": [
      "There are 24 dictionaries in the list.\n",
      "The first element is {'wspdi': '8.1', 'wdire': 'WNW'}\n"
     ]
    }
   ],
   "source": [
    "observations = weather_json['history']['observations']\n",
    "observations = [{key: value for key, value in obs.items() if key in ['wdire', 'wspdi']} for obs in observations]\n",
    "\n",
    "print('There are {} dictionaries in the list.'.format(len(observations)))\n",
    "print('The first element is {}'.format(observations[0]))"
   ]
  },
  {
   "cell_type": "markdown",
   "metadata": {
    "deletable": false,
    "nbgrader": {
     "checksum": "a4ccfc8e00263749970480b5bd041937",
     "grade": false,
     "grade_id": "markdown_3",
     "locked": true,
     "solution": false
    }
   },
   "source": [
    "We use the course Cassandra server on 141.142.211.105  on the default port of 9042:"
   ]
  },
  {
   "cell_type": "code",
   "execution_count": 4,
   "metadata": {
    "collapsed": false,
    "deletable": false,
    "nbgrader": {
     "checksum": "577d07623271f73a1fdd716d455b63a2",
     "grade": false,
     "grade_id": "connect_cassandra",
     "locked": true,
     "solution": false
    }
   },
   "outputs": [
    {
     "name": "stdout",
     "output_type": "stream",
     "text": [
      "Cluster Name: Test Cluster\n",
      "datacenter1: Host: 141.142.211.105 in rack1\n"
     ]
    }
   ],
   "source": [
    "cassandra_ips = ['141.142.211.105 ']\n",
    "\n",
    "# Establish a connection to Cassandra\n",
    "\n",
    "# The Policy is necessary to allow Cassandra to run on Azure.\n",
    "pcy = WhiteListRoundRobinPolicy(cassandra_ips)\n",
    "\n",
    "# Create Connection\n",
    "cluster = Cluster(contact_points=cassandra_ips, load_balancing_policy=pcy)\n",
    "session = cluster.connect()\n",
    "\n",
    "print('Cluster Name: {0}'.format(cluster.metadata.cluster_name))\n",
    "for host in cluster.metadata.all_hosts():\n",
    "    print('{0}: Host: {1} in {2}'\\\n",
    "          .format(host.datacenter, host.address, host.rack))"
   ]
  },
  {
   "cell_type": "markdown",
   "metadata": {
    "deletable": false,
    "nbgrader": {
     "checksum": "ddac9a292d6124fb203c197c3c9886aa",
     "grade": false,
     "grade_id": "markdown_4",
     "locked": true,
     "solution": false
    }
   },
   "source": [
    "To provide distinct environments for each student, each student will create their own keyspace in the shared Cassandra cluster by using their netids."
   ]
  },
  {
   "cell_type": "code",
   "execution_count": 5,
   "metadata": {
    "collapsed": false,
    "deletable": false,
    "nbgrader": {
     "checksum": "212804777d7aa0334f3f36847d4afd93",
     "grade": false,
     "grade_id": "connect_session",
     "locked": true,
     "solution": false
    }
   },
   "outputs": [
    {
     "name": "stdout",
     "output_type": "stream",
     "text": [
      "bigdog\n",
      "fmughal2\n",
      "jkim575\n",
      "thrush2\n",
      "yimingg2\n",
      "\n",
      "CQL Query to recreate this keyspace:\n",
      "----------------------------------------\n",
      "CREATE KEYSPACE yimingg2 WITH replication = {'class': 'SimpleStrategy', 'replication_factor': '1'}  AND durable_writes = true;\n"
     ]
    },
    {
     "name": "stderr",
     "output_type": "stream",
     "text": [
      "/opt/conda/lib/python3.5/site-packages/cassandra/cqlengine/management.py:492: UserWarning: CQLENG_ALLOW_SCHEMA_MANAGEMENT environment variable is not set. Future versions of this package will require this variable to enable management functions.\n",
      "  warnings.warn(msg)\n"
     ]
    }
   ],
   "source": [
    "# Filename containing user's netid\n",
    "fname = '/home/data_scientist/users.txt'\n",
    "with open(fname, 'r') as fin:\n",
    "    netid = fin.readline().rstrip()\n",
    "\n",
    "# We will delete our working directory if it exists before recreating.\n",
    "ks_name = '{0}'.format(netid)\n",
    "\n",
    "session.row_factory = dict_factory\n",
    "\n",
    "connection.set_session(session)\n",
    "\n",
    "# Explicitly set session hosts, this removes annoying warnings.\n",
    "connection.session.hosts = cassandra_ips\n",
    "\n",
    "# Drop Keyspace if it exists\n",
    "if ks_name in cluster.metadata.keyspaces:\n",
    "    management.drop_keyspace(ks_name)\n",
    "\n",
    "# Create Keyspace\n",
    "management.create_keyspace_simple(ks_name, 1)\n",
    "\n",
    "# Set keyspace for this session\n",
    "# Note: If keyspace exists in Cassandra instance, this is only line we need.\n",
    "session.set_keyspace(ks_name)\n",
    "\n",
    "# Display all non-system keyspaces.\n",
    "# Do not change to a different keyspace!\n",
    "\n",
    "keys = [val for val in sorted(cluster.metadata.keyspaces.keys()) if 'system' not in val]\n",
    "for ks in keys:\n",
    "    print(ks)\n",
    "\n",
    "print('\\nCQL Query to recreate this keyspace:')\n",
    "print(40*'-')\n",
    "print(cluster.metadata.keyspaces[ks_name].export_as_string())"
   ]
  },
  {
   "cell_type": "markdown",
   "metadata": {
    "deletable": false,
    "nbgrader": {
     "checksum": "9e8abb23f5eaa5e6bbd6ad11cb8836b1",
     "grade": false,
     "grade_id": "markdown_5",
     "locked": true,
     "solution": false
    }
   },
   "source": [
    "We first drop the table if it exists to ensure a clean slate before we create our new schema and insert data. Note that the table name we will be using in this problem is `weather`."
   ]
  },
  {
   "cell_type": "code",
   "execution_count": 6,
   "metadata": {
    "collapsed": false,
    "deletable": false,
    "nbgrader": {
     "checksum": "9772599634d9d43848571e7c2f5a9127",
     "grade": false,
     "grade_id": "drop_table",
     "locked": true,
     "solution": false
    }
   },
   "outputs": [],
   "source": [
    "def drop_table(session):\n",
    "    '''\n",
    "    Drops \"weather\" table if exists.\n",
    "    \n",
    "    Parameters\n",
    "    ----------\n",
    "    session: A cassandra.cluster.Session instance.\n",
    "    \n",
    "    Returns\n",
    "    -------\n",
    "    A cassandra.cluster.ResultSet instance.\n",
    "    '''\n",
    "    result = session.execute('DROP TABLE IF EXISTS weather;')\n",
    "    return result\n",
    "\n",
    "result = drop_table(session)\n",
    "\n",
    "assert_is_instance(result, cassandra.cluster.ResultSet)\n",
    "assert_equal(result.column_names, None)\n",
    "assert_equal(len(result.current_rows), 0)"
   ]
  },
  {
   "cell_type": "markdown",
   "metadata": {
    "deletable": false,
    "nbgrader": {
     "checksum": "123844e984caff7f5074596df30777d6",
     "grade": false,
     "grade_id": "markdown_6",
     "locked": true,
     "solution": false
    }
   },
   "source": [
    "## Creating Table\n",
    "\n",
    "- Craete a `weather` table that has the following 4 columns:\n",
    "  - `id` (`INT`)\n",
    "  - `date` (`TEXT`)\n",
    "  - `wdire` (`TEXT`)\n",
    "  - `wspdi` (`DOUBLE`)\n",
    "- We will use the `WHERE` clause on both `wdire` and `id` later in this problem, so create an appropriate primary key."
   ]
  },
  {
   "cell_type": "code",
   "execution_count": 19,
   "metadata": {
    "collapsed": false,
    "deletable": false,
    "nbgrader": {
     "checksum": "2308fd34b91ee200ca56557c962c7be4",
     "grade": false,
     "grade_id": "create_answer",
     "locked": false,
     "solution": true
    }
   },
   "outputs": [],
   "source": [
    "def create_table(session):\n",
    "    '''\n",
    "    Creates a \"weather\" table with four attributes:\n",
    "    id, date, wdire, and wspdi.\n",
    "    \n",
    "    Parameters\n",
    "    ----------\n",
    "    session: A cassandra.cluster.Session instance.\n",
    "    \n",
    "    Returns\n",
    "    -------\n",
    "    A cassandra.cluster.ResultSet instance.\n",
    "    '''\n",
    "    \n",
    "    # YOUR CODE HERE\n",
    "    management.create_keyspace_simple(ks_name, 1)\n",
    "    session.set_keyspace(ks_name)\n",
    "    \n",
    "    # create table\n",
    "    create_schema = '''\n",
    "    CREATE TABLE weather (\n",
    "        id int,\n",
    "        date text,\n",
    "        wdire text,\n",
    "        wspdi double,\n",
    "        PRIMARY KEY(id, wdire)\n",
    "    );\n",
    "    '''\n",
    "    result = session.execute(create_schema)\n",
    "    \n",
    "    return result"
   ]
  },
  {
   "cell_type": "code",
   "execution_count": 20,
   "metadata": {
    "collapsed": false,
    "deletable": false,
    "nbgrader": {
     "checksum": "16b786db5b216a0cb1984542d60060ea",
     "grade": false,
     "grade_id": "create_run",
     "locked": true,
     "solution": false
    }
   },
   "outputs": [
    {
     "name": "stderr",
     "output_type": "stream",
     "text": [
      "/opt/conda/lib/python3.5/site-packages/cassandra/cqlengine/management.py:492: UserWarning: CQLENG_ALLOW_SCHEMA_MANAGEMENT environment variable is not set. Future versions of this package will require this variable to enable management functions.\n",
      "  warnings.warn(msg)\n"
     ]
    },
    {
     "name": "stdout",
     "output_type": "stream",
     "text": [
      "<ResponseFuture: query='<SimpleStatement query=\"\n",
      "    CREATE TABLE weather (\n",
      "        id int,\n",
      "        date text,\n",
      "        wdire text,\n",
      "        wspdi double,\n",
      "        PRIMARY KEY(id, wdire)\n",
      "    );\n",
      "    \", consistency=Not Set>' request_id=31 result=None exception=None host=141.142.211.105>\n"
     ]
    }
   ],
   "source": [
    "create_result = create_table(session)\n",
    "print(create_result.response_future)"
   ]
  },
  {
   "cell_type": "code",
   "execution_count": 21,
   "metadata": {
    "collapsed": false,
    "deletable": false,
    "nbgrader": {
     "checksum": "f1ab71f5e65b8b4033cc3f6451f048c9",
     "grade": true,
     "grade_id": "create_test",
     "locked": true,
     "points": 8,
     "solution": false
    }
   },
   "outputs": [],
   "source": [
    "result = session.execute('SELECT * FROM weather;')\n",
    "assert_is_instance(result, cassandra.cluster.ResultSet)\n",
    "assert_equal(set(result.column_names), {'date', 'id', 'wdire', 'wspdi'})\n",
    "assert_equal(len(result.current_rows), 0)"
   ]
  },
  {
   "cell_type": "markdown",
   "metadata": {
    "deletable": false,
    "nbgrader": {
     "checksum": "9045d781e786c5c998e067fd6166186d",
     "grade": false,
     "grade_id": "markdown_7",
     "locked": true,
     "solution": false
    }
   },
   "source": [
    "## Inserting Data\n",
    "\n",
    "- Add the weather data `observations` to our Cassandra database.\n",
    "- The `date` column should be `\"1231\"` for all rows.\n",
    "- The `id` column should start from 1, and `id == 1` should correspond to the first element of `data`, `id == 2` to the second element, and so on."
   ]
  },
  {
   "cell_type": "code",
   "execution_count": 27,
   "metadata": {
    "collapsed": false,
    "deletable": false,
    "nbgrader": {
     "checksum": "7d9b7d9a45e1dd6d820305f099426c10",
     "grade": false,
     "grade_id": "insert_answer",
     "locked": false,
     "solution": true
    }
   },
   "outputs": [],
   "source": [
    "def insert_data(session, data):\n",
    "    '''\n",
    "    Adds new rows to Cassandra database.\n",
    "    \n",
    "    Parameters\n",
    "    ----------\n",
    "    session: A cassandra.cluster.Session instance.\n",
    "    data: A list of dictionaries.\n",
    "    \n",
    "    Returns\n",
    "    -------\n",
    "    A cassandra.cluster.ResultSet instance.\n",
    "    '''\n",
    "    \n",
    "    # YOUR CODE HERE\n",
    "    insert_many = '''\n",
    "    INSERT INTO weather (id, date, wdire, wspdi) \n",
    "    VALUES (:id, :date, :wdire, :wspdi) ;\n",
    "    '''\n",
    "\n",
    "    im_prepared = session.prepare(insert_many)\n",
    "    \n",
    "    for idx, doc in enumerate(data):\n",
    "        result = session.execute(im_prepared, ((idx + 1), '1231', doc['wdire'], float(doc['wspdi'])))\n",
    "    \n",
    "    return result"
   ]
  },
  {
   "cell_type": "code",
   "execution_count": 28,
   "metadata": {
    "collapsed": false,
    "deletable": false,
    "nbgrader": {
     "checksum": "a25aacd9bfd3c7ae2a62c5c07ac17ebc",
     "grade": false,
     "grade_id": "insert_run",
     "locked": true,
     "solution": false
    }
   },
   "outputs": [
    {
     "name": "stdout",
     "output_type": "stream",
     "text": [
      "<ResponseFuture: query='<BoundStatement query=\"\n",
      "    INSERT INTO weather (id, date, wdire, wspdi) \n",
      "    VALUES (:id, :date, :wdire, :wspdi) ;\n",
      "    \", values=(24, '1231', 'WNW', 9.2), consistency=Not Set>' request_id=99 result=None exception=None host=141.142.211.105>\n"
     ]
    }
   ],
   "source": [
    "insert_result = insert_data(session, observations)\n",
    "print(insert_result.response_future)"
   ]
  },
  {
   "cell_type": "code",
   "execution_count": 29,
   "metadata": {
    "collapsed": false,
    "deletable": false,
    "nbgrader": {
     "checksum": "e4ecfb81902cfb39bc3f2868b724f713",
     "grade": true,
     "grade_id": "insert_test",
     "locked": true,
     "points": 8,
     "solution": false
    }
   },
   "outputs": [],
   "source": [
    "result = session.execute('SELECT * FROM weather;')\n",
    "assert_is_instance(result, cassandra.cluster.ResultSet)\n",
    "assert_equal(len(result.current_rows), len(observations))\n",
    "assert_equal(\n",
    "    {row['wdire'] for row in result.current_rows},\n",
    "    {obs['wdire'] for obs in observations}\n",
    "    )\n",
    "assert_equal(\n",
    "    {str(row['wspdi']) for row in result.current_rows},\n",
    "    {obs['wspdi'] for obs in observations}\n",
    "    )\n",
    "assert_true(all(row['date'] == '1231') for row in result.current_rows)\n",
    "assert_equal(\n",
    "    {row['id'] for row in result.current_rows},\n",
    "    set(range(1, len(observations) + 1))\n",
    "    )"
   ]
  },
  {
   "cell_type": "markdown",
   "metadata": {
    "deletable": false,
    "nbgrader": {
     "checksum": "74acb90f6d0e5046adfdac33ab342abd",
     "grade": false,
     "grade_id": "markdown_8",
     "locked": true,
     "solution": false
    }
   },
   "source": [
    "## Retrieving Data\n",
    "\n",
    "- Retrieve the `id` attribute of all rows where the `wdire` attribute of the `weather` table is equal to `direction` (e.g., \"WSW\", \"West\", \"WNW\", etc.)."
   ]
  },
  {
   "cell_type": "code",
   "execution_count": 32,
   "metadata": {
    "collapsed": false,
    "deletable": false,
    "nbgrader": {
     "checksum": "f484a49686f740966808e96c9c65ea92",
     "grade": false,
     "grade_id": "retrieve_answer",
     "locked": false,
     "solution": true
    }
   },
   "outputs": [],
   "source": [
    "def retrieve_data(session, direction):\n",
    "    '''\n",
    "    Retrieves the \"id\" attribute of all rows\n",
    "    where the \"wdire\" attribute of the \"weather\" table\n",
    "    is equal to \"direction\"\n",
    "    \n",
    "    Parameters\n",
    "    ----------\n",
    "    session: A cassandra.cluster.Session instance.\n",
    "    direction: A string, e.g., \"WSW\", \"West\", \"WNW\", etc.\n",
    "    \n",
    "    Returns\n",
    "    -------\n",
    "    A cassandra.cluster.ResultSet instance.\n",
    "\n",
    "    '''\n",
    "    \n",
    "    # YOUR CODE HERE\n",
    "    query = '''\n",
    "SELECT id\n",
    "FROM  weather \n",
    "WHERE wdire = %(ln)s \n",
    "ALLOW FILTERING\n",
    "'''\n",
    "    result = session.execute(query, {'ln': direction})\n",
    "    \n",
    "    return result"
   ]
  },
  {
   "cell_type": "code",
   "execution_count": 33,
   "metadata": {
    "collapsed": false,
    "deletable": false,
    "nbgrader": {
     "checksum": "e92163402d2b206a3b7b4795b766b3bb",
     "grade": false,
     "grade_id": "retrieve_run",
     "locked": true,
     "solution": false
    }
   },
   "outputs": [
    {
     "name": "stdout",
     "output_type": "stream",
     "text": [
      "<ResponseFuture: query='<SimpleStatement query=\"\n",
      "SELECT id\n",
      "FROM  weather \n",
      "WHERE wdire = %(ln)s \n",
      "ALLOW FILTERING\n",
      "\", consistency=Not Set>' request_id=105 result=[{'id': 15}, {'id': 6}] exception=None host=141.142.211.105>\n",
      "\n",
      "RESULTS\n",
      "----------------------------------------\n",
      "id: 15\n",
      "----------------------------------------\n",
      "id: 6\n",
      "----------------------------------------\n"
     ]
    }
   ],
   "source": [
    "retrieve_result = retrieve_data(session, 'WSW')\n",
    "print(retrieve_result.response_future)\n",
    "print(\"\\nRESULTS\")\n",
    "print(40*'-')\n",
    "for row in retrieve_result:\n",
    "    print('id: {0}'.format(row['id']))\n",
    "    print(40*'-')"
   ]
  },
  {
   "cell_type": "code",
   "execution_count": 34,
   "metadata": {
    "collapsed": false,
    "deletable": false,
    "nbgrader": {
     "checksum": "e84affbdc1307db19503d0837d3fc01f",
     "grade": true,
     "grade_id": "retrieve_test",
     "locked": true,
     "points": 8,
     "solution": false
    }
   },
   "outputs": [],
   "source": [
    "assert_is_instance(result, cassandra.cluster.ResultSet)\n",
    "wdire = {obs['wdire'] for obs in observations}\n",
    "for dire in wdire:\n",
    "    r = [row['id'] for row in retrieve_data(session, dire).current_rows]\n",
    "    n = [idx + 1 for idx, obs in enumerate(observations) if obs['wdire'] == dire]\n",
    "    assert_equal(len(r), len(n))\n",
    "    assert_equal(set(r), set(n))"
   ]
  },
  {
   "cell_type": "markdown",
   "metadata": {
    "deletable": false,
    "nbgrader": {
     "checksum": "e10961e83cd9dd43a2f7de6a10fbdd1e",
     "grade": false,
     "grade_id": "markdown_9",
     "locked": true,
     "solution": false
    }
   },
   "source": [
    "## Modifying Data\n",
    "\n",
    "- Change the `wspdi` value to 1.0 for all rows where the `wdire` attribute is equal to `\"WSW\"`."
   ]
  },
  {
   "cell_type": "code",
   "execution_count": 38,
   "metadata": {
    "collapsed": false,
    "deletable": false,
    "nbgrader": {
     "checksum": "7124e51efe2a9b6f93061fde69ff8bd1",
     "grade": false,
     "grade_id": "modify_answer",
     "locked": false,
     "solution": true
    }
   },
   "outputs": [],
   "source": [
    "def modify(session):\n",
    "    '''\n",
    "    Changes \"wspdi\" to 1.0 if \"wdire\" is equal to \"WSW\".\n",
    "    \n",
    "    Parameters\n",
    "    ----------\n",
    "    session: A cassandra.cluster.Session instance.\n",
    "    \n",
    "    Returns\n",
    "    -------\n",
    "    A cassandra.cluster.ResultSet instance.\n",
    "    '''\n",
    "    \n",
    "    # YOUR CODE HERE\n",
    "    dire_data = retrieve_data(session, direction = 'WSW')\n",
    "    \n",
    "    update = '''\n",
    "    UPDATE weather\n",
    "      SET wspdi = 1.0\n",
    "      WHERE wdire = 'WSW' AND id = %(id)s;\n",
    "    '''\n",
    "    \n",
    "    for row in dire_data:\n",
    "        result = session.execute(update, {'id': row['id']})\n",
    "    \n",
    "    return result"
   ]
  },
  {
   "cell_type": "code",
   "execution_count": 39,
   "metadata": {
    "collapsed": false,
    "deletable": false,
    "nbgrader": {
     "checksum": "8d97bfb5c6768a4f82a925ae946ea4cb",
     "grade": false,
     "grade_id": "modify_run",
     "locked": true,
     "solution": false
    }
   },
   "outputs": [
    {
     "name": "stdout",
     "output_type": "stream",
     "text": [
      "<ResponseFuture: query='<SimpleStatement query=\"\n",
      "    UPDATE weather\n",
      "      SET wspdi = 1.0\n",
      "      WHERE wdire = 'WSW' AND id = %(id)s;\n",
      "    \", consistency=Not Set>' request_id=123 result=None exception=None host=141.142.211.105>\n",
      "\n",
      "RESULTS\n",
      "----------------------------------------\n",
      "id: 15\n",
      "wdire: WSW\n",
      "wspdi: 1.0\n",
      "----------------------------------------\n",
      "id: 6\n",
      "wdire: WSW\n",
      "wspdi: 1.0\n",
      "----------------------------------------\n"
     ]
    }
   ],
   "source": [
    "modify_result = modify(session)\n",
    "print(modify_result.response_future)\n",
    "\n",
    "display_query = session.execute(\"SELECT * FROM weather;\")\n",
    "print(\"\\nRESULTS\")\n",
    "print(40*'-')\n",
    "for row in display_query:\n",
    "    if row['wdire'] == 'WSW':\n",
    "        print('id: {0}'.format(row['id']))\n",
    "        print('wdire: {0}'.format(row['wdire']))\n",
    "        print('wspdi: {0}'.format(row['wspdi']))\n",
    "        print(40*'-')"
   ]
  },
  {
   "cell_type": "code",
   "execution_count": 40,
   "metadata": {
    "collapsed": false,
    "deletable": false,
    "nbgrader": {
     "checksum": "3f55082dec8491d2c837a2a8380845fb",
     "grade": true,
     "grade_id": "modify_test",
     "locked": true,
     "points": 8,
     "solution": false
    }
   },
   "outputs": [],
   "source": [
    "result = session.execute('SELECT * FROM weather;')\n",
    "\n",
    "assert_equal(\n",
    "    len([row for row in result.current_rows if row['wdire'] == 'WSW']),\n",
    "    len([obs for obs in observations if obs['wdire'] == 'WSW'])\n",
    "    )\n",
    "\n",
    "wdire = {obs['wdire'] for obs in observations}\n",
    "\n",
    "for dire in wdire:\n",
    "    if dire != 'WSW' and dire != 'WNW':\n",
    "        r = [str(row['wspdi']) for row in result.current_rows if row['wdire'] == dire]\n",
    "        n = [obs['wspdi'] for obs in observations if obs['wdire'] == dire]\n",
    "        assert_equal(len(r), len(n))\n",
    "        assert_equal(set(r), set(n))"
   ]
  },
  {
   "cell_type": "markdown",
   "metadata": {
    "deletable": false,
    "nbgrader": {
     "checksum": "c33c02ae636723e89c71b2636ba2343e",
     "grade": false,
     "grade_id": "markdown_10",
     "locked": true,
     "solution": false
    }
   },
   "source": [
    "## Deleting Data\n",
    "\n",
    "- Delete all rows where the `wdire` attribute is equal to `\"WSW\"`."
   ]
  },
  {
   "cell_type": "code",
   "execution_count": 41,
   "metadata": {
    "collapsed": true,
    "deletable": false,
    "nbgrader": {
     "checksum": "6c1f247b2567f72013a2c5508124bf61",
     "grade": false,
     "grade_id": "delete_answer",
     "locked": false,
     "solution": true
    }
   },
   "outputs": [],
   "source": [
    "def delete(session):\n",
    "    '''\n",
    "    Delete all rows where \"wdire\" is \"WSW\".\n",
    "    \n",
    "    Parameters\n",
    "    ----------\n",
    "    session: A cassandra.cluster.Session instance.\n",
    "    \n",
    "    Returns\n",
    "    -------\n",
    "    A cassandra.cluster.ResultSet instance.\n",
    "    '''\n",
    "    \n",
    "    # YOUR CODE HERE\n",
    "    dire_data = retrieve_data(session, direction = 'WSW')\n",
    "    \n",
    "    delete = '''\n",
    "    DELETE FROM weather\n",
    "      WHERE wdire = 'WSW' AND id = %(id)s;\n",
    "    '''\n",
    "    \n",
    "    for row in dire_data:\n",
    "        result = session.execute(delete, {'id': row['id']})\n",
    "    \n",
    "    return result"
   ]
  },
  {
   "cell_type": "code",
   "execution_count": 42,
   "metadata": {
    "collapsed": false,
    "deletable": false,
    "nbgrader": {
     "checksum": "736b1d10eeac3ff43f7b99d23f7bca86",
     "grade": false,
     "grade_id": "delete_run",
     "locked": true,
     "solution": false
    }
   },
   "outputs": [
    {
     "name": "stdout",
     "output_type": "stream",
     "text": [
      "---------------------------------------- \n",
      "Pre-Delete\n",
      "\n",
      "Records(WSW) count = 2\n",
      "----------------------------------------\n",
      "<ResponseFuture: query='<SimpleStatement query=\"\n",
      "    DELETE FROM weather\n",
      "      WHERE wdire = 'WSW' AND id = %(id)s;\n",
      "    \", consistency=Not Set>' request_id=129 result=None exception=None host=141.142.211.105>\n",
      "---------------------------------------- \n",
      "Post-Delete\n",
      "\n",
      "Records(WSW) count = 0\n"
     ]
    }
   ],
   "source": [
    "count_query_1 = session.execute(\"SELECT COUNT(*) FROM weather WHERE wdire = 'WSW' ALLOW FILTERING\")\n",
    "print((40*'-'),'\\nPre-Delete\\n')\n",
    "print('Records(WSW) count = {0}'.format(count_query_1[0]['count'])) \n",
    "print(40*'-')\n",
    "delete_result = delete(session)\n",
    "print(delete_result.response_future)\n",
    "count_query_2 = session.execute(\"SELECT COUNT(*) FROM weather WHERE wdire = 'WSW' ALLOW FILTERING\")\n",
    "print((40*'-'),'\\nPost-Delete\\n')\n",
    "print('Records(WSW) count = {0}'.format(count_query_2[0]['count']))"
   ]
  },
  {
   "cell_type": "code",
   "execution_count": 43,
   "metadata": {
    "collapsed": false,
    "deletable": false,
    "nbgrader": {
     "checksum": "31c6de92c85cdc8f77e0bc703f1713e0",
     "grade": true,
     "grade_id": "delete_test",
     "locked": true,
     "points": 8,
     "solution": false
    }
   },
   "outputs": [],
   "source": [
    "result = session.execute('SELECT * FROM weather;')\n",
    "\n",
    "assert_equal(len([row for row in result.current_rows if row['wdire'] == 'WSW']), 0)\n",
    "\n",
    "observations = [obs for obs in observations if obs['wdire'] != 'WSW']\n",
    "\n",
    "for dire in wdire:\n",
    "    r = [str(row['wspdi']) for row in result.current_rows if row['wdire'] == dire]\n",
    "    n = [obs['wspdi'] for obs in observations if obs['wdire'] == dire]\n",
    "    assert_equal(len(r), len(n))\n",
    "    assert_equal(set(r), set(n))"
   ]
  }
 ],
 "metadata": {
  "kernelspec": {
   "display_name": "Python 3",
   "language": "python",
   "name": "python3"
  },
  "language_info": {
   "codemirror_mode": {
    "name": "ipython",
    "version": 3
   },
   "file_extension": ".py",
   "mimetype": "text/x-python",
   "name": "python",
   "nbconvert_exporter": "python",
   "pygments_lexer": "ipython3",
   "version": "3.5.2"
  }
 },
 "nbformat": 4,
 "nbformat_minor": 0
}
