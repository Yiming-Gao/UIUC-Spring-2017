{
 "cells": [
  {
   "cell_type": "markdown",
   "metadata": {},
   "source": [
    "# Week 13 Problem 3\n",
    "\n",
    "If you are not using the `Assignments` tab on the course JupyterHub server to read this notebook, read [Activating the assignments tab](https://github.com/lcdm-uiuc/info490-sp17/blob/master/help/act_assign_tab.md).\n",
    "\n",
    "A few things you should keep in mind when working on assignments:\n",
    "\n",
    "1. Make sure you fill in any place that says `YOUR CODE HERE`. Do **not** write your answer in anywhere else other than where it says `YOUR CODE HERE`. Anything you write anywhere else will be removed or overwritten by the autograder.\n",
    "\n",
    "2. Before you submit your assignment, make sure everything runs as expected. Go to menubar, select _Kernel_, and restart the kernel and run all cells (_Restart & Run all_).\n",
    "\n",
    "3. Do not change the title (i.e. file name) of this notebook.\n",
    "\n",
    "4. Make sure that you save your work (in the menubar, select _File_  → _Save and CheckPoint_)\n",
    "\n",
    "5. You are allowed to submit an assignment multiple times, but only the most recent submission will be graded.\n",
    "-----\n",
    "# Problem 13.3. Neo4J\n",
    "\n",
    "In this problem, we will persist a NetworkX graph in Neo4J and then make queries using [CQL](https://www.tutorialspoint.com/neo4j/neo4j_cql_introduction.htm)."
   ]
  },
  {
   "cell_type": "code",
   "execution_count": 1,
   "metadata": {
    "collapsed": true,
    "deletable": false,
    "nbgrader": {
     "checksum": "801da36028d7e5fb7eef08e1e405c882",
     "grade": false,
     "grade_id": "import",
     "locked": true,
     "solution": false
    }
   },
   "outputs": [],
   "source": [
    "import networkx as nx\n",
    "from py2neo import authenticate, Graph, Node, Relationship\n",
    "from py2neo.database import cypher\n",
    "\n",
    "from nose.tools import assert_equal, assert_true, assert_is_instance"
   ]
  },
  {
   "cell_type": "markdown",
   "metadata": {},
   "source": [
    "First, let's get connected to the Neo4J database. \n",
    "In the following code cell, we read in the current user's netid to obtain a unique database name for this Notebook.\n",
    "If you are not able to get connected, you should post in the forum and email TAs immediately. Try not to wait until the last minute, since there might be a lot of traffic that makes the server down."
   ]
  },
  {
   "cell_type": "code",
   "execution_count": 2,
   "metadata": {
    "collapsed": false,
    "deletable": false,
    "nbgrader": {
     "checksum": "7bca45469d5730f74dd2d57ad36c72dc",
     "grade": false,
     "grade_id": "database",
     "locked": true,
     "solution": false
    }
   },
   "outputs": [
    {
     "name": "stdout",
     "output_type": "stream",
     "text": [
      "Creating connection to http://141.142.211.60:7474/db/yimingg2\n",
      "Neo4J Kernel version 2.3.10\n"
     ]
    }
   ],
   "source": [
    "# Filename containing user's netid\n",
    "fname = '/home/data_scientist/users.txt'\n",
    "with open(fname, 'r') as fin:\n",
    "    netid = fin.readline().rstrip()\n",
    "\n",
    "# We will delete our working directory if it exists before recreating.\n",
    "dbname = '{0}'.format(netid)\n",
    "\n",
    "host_ip = '141.142.211.60:7474'\n",
    "username = 'neo4j'\n",
    "password = 'Lcdm#info490'\n",
    "\n",
    "# First we authenticate\n",
    "authenticate(host_port=host_ip, user=username, password=password)\n",
    "\n",
    "# Now create database URL\n",
    "db_url = 'http://{0}/db/{1}'.format(host_ip, dbname)\n",
    "\n",
    "print('Creating connection to {0}'.format(db_url))\n",
    "graph = Graph(db_url)\n",
    "\n",
    "version = graph.dbms.kernel_version\n",
    "print('Neo4J Kernel version {0}.{1}.{2}'.format(version[0], version[1], version[2]))"
   ]
  },
  {
   "cell_type": "markdown",
   "metadata": {},
   "source": [
    "We use the social network of [Florentine Families](https://en.wikipedia.org/wiki/Category:Families_of_Florence) data set. For more information, see [Week 10 Problem 2](../Week10/assignments/w10p2.ipynb)."
   ]
  },
  {
   "cell_type": "code",
   "execution_count": 3,
   "metadata": {
    "collapsed": false,
    "deletable": false,
    "nbgrader": {
     "checksum": "72a2c5d0f3e9e6a6e9c066ed022452dc",
     "grade": false,
     "grade_id": "data",
     "locked": true,
     "solution": false
    }
   },
   "outputs": [],
   "source": [
    "florentine_families = nx.florentine_families_graph()"
   ]
  },
  {
   "cell_type": "markdown",
   "metadata": {},
   "source": [
    "## Persisting Graphs\n",
    "\n",
    "Write a funtion named `persist_graph` that:\n",
    "- Gets all nodes and edges from the NetworkX graph (`florentine_families`), and adds them to the Neo4J database,\n",
    "- Provides a label `\"families\"` to all nodes,\n",
    "- Provides a name using the node name read from the NetworkX graph to all nodes, and\n",
    "- Creates a relationship of `\"tied to\"` for all edges."
   ]
  },
  {
   "cell_type": "code",
   "execution_count": 4,
   "metadata": {
    "collapsed": false,
    "deletable": false,
    "nbgrader": {
     "checksum": "036375d689c8ee7a70ed7d44fb63a8ac",
     "grade": false,
     "grade_id": "persist",
     "locked": false,
     "solution": true
    }
   },
   "outputs": [],
   "source": [
    "def persist_graph(neo_graph, nx_graph):\n",
    "    '''\n",
    "    Persists a NetworkX graph in Neo4J.\n",
    "    All nodes are labeled \"families\".\n",
    "    All edges have connection type \"tied to\".\n",
    "    \n",
    "    Parameters\n",
    "    ----------\n",
    "    neo_graph: A py2neo.database.Graph instance.\n",
    "    nx_graph: A networkx.Graph instance.\n",
    "    '''\n",
    "    \n",
    "    \n",
    "    # YOUR CODE HERE\n",
    "    nnodes = len(nx_graph.nodes())\n",
    "    nodes = []\n",
    "    \n",
    "    for i in range(nnodes):\n",
    "        node = Node('families', name = nx_graph.nodes()[i]) # name for all nodes\n",
    "        neo_graph.create(node)\n",
    "        nodes.append(node)\n",
    "        \n",
    "    for edge in nx_graph.edges():\n",
    "        start = [node for node in nodes if node[\"name\"] == edge[0]] # find start node by name\n",
    "        end = [node for node in nodes if node[\"name\"] == edge[1]] # find end node by name\n",
    "        relation = Relationship(start, 'tied to', end) # create relationship\n",
    "        neo_graph.create(relation)\n",
    "\n",
    "    return None"
   ]
  },
  {
   "cell_type": "code",
   "execution_count": 5,
   "metadata": {
    "collapsed": true,
    "deletable": false,
    "nbgrader": {
     "checksum": "a2e236660989d3184c3e8c7efb0e6312",
     "grade": false,
     "grade_id": "clean1",
     "locked": true,
     "solution": false
    }
   },
   "outputs": [],
   "source": [
    "# clean out graph database\n",
    "graph.delete_all()"
   ]
  },
  {
   "cell_type": "code",
   "execution_count": 6,
   "metadata": {
    "collapsed": false,
    "deletable": false,
    "nbgrader": {
     "checksum": "6f07cabd1f844677f5ddbc3d1f9647cd",
     "grade": false,
     "grade_id": "run1",
     "locked": true,
     "solution": false
    }
   },
   "outputs": [],
   "source": [
    "# execute the function\n",
    "persist_graph(graph, florentine_families)"
   ]
  },
  {
   "cell_type": "code",
   "execution_count": 7,
   "metadata": {
    "collapsed": false,
    "deletable": false,
    "nbgrader": {
     "checksum": "69c74978bb45015456debcb60da08af5",
     "grade": false,
     "grade_id": "showall1",
     "locked": true,
     "solution": false
    }
   },
   "outputs": [
    {
     "name": "stdout",
     "output_type": "stream",
     "text": [
      "('n': (dd50042 {name:\"Castellani\"}), 'r': (dd50042)-[:`tied to`]->(ee54c53), 'm': (ee54c53 {name:\"Barbadori\"}))\n",
      "('n': (e9c8d54 {name:\"Castellani\"}), 'r': (e9c8d54)-[:`tied to`]->(a340bc7), 'm': (a340bc7 {name:\"Peruzzi\"}))\n",
      "('n': (b2146c8 {name:\"Castellani\"}), 'r': (b2146c8)-[:`tied to`]->(deacd77), 'm': (deacd77 {name:\"Strozzi\"}))\n",
      "('n': (ab156c7 {name:\"Pazzi\"}), 'r': (ab156c7)-[:`tied to`]->(f5d81ed), 'm': (f5d81ed {name:\"Salviati\"}))\n",
      "('n': (ac4b7f6 {name:\"Guadagni\"}), 'r': (ac4b7f6)-[:`tied to`]->(bb4f644), 'm': (bb4f644 {name:\"Bischeri\"}))\n",
      "('n': (e605ce3 {name:\"Guadagni\"}), 'r': (e605ce3)-[:`tied to`]->(fc623b3), 'm': (fc623b3 {name:\"Tornabuoni\"}))\n",
      "('n': (b1c6eef {name:\"Guadagni\"}), 'r': (b1c6eef)-[:`tied to`]->(dbbbbc6), 'm': (dbbbbc6 {name:\"Lamberteschi\"}))\n",
      "('n': (c23f0da {name:\"Guadagni\"}), 'r': (c23f0da)-[:`tied to`]->(feedb41), 'm': (feedb41 {name:\"Albizzi\"}))\n",
      "('n': (a646fb1 {name:\"Ridolfi\"}), 'r': (a646fb1)-[:`tied to`]->(d14e31f), 'm': (d14e31f {name:\"Medici\"}))\n",
      "('n': (d318cd1 {name:\"Ridolfi\"}), 'r': (d318cd1)-[:`tied to`]->(ab8ccb1), 'm': (ab8ccb1 {name:\"Tornabuoni\"}))\n",
      "('n': (e34397c {name:\"Ridolfi\"}), 'r': (e34397c)-[:`tied to`]->(fc201be), 'm': (fc201be {name:\"Strozzi\"}))\n",
      "('n': (e13d6f8 {name:\"Albizzi\"}), 'r': (e13d6f8)-[:`tied to`]->(f6f06e3), 'm': (f6f06e3 {name:\"Ginori\"}))\n",
      "('n': (eb1cb0e {name:\"Albizzi\"}), 'r': (eb1cb0e)-[:`tied to`]->(aab5595), 'm': (aab5595 {name:\"Medici\"}))\n",
      "('n': (bab25db {name:\"Salviati\"}), 'r': (bab25db)-[:`tied to`]->(ad711f9), 'm': (ad711f9 {name:\"Medici\"}))\n",
      "('n': (afaec1f {name:\"Strozzi\"}), 'r': (afaec1f)-[:`tied to`]->(c4206f7), 'm': (c4206f7 {name:\"Bischeri\"}))\n",
      "('n': (f910095 {name:\"Strozzi\"}), 'r': (f910095)-[:`tied to`]->(a1f6653), 'm': (a1f6653 {name:\"Peruzzi\"}))\n",
      "('n': (a9b3f14 {name:\"Barbadori\"}), 'r': (a9b3f14)-[:`tied to`]->(fe971a7), 'm': (fe971a7 {name:\"Medici\"}))\n",
      "('n': (bd8b7b0 {name:\"Medici\"}), 'r': (bd8b7b0)-[:`tied to`]->(e10c4a6), 'm': (e10c4a6 {name:\"Tornabuoni\"}))\n",
      "('n': (d23d66d {name:\"Medici\"}), 'r': (d23d66d)-[:`tied to`]->(eccdd1d), 'm': (eccdd1d {name:\"Acciaiuoli\"}))\n",
      "('n': (b1737e7 {name:\"Peruzzi\"}), 'r': (b1737e7)-[:`tied to`]->(cadf35a), 'm': (cadf35a {name:\"Bischeri\"}))\n"
     ]
    }
   ],
   "source": [
    "# do a query to display all nodes and relationships in the database\n",
    "for result in graph.run('START n=node(*) MATCH (n)-[r]->(m) RETURN n,r,m;'):\n",
    "    print(result)"
   ]
  },
  {
   "cell_type": "code",
   "execution_count": 8,
   "metadata": {
    "collapsed": false,
    "deletable": false,
    "nbgrader": {
     "checksum": "70aa664751f1308117d41c5be0a981a5",
     "grade": true,
     "grade_id": "test_nodes",
     "locked": true,
     "points": 15,
     "solution": false
    }
   },
   "outputs": [],
   "source": [
    "# test nodes\n",
    "assert_true(all(isinstance(n['name'], str) for n in graph.find('families')))\n",
    "node_names = [n['name'] for n in graph.find('families')]\n",
    "assert_equal(len(node_names), len(florentine_families.nodes()))\n",
    "assert_equal(set(node_names), set(florentine_families.nodes()))"
   ]
  },
  {
   "cell_type": "code",
   "execution_count": 9,
   "metadata": {
    "collapsed": false,
    "deletable": false,
    "nbgrader": {
     "checksum": "1649260292430fed7d3286476549e5c0",
     "grade": true,
     "grade_id": "test_edges",
     "locked": true,
     "points": 15,
     "solution": false
    }
   },
   "outputs": [],
   "source": [
    "# test relationships\n",
    "edges = [e for e in graph.match(rel_type='tied to')]\n",
    "start_nodes = [e.start_node()['name'] for e in edges]\n",
    "end_nodes = [e.end_node()['name'] for e in edges]\n",
    "\n",
    "assert_equal(len(edges), len(florentine_families.edges()))\n",
    "assert_equal(set(start_nodes), {e[0] for e in florentine_families.edges()})\n",
    "assert_equal(set(end_nodes), {e[1] for e in florentine_families.edges()})"
   ]
  },
  {
   "cell_type": "markdown",
   "metadata": {},
   "source": [
    "## Querying Graphs\n",
    "\n",
    "Write a funtion named `query_graph` that returns a CQL query string. The CQL query does the following:\n",
    "- Finds the two nodes: `\"Medici\"` and `\"Guadagni\"`,\n",
    "- Creates a new relationship `\"business friend of\"` between the two nodes, using `\"Medici\"` as start node and `\"Guadagni\"` as end node, and\n",
    "- Returns the relationship record just created."
   ]
  },
  {
   "cell_type": "code",
   "execution_count": 10,
   "metadata": {
    "collapsed": false,
    "deletable": false,
    "nbgrader": {
     "checksum": "b0c73de2e5e56a45637615d97c35396e",
     "grade": false,
     "grade_id": "query",
     "locked": false,
     "solution": true
    }
   },
   "outputs": [],
   "source": [
    "def query_graph():\n",
    "    '''\n",
    "    Constructs a CQL string that makes a query to the Neo4J database.\n",
    "    Finds nodes \"Medici\" and \"Guadagni\" and makes a new relationship \n",
    "      \"business friend of\" between these two nodes.\n",
    "    \n",
    "    Ruturns\n",
    "    ----------\n",
    "    cql: A string.\n",
    "    '''\n",
    "    \n",
    "    # match two nodes by names\n",
    "    cql = 'MATCH (a: families),(b: families) \\\n",
    "    WHERE a.name = \"Medici\" AND b.name = \"Guadagni\" \\\n",
    "    CREATE (a)-[r:`business friend of`]->(b) \\\n",
    "    RETURN r'\n",
    "    \n",
    "    return cql"
   ]
  },
  {
   "cell_type": "code",
   "execution_count": 11,
   "metadata": {
    "collapsed": false,
    "deletable": false,
    "nbgrader": {
     "checksum": "00554645ba5950d254368b4992c43656",
     "grade": false,
     "grade_id": "run2",
     "locked": true,
     "solution": false
    }
   },
   "outputs": [
    {
     "name": "stdout",
     "output_type": "stream",
     "text": [
      "('r': (cf6a15e)-[:`business friend of`]->(b11a47c))\n"
     ]
    }
   ],
   "source": [
    "# run the query to add the new relationship to the database\n",
    "cql = query_graph()\n",
    "for result in (graph.run(cql)):\n",
    "    print(result)"
   ]
  },
  {
   "cell_type": "code",
   "execution_count": 12,
   "metadata": {
    "collapsed": false,
    "deletable": false,
    "nbgrader": {
     "checksum": "5b9d9202095a85164c94b615dfa05da0",
     "grade": false,
     "grade_id": "showall2",
     "locked": true,
     "solution": false
    }
   },
   "outputs": [
    {
     "name": "stdout",
     "output_type": "stream",
     "text": [
      "('n': (cf6a15e:families {name:\"Medici\"}), 'r': (cf6a15e)-[:`business friend of`]->(b11a47c), 'm': (b11a47c:families {name:\"Guadagni\"}))\n",
      "('n': (dd50042 {name:\"Castellani\"}), 'r': (dd50042)-[:`tied to`]->(ee54c53), 'm': (ee54c53 {name:\"Barbadori\"}))\n",
      "('n': (e9c8d54 {name:\"Castellani\"}), 'r': (e9c8d54)-[:`tied to`]->(a340bc7), 'm': (a340bc7 {name:\"Peruzzi\"}))\n",
      "('n': (b2146c8 {name:\"Castellani\"}), 'r': (b2146c8)-[:`tied to`]->(deacd77), 'm': (deacd77 {name:\"Strozzi\"}))\n",
      "('n': (ab156c7 {name:\"Pazzi\"}), 'r': (ab156c7)-[:`tied to`]->(f5d81ed), 'm': (f5d81ed {name:\"Salviati\"}))\n",
      "('n': (ac4b7f6 {name:\"Guadagni\"}), 'r': (ac4b7f6)-[:`tied to`]->(bb4f644), 'm': (bb4f644 {name:\"Bischeri\"}))\n",
      "('n': (e605ce3 {name:\"Guadagni\"}), 'r': (e605ce3)-[:`tied to`]->(fc623b3), 'm': (fc623b3 {name:\"Tornabuoni\"}))\n",
      "('n': (b1c6eef {name:\"Guadagni\"}), 'r': (b1c6eef)-[:`tied to`]->(dbbbbc6), 'm': (dbbbbc6 {name:\"Lamberteschi\"}))\n",
      "('n': (c23f0da {name:\"Guadagni\"}), 'r': (c23f0da)-[:`tied to`]->(feedb41), 'm': (feedb41 {name:\"Albizzi\"}))\n",
      "('n': (a646fb1 {name:\"Ridolfi\"}), 'r': (a646fb1)-[:`tied to`]->(d14e31f), 'm': (d14e31f {name:\"Medici\"}))\n",
      "('n': (d318cd1 {name:\"Ridolfi\"}), 'r': (d318cd1)-[:`tied to`]->(ab8ccb1), 'm': (ab8ccb1 {name:\"Tornabuoni\"}))\n",
      "('n': (e34397c {name:\"Ridolfi\"}), 'r': (e34397c)-[:`tied to`]->(fc201be), 'm': (fc201be {name:\"Strozzi\"}))\n",
      "('n': (e13d6f8 {name:\"Albizzi\"}), 'r': (e13d6f8)-[:`tied to`]->(f6f06e3), 'm': (f6f06e3 {name:\"Ginori\"}))\n",
      "('n': (eb1cb0e {name:\"Albizzi\"}), 'r': (eb1cb0e)-[:`tied to`]->(aab5595), 'm': (aab5595 {name:\"Medici\"}))\n",
      "('n': (bab25db {name:\"Salviati\"}), 'r': (bab25db)-[:`tied to`]->(ad711f9), 'm': (ad711f9 {name:\"Medici\"}))\n",
      "('n': (fabbf49 {name:\"Strozzi\"}), 'r': (fabbf49)-[:`tied to`]->(c90a686), 'm': (c90a686 {name:\"Bischeri\"}))\n",
      "('n': (af18951 {name:\"Strozzi\"}), 'r': (af18951)-[:`tied to`]->(a9c5170), 'm': (a9c5170 {name:\"Peruzzi\"}))\n",
      "('n': (f8007ae {name:\"Barbadori\"}), 'r': (f8007ae)-[:`tied to`]->(d7319fa), 'm': (d7319fa {name:\"Medici\"}))\n",
      "('n': (d2090a8 {name:\"Medici\"}), 'r': (d2090a8)-[:`tied to`]->(b5f9403), 'm': (b5f9403 {name:\"Tornabuoni\"}))\n",
      "('n': (cb8796d {name:\"Medici\"}), 'r': (cb8796d)-[:`tied to`]->(f0e44ae), 'm': (f0e44ae {name:\"Acciaiuoli\"}))\n",
      "('n': (b1737e7 {name:\"Peruzzi\"}), 'r': (b1737e7)-[:`tied to`]->(cadf35a), 'm': (cadf35a {name:\"Bischeri\"}))\n"
     ]
    }
   ],
   "source": [
    "# do a query to display all nodes and relationships in the database\n",
    "for result in graph.run('START n=node(*) MATCH (n)-[r]->(m) RETURN n,r,m;'):\n",
    "    print(result)"
   ]
  },
  {
   "cell_type": "code",
   "execution_count": 13,
   "metadata": {
    "collapsed": false,
    "deletable": false,
    "nbgrader": {
     "checksum": "a2d54476d84ce174eb76dcecd8b1445f",
     "grade": true,
     "grade_id": "test_query",
     "locked": true,
     "points": 10,
     "solution": false
    }
   },
   "outputs": [],
   "source": [
    "# tests\n",
    "assert_equal(type(cql), str)\n",
    "\n",
    "new_edge = [e for e in graph.match(rel_type='business friend of')]\n",
    "new_edge_start = [e.start_node()['name'] for e in new_edge]\n",
    "new_edge_end = [e.end_node()['name'] for e in new_edge]\n",
    "\n",
    "assert_equal(len(new_edge), 1)\n",
    "assert_equal(new_edge_start[0], 'Medici')\n",
    "assert_equal(new_edge_end[0], 'Guadagni')"
   ]
  },
  {
   "cell_type": "markdown",
   "metadata": {},
   "source": [
    "## Cleanup"
   ]
  },
  {
   "cell_type": "code",
   "execution_count": 14,
   "metadata": {
    "collapsed": true,
    "deletable": false,
    "nbgrader": {
     "checksum": "dfabdeb3b8ed07a6cc13ea7e6d0ecfbf",
     "grade": false,
     "grade_id": "clean2",
     "locked": true,
     "solution": false
    }
   },
   "outputs": [],
   "source": [
    "# clean out graph database\n",
    "graph.delete_all()"
   ]
  }
 ],
 "metadata": {
  "kernelspec": {
   "display_name": "Python 3",
   "language": "python",
   "name": "python3"
  },
  "language_info": {
   "codemirror_mode": {
    "name": "ipython",
    "version": 3
   },
   "file_extension": ".py",
   "mimetype": "text/x-python",
   "name": "python",
   "nbconvert_exporter": "python",
   "pygments_lexer": "ipython3",
   "version": "3.5.2"
  }
 },
 "nbformat": 4,
 "nbformat_minor": 2
}
