{
 "cells": [
  {
   "cell_type": "markdown",
   "metadata": {},
   "source": [
    "<DIV ALIGN=CENTER>\n",
    "\n",
    "# Introduction to MongoDB\n",
    "## Professor Robert J. Brunner\n",
    "  \n",
    "</DIV>  \n",
    "-----\n",
    "-----"
   ]
  },
  {
   "cell_type": "markdown",
   "metadata": {},
   "source": [
    "## Introduction\n",
    "\n",
    "In the previous course, we discussed relational databases, SQL, and\n",
    "using Python to work with relational databases. With the rapid growth\n",
    "in large data sets, however, there has been an explosion in new database\n",
    "technologies. In this IPython Notebook, we explore [MongoDB][mdb], one\n",
    "of the more popular new database technologies.  [MongoDB][mdbw] is a\n",
    "NoSQL document-oriented database, which means it is _not only SQL_ and\n",
    "stores data as documents. The data are stored using dynamic schemas that\n",
    "employ _BSON_ format, which is JSON-like format. For more information,\n",
    "the [MongoDB documentation website][mdbd] provides a wealth of useful\n",
    "information.\n",
    "\n",
    "-----\n",
    "[mdb]: https://www.mongodb.org\n",
    "[mdbw]: https://en.wikipedia.org/wiki/MongoDB\n",
    "[mdbd]: https://docs.mongodb.org/manual/"
   ]
  },
  {
   "cell_type": "markdown",
   "metadata": {},
   "source": [
    "## Python and MongoDB\n",
    "\n",
    "To use Python to interact with MongoDB, we need to use a suitable Python\n",
    "library. The recommended Python library is [_pymongo_][pymdb], which\n",
    "provides support for establishing a connection between a Python program\n",
    "and a MongoDB server as well as support tools for working with MongoDB. \n",
    "\n",
    "We have already installed _pymongo_ in the course Docker container;\n",
    "however, you can easily install is by using `pip`, for example to\n",
    "install _pymongo_ for use with Python3 for the current user, we can\n",
    "execute:\n",
    "\n",
    "```bash\n",
    "pip3 install pymongo --user\n",
    "```\n",
    "\n",
    "Once this library is installed, we can import the MongoDB client to\n",
    "establish a connection and retrieve data and MongoDB information.\n",
    "\n",
    "```python\n",
    "from pymongo import MongoClient\n",
    "```\n",
    "\n",
    "-----\n",
    "\n",
    "[pymdb]: http://api.mongodb.org/python/current/"
   ]
  },
  {
   "cell_type": "code",
   "execution_count": 1,
   "metadata": {
    "collapsed": false
   },
   "outputs": [],
   "source": [
    "from pymongo import MongoClient"
   ]
  },
  {
   "cell_type": "markdown",
   "metadata": {},
   "source": [
    "-----\n",
    "\n",
    "## Local MongoDB Server\n",
    "\n",
    "To use a local MongoDB server, for instance, a MongoDB server running\n",
    "inside our course Docker container, we need to first start the server.\n",
    "To do this, open a terminal window inside the Docker container, most\n",
    "easily done using the _New_ menu on the JupyterHub Server homepage,\n",
    "followed by _Terminal_.\n",
    "\n",
    "Inside this new terminal window, start up the MongoDB server by issuing\n",
    "the following command:\n",
    "\n",
    "```bash \n",
    "mongod --nojournal \n",
    "``` \n",
    "\n",
    "This will start the mongo database daemon with no journaling (since we\n",
    "are not worried about crash safety). This will produce a list of\n",
    "messages in your terminal window. At this point the local server is\n",
    "ready to start accepting connections. To open a connection to the\n",
    "localhost using pymongo, we establish a new MongoDB client:\n",
    "\n",
    "\n",
    "```python\n",
    "client = MongoClient()\n",
    "```\n",
    "\n",
    "which assumes a local server with default port. Alternatively, we can\n",
    "explicitly list the hostname and port, which is preferred since it is\n",
    "easier to recognize the server and port number, which can be easily\n",
    "changed when we move to a remote MongoDB server.\n",
    "\n",
    "```python\n",
    "client = MongoClient(\"mongodb://localhost:27017\")\n",
    "```\n",
    "\n",
    "which connects to the local MongoDB daemon using the default local host\n",
    "name and port.\n",
    "\n",
    "-----"
   ]
  },
  {
   "cell_type": "markdown",
   "metadata": {},
   "source": [
    "## Remote MongoDB Server\n",
    "\n",
    "To connect to a remote MongoDB server, for instance by using the course MongoDB cloud computing system, hosted by NCSA's Nebula cloud computing system, we simply need the IP address for the server and the port number on which the MongoDB daemon is listening. For this course, Notebooks running on the course JupyterHub Server can access a MongoDB server on `141.142.211.6` and the default port number of `27017`:\n",
    "\n",
    "\n",
    "```python\n",
    "client = MongoClient(\"mongodb://141.142.211.6:27017\")\n",
    "```\n",
    "\n",
    "-----"
   ]
  },
  {
   "cell_type": "code",
   "execution_count": 2,
   "metadata": {
    "collapsed": false
   },
   "outputs": [],
   "source": [
    "# Establish a connection to MongoDB (uncomment only one of these lines)\n",
    "\n",
    "# For remote course server use\n",
    "client = MongoClient(\"mongodb://141.142.211.6:27017\")\n",
    "\n",
    "# For local Docker server use (this will not work in INFO490)\n",
    "#client = MongoClient(\"mongodb://localhost:27017\")"
   ]
  },
  {
   "cell_type": "markdown",
   "metadata": {},
   "source": [
    "-----\n",
    "## MongoDB Database\n",
    "\n",
    "MongoDB provides storage for collections of documents. To manage a set\n",
    "of related collections, MongoDB uses the concept of a database. Thus a\n",
    "MongoDB database is similar to a standard relational database, which\n",
    "contains a collection of tables.\n",
    "\n",
    "In the next few sections, we explore the _pymongo_ library in a similar\n",
    "manner as the official [_pymongo_ tutorial][pymt]. In addition, in this\n",
    "Notebook we use dictionary style access to acquire a database,\n",
    "collection, or document. There is also an attribute style method to\n",
    "access these items, but dictionary style is preferred since it reinforces\n",
    "that concept that MongoDB is a document style database and that Python\n",
    "dictionaries are used to create document schema. In addition, the\n",
    "dictionary style enables names to be used that might not be legal Python\n",
    "names, such as `test-database`. \n",
    "\n",
    "Finally, since we are using a shared resource without authentication, we\n",
    "use your netid to create a database for each student. Do not try to\n",
    "access other student's databases, the cloud system has logging enabled\n",
    "that will allow us to identify any such effort, which will be punished\n",
    "with an instructor determined point reduction.\n",
    "\n",
    "-----\n",
    "[pymt]: http://api.mongodb.org/python/current/tutorial.html"
   ]
  },
  {
   "cell_type": "code",
   "execution_count": 3,
   "metadata": {
    "collapsed": false
   },
   "outputs": [
    {
     "name": "stdout",
     "output_type": "stream",
     "text": [
      "Existing databases: []\n"
     ]
    }
   ],
   "source": [
    "# Filename containing user's netid\n",
    "fname = '/home/data_scientist/users.txt'\n",
    "with open(fname, 'r') as fin:\n",
    "    netid = fin.readline().rstrip()\n",
    "\n",
    "# We will delete our working directory if it exists before recreating.\n",
    "dbname = 'test-{0}'.format(netid)\n",
    "\n",
    "if  dbname in client.database_names():\n",
    "    client.drop_database(dbname)\n",
    "\n",
    "print('Existing databases:', client.database_names())"
   ]
  },
  {
   "cell_type": "code",
   "execution_count": 4,
   "metadata": {
    "collapsed": false
   },
   "outputs": [
    {
     "name": "stdout",
     "output_type": "stream",
     "text": [
      "Existing databases: []\n"
     ]
    }
   ],
   "source": [
    "# now create, by accessing, our new database\n",
    "db = client[dbname]\n",
    "print('Existing databases:', client.database_names())"
   ]
  },
  {
   "cell_type": "markdown",
   "metadata": {},
   "source": [
    "----\n",
    "\n",
    "MongoDB utilizes _lazy evaluation_ when creating databases or\n",
    "collections, which simply means these objects are not created until\n",
    "they are actually needed. This is shown previously for databases, where\n",
    "we create a new `test-database` but the new database does not show up in\n",
    "the list of active MongoDB databases. This database will not even be\n",
    "created when we add a collection; instead it will be created when we\n",
    "first add data to a collection, which is demonstrated in the next few\n",
    "code cells.\n",
    "\n",
    "We now create a new collection, entitled `test-collection` into which we\n",
    "can insert new data.\n",
    "\n",
    "-----"
   ]
  },
  {
   "cell_type": "code",
   "execution_count": 5,
   "metadata": {
    "collapsed": false
   },
   "outputs": [
    {
     "name": "stdout",
     "output_type": "stream",
     "text": [
      "Existing databases: []\n",
      "Existing collections: []\n"
     ]
    }
   ],
   "source": [
    "# Create a test collection in our working directory\n",
    "\n",
    "collection = db['test_collection']\n",
    "\n",
    "print('Existing databases:', client.database_names())\n",
    "print('Existing collections:', db.collection_names())"
   ]
  },
  {
   "cell_type": "markdown",
   "metadata": {},
   "source": [
    "-----\n",
    "\n",
    "## Using MongoDB\n",
    "\n",
    "Unlike a relational database, MongoDB is schema-less. We insert documents\n",
    "into a MongoDB database without creating tables or schemas. MongoDB\n",
    "does, however, support traditional database operations such as inserting\n",
    "data, querying data, updating data, and deleting data. These operations\n",
    "typically come in two forms:\n",
    "\n",
    "- `xxx_one()`, which works on one document.\n",
    "- `xxx_many()`, which operates on multiple documents.\n",
    "\n",
    "where the `xxx` can be `insert`, `find`, `update`, or `delete` to add,\n",
    "search, replace, or remove data from a MongoDB database. \n",
    "\n",
    "In the rest of this Notebook, we demonstrate these functionalities with\n",
    "an example data set similar to the data set used in the relational\n",
    "database notebook.\n",
    "\n",
    "-----"
   ]
  },
  {
   "cell_type": "markdown",
   "metadata": {},
   "source": [
    "\n",
    "## Inserting Data\n",
    "\n",
    "Given a collection, we can easily add new _documents_ to our MongoDB\n",
    "collection by employing a Python dictionary to map the document schema\n",
    "to the document data. In the following code cell, we first create a\n",
    "`student` document, followed by a `students` collection to hold\n",
    "`student` documents, and we insert the first student by using the\n",
    "`insert_one` method on the `students` collection. We retrieve this new\n",
    "students id, which we display as a validation of this process. After\n",
    "this process, we display the newly created database and collection.\n",
    "\n",
    "-----"
   ]
  },
  {
   "cell_type": "code",
   "execution_count": 6,
   "metadata": {
    "collapsed": false
   },
   "outputs": [
    {
     "name": "stdout",
     "output_type": "stream",
     "text": [
      "New Student ID:  58e01b34d4be7f78c5176cdc\n"
     ]
    }
   ],
   "source": [
    "student = {'fname': 'Jane',\n",
    "           'lname': 'Doe',\n",
    "           'company': 'bdg surf shop'}\n",
    "\n",
    "students = db['students']\n",
    "\n",
    "jane_id = students.insert_one(student).inserted_id\n",
    "print(\"New Student ID: \", jane_id)"
   ]
  },
  {
   "cell_type": "code",
   "execution_count": 7,
   "metadata": {
    "collapsed": false
   },
   "outputs": [
    {
     "name": "stdout",
     "output_type": "stream",
     "text": [
      "Existing databases: ['test-bigdog']\n",
      "Existing collections: ['students']\n"
     ]
    }
   ],
   "source": [
    "print('Existing databases:', client.database_names())\n",
    "print('Existing collections:', db.collection_names())"
   ]
  },
  {
   "cell_type": "markdown",
   "metadata": {},
   "source": [
    "-----\n",
    "\n",
    "Unlike relational database tables, a MongoDB collection can store\n",
    "documents that have different schema. We demonstrate this in the next\n",
    "two code cells where we create two new students that each have different\n",
    "schema from the original student. Atfer inserting these new students, we\n",
    "count the number of documents in the `students` collection.\n",
    "\n",
    "-----"
   ]
  },
  {
   "cell_type": "code",
   "execution_count": 8,
   "metadata": {
    "collapsed": false
   },
   "outputs": [
    {
     "name": "stdout",
     "output_type": "stream",
     "text": [
      "New Student ID:  58e01b34d4be7f78c5176cdd\n"
     ]
    }
   ],
   "source": [
    "student = {'fname': 'John',\n",
    "           'lname': 'Doe',\n",
    "           'company': 'bdg surf shop',\n",
    "           'lucky_numbers': [2, 5, 9, 13, 27]}\n",
    "\n",
    "john_id = students.insert_one(student).inserted_id\n",
    "print(\"New Student ID: \", john_id)"
   ]
  },
  {
   "cell_type": "code",
   "execution_count": 9,
   "metadata": {
    "collapsed": false
   },
   "outputs": [
    {
     "name": "stdout",
     "output_type": "stream",
     "text": [
      "New Student ID:  58e01b34d4be7f78c5176cde\n"
     ]
    }
   ],
   "source": [
    "import datetime\n",
    "\n",
    "student = {'fname': 'Pat',\n",
    "           'lname': 'Doe',\n",
    "           'company': 'bdg surf shop',\n",
    "           'hire_date': datetime.datetime.utcnow()}\n",
    "\n",
    "pat_id = students.insert_one(student).inserted_id\n",
    "print(\"New Student ID: \", pat_id)"
   ]
  },
  {
   "cell_type": "code",
   "execution_count": 10,
   "metadata": {
    "collapsed": false
   },
   "outputs": [
    {
     "name": "stdout",
     "output_type": "stream",
     "text": [
      "Number of students =  3\n"
     ]
    }
   ],
   "source": [
    "print(\"Number of students = \", students.count())"
   ]
  },
  {
   "cell_type": "markdown",
   "metadata": {},
   "source": [
    "-----\n",
    "\n",
    "We can also insert multiple documents at once by collecting the new\n",
    "documents in a Python `list` and using the `insert_many` method to\n",
    "perform a bulk insert.\n",
    "\n",
    "-----"
   ]
  },
  {
   "cell_type": "code",
   "execution_count": 11,
   "metadata": {
    "collapsed": false
   },
   "outputs": [
    {
     "name": "stdout",
     "output_type": "stream",
     "text": [
      "[ObjectId('58e01b34d4be7f78c5176cdf'), ObjectId('58e01b34d4be7f78c5176ce0')]\n"
     ]
    }
   ],
   "source": [
    "new_students = [\n",
    "    {'fname': 'Mike',\n",
    "     'lname': 'Simone',\n",
    "     'company': 'Del Ray Enterprises',\n",
    "    'products': [{'id': 1, 'name': 'eyeware'}, {'id': 2, 'name': 'hat'},]},\n",
    "    {'fname': 'Clair',\n",
    "     'lname': 'Hwu',\n",
    "     'company': 'Hoboken Surfware Incorporated',\n",
    "     'comment': 'Great supplier, fast, fair, and courteous.'}]\n",
    "\n",
    "result = students.insert_many(new_students)\n",
    "\n",
    "print(result.inserted_ids)"
   ]
  },
  {
   "cell_type": "code",
   "execution_count": 12,
   "metadata": {
    "collapsed": false
   },
   "outputs": [
    {
     "name": "stdout",
     "output_type": "stream",
     "text": [
      "Number of students =  5\n"
     ]
    }
   ],
   "source": [
    "print(\"Number of students = \", students.count())"
   ]
  },
  {
   "cell_type": "markdown",
   "metadata": {},
   "source": [
    "-----\n",
    "\n",
    "## Retrieving Data\n",
    "\n",
    "MongoDB provides `find_one` and `find` methods that can be used to find\n",
    "one or more documents in a collection. The first method, `find_one`,\n",
    "simply returns one document (by default the first document in the\n",
    "collection) unless an argument is supplied that specifically selects\n",
    "documents. For example, the second code cell is used to find one\n",
    "document with a specific id value. More generally, the `find` method can\n",
    "be used to iterate over all (or given a suitable argument, a limited set\n",
    "of) documents in the collection, as demonstrated in the third code cell.\n",
    "\n",
    "-----"
   ]
  },
  {
   "cell_type": "code",
   "execution_count": 13,
   "metadata": {
    "collapsed": false
   },
   "outputs": [
    {
     "data": {
      "text/plain": [
       "{'_id': ObjectId('58e01b34d4be7f78c5176cdc'),\n",
       " 'company': 'bdg surf shop',\n",
       " 'fname': 'Jane',\n",
       " 'lname': 'Doe'}"
      ]
     },
     "execution_count": 13,
     "metadata": {},
     "output_type": "execute_result"
    }
   ],
   "source": [
    "students.find_one()"
   ]
  },
  {
   "cell_type": "code",
   "execution_count": 14,
   "metadata": {
    "collapsed": false
   },
   "outputs": [
    {
     "data": {
      "text/plain": [
       "{'_id': ObjectId('58e01b34d4be7f78c5176cde'),\n",
       " 'company': 'bdg surf shop',\n",
       " 'fname': 'Pat',\n",
       " 'hire_date': datetime.datetime(2017, 4, 1, 21, 27, 16, 445000),\n",
       " 'lname': 'Doe'}"
      ]
     },
     "execution_count": 14,
     "metadata": {},
     "output_type": "execute_result"
    }
   ],
   "source": [
    "students.find_one({\"_id\": pat_id})"
   ]
  },
  {
   "cell_type": "code",
   "execution_count": 15,
   "metadata": {
    "collapsed": false
   },
   "outputs": [
    {
     "name": "stdout",
     "output_type": "stream",
     "text": [
      "{'_id': ObjectId('58e01b34d4be7f78c5176cdc'), 'company': 'bdg surf shop', 'lname': 'Doe', 'fname': 'Jane'}\n",
      "{'lucky_numbers': [2, 5, 9, 13, 27], '_id': ObjectId('58e01b34d4be7f78c5176cdd'), 'company': 'bdg surf shop', 'lname': 'Doe', 'fname': 'John'}\n",
      "{'_id': ObjectId('58e01b34d4be7f78c5176cde'), 'company': 'bdg surf shop', 'lname': 'Doe', 'hire_date': datetime.datetime(2017, 4, 1, 21, 27, 16, 445000), 'fname': 'Pat'}\n",
      "{'_id': ObjectId('58e01b34d4be7f78c5176cdf'), 'company': 'Del Ray Enterprises', 'products': [{'name': 'eyeware', 'id': 1}, {'name': 'hat', 'id': 2}], 'lname': 'Simone', 'fname': 'Mike'}\n",
      "{'_id': ObjectId('58e01b34d4be7f78c5176ce0'), 'comment': 'Great supplier, fast, fair, and courteous.', 'company': 'Hoboken Surfware Incorporated', 'lname': 'Hwu', 'fname': 'Clair'}\n"
     ]
    }
   ],
   "source": [
    "for student in students.find():\n",
    "    print(student)"
   ]
  },
  {
   "cell_type": "markdown",
   "metadata": {},
   "source": [
    "-----\n",
    "\n",
    "As previously mentioned, we can also use the `find` method to quickly\n",
    "identify specific documents in a collection, over which we can iterate\n",
    "to perform additional operations. In the following code cells, we first\n",
    "search for documents with the _last name_ attribute equal to `Hwu`,\n",
    "after which, we apply the `count` method to the set of documents\n",
    "returned by searching for _last name_ equal to `Doe`.\n",
    "\n",
    "-----"
   ]
  },
  {
   "cell_type": "code",
   "execution_count": 16,
   "metadata": {
    "collapsed": false
   },
   "outputs": [
    {
     "name": "stdout",
     "output_type": "stream",
     "text": [
      "{'_id': ObjectId('58e01b34d4be7f78c5176ce0'), 'comment': 'Great supplier, fast, fair, and courteous.', 'company': 'Hoboken Surfware Incorporated', 'lname': 'Hwu', 'fname': 'Clair'}\n"
     ]
    }
   ],
   "source": [
    "for student in students.find({\"lname\": \"Hwu\"}):\n",
    "    print(student)"
   ]
  },
  {
   "cell_type": "code",
   "execution_count": 17,
   "metadata": {
    "collapsed": false
   },
   "outputs": [
    {
     "name": "stdout",
     "output_type": "stream",
     "text": [
      "Number of students =  3\n"
     ]
    }
   ],
   "source": [
    "print(\"Number of students = \", students.find({\"lname\": \"Doe\"}).count())"
   ]
  },
  {
   "cell_type": "markdown",
   "metadata": {},
   "source": [
    "-----\n",
    "\n",
    "Given a document, we can also extract specific value by employing\n",
    "dictionary style access, which should make sense since the document is\n",
    "accessed in Python as a dictionary object. In the following example, we\n",
    "extract the first and last names for all documents. Obviously this\n",
    "requires that all documents contain these values, if not, an error is\n",
    "generated. But handling these conditions is beyond the scope of this\n",
    "Notebook.\n",
    "\n",
    "-----"
   ]
  },
  {
   "cell_type": "code",
   "execution_count": 18,
   "metadata": {
    "collapsed": false
   },
   "outputs": [
    {
     "name": "stdout",
     "output_type": "stream",
     "text": [
      "Jane Doe\n",
      "John Doe\n",
      "Pat Doe\n",
      "Mike Simone\n",
      "Clair Hwu\n"
     ]
    }
   ],
   "source": [
    "for student in students.find():\n",
    "    print(student['fname'], student['lname'])"
   ]
  },
  {
   "cell_type": "markdown",
   "metadata": {},
   "source": [
    "-----\n",
    "\n",
    "## Modifying Data\n",
    "\n",
    "We can [modify documents][um] in a MongoDB database by finding the\n",
    "relevant document(s) and setting the attributes to the new values. Given\n",
    "the flexible document nature of MongoDB, this actual updating process is\n",
    "more complicated than in other types of databases. For example, we first\n",
    "find the document to update, and then we must instruct MongoDB to change\n",
    "the appropriate values. Finding the relevant document or documents is\n",
    "identical to the techniques presented previously to find documents.\n",
    "\n",
    "The second step is to indicate what document attributes should be\n",
    "modified. First, to modify an existing attribute, we create a dictionary\n",
    "that defines a `$set` key, followed by a dictionary that contains\n",
    "mappings between the attribute name and the new value. By using a\n",
    "dictionary, we are able to modify multiple values in this manner all at\n",
    "once. For example, we would have the following dictionary to modify the\n",
    "`fname` attribute to have the value `Peter`:\n",
    "\n",
    "```python\n",
    "{'$set': {'fname': 'Peter'}}\n",
    "```\n",
    "\n",
    "[Other operators][uo] can be used beyond the `$set` operator, including\n",
    "the `$inc` to increment a value, or `$rename` to rename an attribute. To\n",
    "add new attributes and values to a document, we simply pass them in via\n",
    "a dictionary. These concepts are demonstrated in the following code\n",
    "cells, where we first insert several new documents. Next, we modify one\n",
    "document by replacing a value and adding a new attribute.\n",
    "\n",
    "-----\n",
    "[um]: https://docs.mongodb.org/getting-started/python/update/\n",
    "[uo]: https://docs.mongodb.org/manual/reference/operator/update/"
   ]
  },
  {
   "cell_type": "code",
   "execution_count": 19,
   "metadata": {
    "collapsed": false
   },
   "outputs": [
    {
     "name": "stdout",
     "output_type": "stream",
     "text": [
      "[ObjectId('58e01b35d4be7f78c5176ce1'), ObjectId('58e01b35d4be7f78c5176ce2'), ObjectId('58e01b35d4be7f78c5176ce3'), ObjectId('58e01b35d4be7f78c5176ce4')]\n",
      "Number of students =  9\n"
     ]
    }
   ],
   "source": [
    "# Simple, temporary data that we will modify and delete\n",
    "temp_students = [{'fname': 'Petr', 'lname': 'Dow', 'company': 'bdg surf shop'},\n",
    "                 {'fname': 'Paul', 'lname': 'Dow', 'company': 'bdg surf shop'},\n",
    "                 {'fname': 'Mary', 'lname': 'Dow', 'company': 'bdg surf shop'},\n",
    "                 {'fname': 'Arthur', 'lname': 'Dow', 'company': 'bdg surf shop'}]\n",
    "\n",
    "# Insert new temporary data\n",
    "temp_results = students.insert_many(temp_students)\n",
    "\n",
    "print(temp_results.inserted_ids)                 \n",
    "print(\"Number of students = \", students.count())"
   ]
  },
  {
   "cell_type": "code",
   "execution_count": 20,
   "metadata": {
    "collapsed": false
   },
   "outputs": [
    {
     "name": "stdout",
     "output_type": "stream",
     "text": [
      "1 student records modified.\n",
      "{'_id': ObjectId('58e01b35d4be7f78c5176ce1'), 'reason': 'typo in name', 'company': 'bdg surf shop', 'lname': 'Dow', 'fname': 'Peter'}\n"
     ]
    }
   ],
   "source": [
    "uo_result = students.update_one({'fname': 'Petr'}, {'$set': {'fname': 'Peter',\n",
    "                                                             'reason': 'typo in name'}})\n",
    "\n",
    "print('{0} student records modified.'.format(uo_result.modified_count))\n",
    "for student in students.find({\"fname\": \"Peter\"}):\n",
    "    print(student)"
   ]
  },
  {
   "cell_type": "markdown",
   "metadata": {},
   "source": [
    "-----\n",
    "\n",
    "We can also update multiple documents by using the `update_many` method.\n",
    "This method works in the same manner as `update_one`, but it will update\n",
    "all matching documents. This function is demonstrated in the following\n",
    "code cell, where the company name is updated and a new `hire_date`\n",
    "attribute is added to each document that has an original `company` name\n",
    "of `bdg surf shop`.\n",
    "\n",
    "-----"
   ]
  },
  {
   "cell_type": "code",
   "execution_count": 21,
   "metadata": {
    "collapsed": false
   },
   "outputs": [
    {
     "name": "stdout",
     "output_type": "stream",
     "text": [
      "7 student records modified.\n",
      "{'_id': ObjectId('58e01b34d4be7f78c5176cdc'), 'company': \"Bigdog's surf shop\", 'lname': 'Doe', 'hire_date': datetime.datetime(2017, 4, 1, 21, 27, 17, 216000), 'fname': 'Jane'}\n",
      "{'lucky_numbers': [2, 5, 9, 13, 27], 'lname': 'Doe', 'hire_date': datetime.datetime(2017, 4, 1, 21, 27, 17, 216000), 'company': \"Bigdog's surf shop\", '_id': ObjectId('58e01b34d4be7f78c5176cdd'), 'fname': 'John'}\n",
      "{'_id': ObjectId('58e01b34d4be7f78c5176cde'), 'company': \"Bigdog's surf shop\", 'lname': 'Doe', 'hire_date': datetime.datetime(2017, 4, 1, 21, 27, 17, 216000), 'fname': 'Pat'}\n",
      "{'reason': 'typo in name', 'lname': 'Dow', 'hire_date': datetime.datetime(2017, 4, 1, 21, 27, 17, 216000), 'company': \"Bigdog's surf shop\", '_id': ObjectId('58e01b35d4be7f78c5176ce1'), 'fname': 'Peter'}\n",
      "{'_id': ObjectId('58e01b35d4be7f78c5176ce2'), 'company': \"Bigdog's surf shop\", 'lname': 'Dow', 'hire_date': datetime.datetime(2017, 4, 1, 21, 27, 17, 216000), 'fname': 'Paul'}\n",
      "{'_id': ObjectId('58e01b35d4be7f78c5176ce3'), 'company': \"Bigdog's surf shop\", 'lname': 'Dow', 'hire_date': datetime.datetime(2017, 4, 1, 21, 27, 17, 216000), 'fname': 'Mary'}\n",
      "{'_id': ObjectId('58e01b35d4be7f78c5176ce4'), 'company': \"Bigdog's surf shop\", 'lname': 'Dow', 'hire_date': datetime.datetime(2017, 4, 1, 21, 27, 17, 216000), 'fname': 'Arthur'}\n"
     ]
    }
   ],
   "source": [
    "um_result = students.update_many({'company': 'bdg surf shop'},\n",
    "                                 {'$set': {'company': \"Bigdog's surf shop\",\n",
    "                                           'hire_date': datetime.datetime.utcnow()}})\n",
    "\n",
    "print('{0} student records modified.'.format(um_result.modified_count))\n",
    "for student in students.find({\"company\": \"Bigdog's surf shop\"}):\n",
    "    print(student)"
   ]
  },
  {
   "cell_type": "markdown",
   "metadata": {},
   "source": [
    "-----\n",
    "\n",
    "## Deleting Data\n",
    "\n",
    "To delete documents from a collection, we first identify the appropriate\n",
    "document and pass this identifier into a delete method. pymongo provides\n",
    "two delete mechanisms: \n",
    "- `delete_one` to delete one document, which can be `None` if no matches, or the first one if multiple matches,\n",
    "- `delete_many` to delete multiple documents.\n",
    "\n",
    "The following code cell demonstrates the use of the `delete_one` method\n",
    "to delete the document for _Peter Dow_ by matching the `Peter` value for\n",
    "the `fname` attribute. Note, that in this collection, there is only\n",
    "match.\n",
    "\n",
    "-----"
   ]
  },
  {
   "cell_type": "code",
   "execution_count": 22,
   "metadata": {
    "collapsed": false
   },
   "outputs": [
    {
     "name": "stdout",
     "output_type": "stream",
     "text": [
      "4 students with last name Dow\n",
      "1 student records deleted.\n",
      "3 students with last name Dow\n"
     ]
    }
   ],
   "source": [
    "# Display number of students\n",
    "print('{0} students with last name Dow'.format(students.count({'lname': 'Dow'})))\n",
    "\n",
    "# Delete one student\n",
    "do_result = students.delete_one({'fname': 'Peter'})\n",
    "\n",
    "# Display number of students\n",
    "print('{0} student records deleted.'.format(do_result.deleted_count))\n",
    "print('{0} students with last name Dow'.format(students.count({'lname': 'Dow'})))"
   ]
  },
  {
   "cell_type": "markdown",
   "metadata": {},
   "source": [
    "-----\n",
    "\n",
    "In a similar manner, we can delete multiple documents by using the\n",
    "`delete_many` method. In this case, all documents that match the\n",
    "pattern passed in as an argument to the delete method are deleted. For\n",
    "example, the following code cell will delete all documents that have a\n",
    "value of `Dow` for the `lname` parameter.\n",
    "\n",
    "-----"
   ]
  },
  {
   "cell_type": "code",
   "execution_count": 23,
   "metadata": {
    "collapsed": false
   },
   "outputs": [
    {
     "name": "stdout",
     "output_type": "stream",
     "text": [
      "3 students with last name Dow\n",
      "3 student records deleted.\n",
      "0 students with last name Dow\n"
     ]
    }
   ],
   "source": [
    "# Display number of students\n",
    "print('{0} students with last name Dow'.format(students.count({'lname': 'Dow'})))\n",
    "\n",
    "# Delete one student\n",
    "do_result = students.delete_many({'lname': 'Dow'})\n",
    "\n",
    "# Display number of students\n",
    "print('{0} student records deleted.'.format(do_result.deleted_count))\n",
    "print('{0} students with last name Dow'.format(students.count({'lname': 'Dow'})))"
   ]
  },
  {
   "cell_type": "markdown",
   "metadata": {},
   "source": [
    "----\n",
    "\n",
    "## Advanced Querying\n",
    "\n",
    "MongoDB also supports a [rich query][mdbq] syntax, but it likely will\n",
    "seem odd to anyone familiar with SQL. The full set includes comparison,\n",
    "logical, element tests, evaluation methods, geospatial, array, and\n",
    "projection operations. These operators begin with a `$` character, and\n",
    "the rest of the name identifies the specific operator. For example,\n",
    "`$gte` is _greater than or equal to_. \n",
    "\n",
    "The format for the query is to encode the target field as the key of a\n",
    "dictionary, and the operator and any associated values as a second\n",
    "dictionary that maps to the field's key. For example, to test if the\n",
    "field `age` is less than 20, we write the following query \n",
    "`{age:{ $lt: 20}}`. \n",
    "This is demonstrated in the following code cell where we identify the\n",
    "documents with last name equal to `Doe`, after which we sort the\n",
    "documents by first name. When using pymongo, we enclose the attributes\n",
    "and operators in quotes to ensure they are passed correctly to the\n",
    "MongoDB server.\n",
    "\n",
    "-----\n",
    "\n",
    "[mdbq]: http://www.mongodb.org/display/DOCS/Advanced+Queries"
   ]
  },
  {
   "cell_type": "code",
   "execution_count": 24,
   "metadata": {
    "collapsed": false
   },
   "outputs": [
    {
     "name": "stdout",
     "output_type": "stream",
     "text": [
      "Jane Doe\n",
      "John Doe\n",
      "Pat Doe\n"
     ]
    }
   ],
   "source": [
    "for student in students.find({\"lname\": {'$eq': 'Doe'}}).sort('fname'):\n",
    "    print('{0} {1}'.format(student['fname'], student['lname']))"
   ]
  },
  {
   "cell_type": "markdown",
   "metadata": {},
   "source": [
    "-----\n",
    "\n",
    "### Dropping Collection\n",
    "\n",
    "We can easily delete an entire collection by passing an empty dictionary\n",
    "to the `delete_many` method. This instructs the method to delete all\n",
    "documents in the collection, which is similar to dropping a table in a\n",
    "relational database by deleting all rows.  This technique is\n",
    "demonstrated in the following code cell where we delete all documents in\n",
    "the `students` collection.\n",
    "\n",
    "-----"
   ]
  },
  {
   "cell_type": "code",
   "execution_count": 25,
   "metadata": {
    "collapsed": false
   },
   "outputs": [
    {
     "name": "stdout",
     "output_type": "stream",
     "text": [
      "5 students\n",
      "5 student records deleted.\n",
      "0 students\n"
     ]
    }
   ],
   "source": [
    "# Display number of students\n",
    "print('{0} students'.format(students.count()))\n",
    "\n",
    "# Delete all students\n",
    "da_result = students.delete_many({})\n",
    "\n",
    "# Display number of students and number deleted\n",
    "print('{0} student records deleted.'.format(da_result.deleted_count))\n",
    "print('{0} students'.format(students.count()))\n",
    "\n",
    "# Drop the entire collection\n",
    "students.drop()"
   ]
  },
  {
   "cell_type": "markdown",
   "metadata": {},
   "source": [
    "-----\n",
    "### Student Activity\n",
    "\n",
    "In the preceding cells, we introduced MongoDB and the pymongo database\n",
    "driver. Now that you have run the Notebook, go back and make the\n",
    "following changes to see how the results change.\n",
    "\n",
    "1. Create your own collection to hold your friends. Possible attribute\n",
    "would be first name, last name, age, major, and interest. Insert relevant\n",
    "data and execute some simple queries.\n",
    "\n",
    "2. An IPython Notebook is stored as a JSON file on your disk. Try\n",
    "reading in several course notebooks and adding them to a MongoDB\n",
    "collection.\n",
    "\n",
    "3. Can you connect your twitter client you created earlier in this\n",
    "course with a  MongoDB collection to persist tweets? Why might this be a\n",
    "good idea?\n",
    "\n",
    "-----"
   ]
  }
 ],
 "metadata": {
  "kernelspec": {
   "display_name": "Python 3",
   "language": "python",
   "name": "python3"
  },
  "language_info": {
   "codemirror_mode": {
    "name": "ipython",
    "version": 3
   },
   "file_extension": ".py",
   "mimetype": "text/x-python",
   "name": "python",
   "nbconvert_exporter": "python",
   "pygments_lexer": "ipython3",
   "version": "3.5.2"
  }
 },
 "nbformat": 4,
 "nbformat_minor": 0
}
