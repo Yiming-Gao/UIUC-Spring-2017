{
 "cells": [
  {
   "cell_type": "markdown",
   "metadata": {},
   "source": [
    "<DIV ALIGN=CENTER>\n",
    "\n",
    "# Introduction to Cassandra\n",
    "## Professor Robert J. Brunner\n",
    "  \n",
    "</DIV>  \n",
    "-----\n",
    "-----"
   ]
  },
  {
   "cell_type": "markdown",
   "metadata": {},
   "source": [
    "## Introduction\n",
    "\n",
    "In this Notebook, we introduce [Cassandra][cdb], one of the more popular\n",
    "NoSQL databases. [Cassandra][wcdb] is a column-oriented database that\n",
    "provides high-availability. Cassandra utilizes Cassandra Query Language\n",
    "(CQL) to interact with a Cassandra database. Since Cassandra utilizes\n",
    "tables and schemas like a relational database, CQL will also be familiar\n",
    "to anyone who has been exposed to SQL. Given the scale and scope of\n",
    "Cassandra, this Notebook will focus on the simple tasks of connecting to\n",
    "a Cassandra instance from Python, and inserting, updating, selecting,\n",
    "and deleting records from a Cassandra database.\n",
    "\n",
    "-----\n",
    "[cdb]: http://cassandra.apache.org\n",
    "[wcdb]: https://en.wikipedia.org/wiki/Apache_Cassandra\n",
    "[mdbd]: https://docs.mongodb.org/manual/"
   ]
  },
  {
   "cell_type": "markdown",
   "metadata": {
    "collapsed": false
   },
   "source": [
    "## Python and Cassandra\n",
    "\n",
    "To use Python to interact with Cassandra, we need to use a suitable\n",
    "Python library. The recommended Python library is the\n",
    "[_cassandra-driver_][py2cass], which provides support for establishing a\n",
    "connection between a Python program and a Cassabdra database as well as\n",
    "methods for sending CQL queries to Cassandra and to process the results. \n",
    "\n",
    "We have already installed _cassandra-driver_ in the course Docker\n",
    "container; however, you can easily install is by using `pip`, for\n",
    "example to install _cassandra-driver_ for use with Python3 for the\n",
    "current user, we can execute:\n",
    "\n",
    "```bash\n",
    "pip3 install cassandra-driver --user\n",
    "```\n",
    "\n",
    "Once this library is installed, we can import necessary classes from the\n",
    "Cassandra client to establish a connection and retrieve data. In\n",
    "particular this will include `cluster`, which will allow us to establish\n",
    "a connection to a remote database.\n",
    "\n",
    "```python\n",
    "from cassandra.cluster import Cluster\n",
    "```\n",
    "\n",
    "-----\n",
    "\n",
    "[py2cass]: https://github.com/datastax/python-driver"
   ]
  },
  {
   "cell_type": "code",
   "execution_count": 1,
   "metadata": {
    "collapsed": false
   },
   "outputs": [],
   "source": [
    "from cassandra.cluster import Cluster"
   ]
  },
  {
   "cell_type": "markdown",
   "metadata": {},
   "source": [
    "-----\n",
    "\n",
    "## Remote Cassandra Server\n",
    "\n",
    "To connect to a remote Cassandra server, for instance by using the course\n",
    "cluster system, we simply need the IP address for the server and the\n",
    "port number on which the Cassandra daemon is listening. For this course,\n",
    "Notebooks running on the course JupyterHub Server can access a Cassandra\n",
    "server on `141.142.211.105` on the default port of `9042`:\n",
    "\n",
    "\n",
    "```python\n",
    "cluster = Cluster(['141.142.211.105'])\n",
    "```\n",
    "\n",
    "-----"
   ]
  },
  {
   "cell_type": "code",
   "execution_count": 2,
   "metadata": {
    "collapsed": false
   },
   "outputs": [
    {
     "name": "stdout",
     "output_type": "stream",
     "text": [
      "Cluster Name: Test Cluster\n",
      "datacenter1: Host: 141.142.211.105 in rack1\n"
     ]
    }
   ],
   "source": [
    "cassandra_ips = ['141.142.211.105']\n",
    "\n",
    "# Establish a connection to Cassandra\n",
    "\n",
    "# The Policy is necessary to allow Cassandra to run on Azure.\n",
    "from cassandra.policies import WhiteListRoundRobinPolicy\n",
    "pcy = WhiteListRoundRobinPolicy(cassandra_ips)\n",
    "\n",
    "# Create Connection\n",
    "cluster = Cluster(contact_points=cassandra_ips, load_balancing_policy=pcy)\n",
    "session = cluster.connect()\n",
    "\n",
    "print('Cluster Name: {0}'.format(cluster.metadata.cluster_name))\n",
    "for host in cluster.metadata.all_hosts():\n",
    "    print('{0}: Host: {1} in {2}'\\\n",
    "          .format(host.datacenter, host.address, host.rack))"
   ]
  },
  {
   "cell_type": "markdown",
   "metadata": {},
   "source": [
    "-----\n",
    "\n",
    "## Cassandra Keyspace\n",
    "\n",
    "Cassandra uses a _keyspace_ to provide a namespace that can organize\n",
    "related data. To provide distinct environments for each student, each\n",
    "student will create their own keyspace in the shared Cassandra cluster\n",
    "by using their netids. The following code cell reads the netid from the\n",
    "docker container filesystem.\n",
    "\n",
    "-----"
   ]
  },
  {
   "cell_type": "code",
   "execution_count": 3,
   "metadata": {
    "collapsed": false
   },
   "outputs": [],
   "source": [
    "# Filename containing user's netid\n",
    "fname = '/home/data_scientist/users.txt'\n",
    "with open(fname, 'r') as fin:\n",
    "    netid = fin.readline().rstrip()\n",
    "\n",
    "# We will delete our working directory if it exists before recreating.\n",
    "ks_name = '{0}'.format(netid)"
   ]
  },
  {
   "cell_type": "markdown",
   "metadata": {},
   "source": [
    "### Creating a Keyspace\n",
    "\n",
    "In this course, we separate each student's work by using a separate\n",
    "keyspace for each  student. To do this, the following code cell uses\n",
    "Python code to first drop the user's keyspace if it exists, and to then\n",
    "create the user's keyspace. This effectively deletes all data added to\n",
    "the keyspace from this Notebook. Alternatively, we could employ CQL\n",
    "(Cassandra Query Language) to perform the same steps:\n",
    "\n",
    "```python\n",
    "# CQL to drop named keyspace\n",
    "drop_ks = '''\n",
    "DROP KEYSPACE IF EXISTS {0} ;\n",
    "'''\n",
    "\n",
    "# CQL to create named keyspace (We need to escape curly braces)\n",
    "create_ks = '''\n",
    "CREATE KEYSPACE {0} \\\n",
    "    WITH REPLICATION = {{'class': 'SimpleStrategy', 'replication_factor': 1}} ;\n",
    "'''\n",
    "\n",
    "# Execute CQL for Keyspaces\n",
    "session.execute(drop_ks.format(ks_name))\n",
    "session.execute(create_ks.format(ks_name))\n",
    "\n",
    "# Display Keyspace names\n",
    "keys = [val for val in sorted(cluster.metadata.keyspaces.keys()) if 'system' not in val]\n",
    "for ks in keys:\n",
    "    print(ks)\n",
    "```"
   ]
  },
  {
   "cell_type": "code",
   "execution_count": 4,
   "metadata": {
    "collapsed": false
   },
   "outputs": [
    {
     "name": "stderr",
     "output_type": "stream",
     "text": [
      "/opt/conda/lib/python3.5/site-packages/cassandra/cqlengine/management.py:492: UserWarning: CQLENG_ALLOW_SCHEMA_MANAGEMENT environment variable is not set. Future versions of this package will require this variable to enable management functions.\n",
      "  warnings.warn(msg)\n"
     ]
    },
    {
     "name": "stdout",
     "output_type": "stream",
     "text": [
      "bigdog\n",
      "\n",
      "CQL Query to recreate this keyspace:\n",
      "----------------------------------------\n",
      "CREATE KEYSPACE bigdog WITH replication = {'class': 'SimpleStrategy', 'replication_factor': '1'}  AND durable_writes = true;\n"
     ]
    }
   ],
   "source": [
    "# Boilerplate code we need to create keyspace from within Python\n",
    "# Altenaitve is to create keyspace from CQL.\n",
    "\n",
    "from cassandra.query import dict_factory\n",
    "session.row_factory = dict_factory\n",
    "\n",
    "from cassandra.cqlengine import connection, management\n",
    "connection.set_session(session)\n",
    "\n",
    "# Explicitly set session hosts, this removes annoying warnings.\n",
    "connection.session.hosts = cassandra_ips\n",
    "\n",
    "# Drop Keyspace if it exists\n",
    "if ks_name in cluster.metadata.keyspaces:\n",
    "    management.drop_keyspace(ks_name)\n",
    "\n",
    "# Create Keyspace\n",
    "management.create_keyspace_simple(ks_name, 1)\n",
    "\n",
    "# Set keyspace for this session\n",
    "# Note: If keyspace exists in Cassandra instance, this is only line we need.\n",
    "session.set_keyspace(ks_name)\n",
    "\n",
    "# Display all non-system keyspaces.\n",
    "# Do not change to a different keyspace!\n",
    "\n",
    "keys = [val for val in sorted(cluster.metadata.keyspaces.keys()) if 'system' not in val]\n",
    "for ks in keys:\n",
    "    print(ks)\n",
    "\n",
    "print('\\nCQL Query to recreate this keyspace:')\n",
    "print(40*'-')\n",
    "print(cluster.metadata.keyspaces[ks_name].export_as_string())"
   ]
  },
  {
   "cell_type": "markdown",
   "metadata": {},
   "source": [
    "----\n",
    "\n",
    "### Schema Creation\n",
    "\n",
    "Cassandra uses tables, which have well defined schemas, to hold data.\n",
    "Anyone familiar with relational databases and SQL will be able to\n",
    "quickly begin using [CQL][cql]. In the following code cell, we first\n",
    "drop the table if it exists. We do this to ensure a clean slate before\n",
    "we create our new schema and insert data. Next, we write a `CREATE`\n",
    "statement that build a `students` table to hold several attributes.\n",
    "While this schema is simple, Cassandra allows for [complex schema][cs]\n",
    "to be created by using CQL.\n",
    "\n",
    "One item of importance is the creation of the _Primary Key_. A primary\n",
    "key can be simple, using only a single column. Or it can be\n",
    "[compound][cc], including a [partition key][cp] to specify what nodes\n",
    "contain the data. In our case, we do not need partitions since our data\n",
    "are all hosted by the same node and there is no redundancy.\n",
    "\n",
    "\n",
    "-----\n",
    "\n",
    "[cql]: http://docs.datastax.com/en/cql/3.3/cql/cqlIntro.html\n",
    "[cs]: http://docs.datastax.com/en/cql/3.3/cql/cql_using/useCreateTableTOC.html\n",
    "[cc]: http://docs.datastax.com/en/cql/3.3/cql/cql_using/useCompoundPrimaryKeyConcept.html\n",
    "[cp]: http://docs.datastax.com/en/cql/3.3/cql/cql_using/useCompositePartitionKeyConcept.html"
   ]
  },
  {
   "cell_type": "code",
   "execution_count": 5,
   "metadata": {
    "collapsed": false
   },
   "outputs": [
    {
     "name": "stdout",
     "output_type": "stream",
     "text": [
      "\n",
      "Deleting Table\n",
      "----------------------------------------\n",
      "<ResponseFuture: query='<SimpleStatement query=\"\n",
      "DROP TABLE IF EXISTS students ;\n",
      "\", consistency=Not Set>' request_id=11 result=None exception=None host=141.142.211.105>\n",
      "\n",
      "Creating Table\n",
      "----------------------------------------\n",
      "<ResponseFuture: query='<SimpleStatement query=\"\n",
      "CREATE TABLE students (\n",
      "    id int,\n",
      "    fname text,\n",
      "    lname text,\n",
      "    company text,\n",
      "    hire_date timestamp,\n",
      "    PRIMARY KEY(lname, id)\n",
      ");\n",
      "\", consistency=Not Set>' request_id=12 result=None exception=None host=141.142.211.105>\n"
     ]
    }
   ],
   "source": [
    "drop_schema = '''\n",
    "DROP TABLE IF EXISTS students ;\n",
    "'''\n",
    "\n",
    "create_schema = '''\n",
    "CREATE TABLE students (\n",
    "    id int,\n",
    "    fname text,\n",
    "    lname text,\n",
    "    company text,\n",
    "    hire_date timestamp,\n",
    "    PRIMARY KEY(lname, id)\n",
    ");\n",
    "'''\n",
    "print('\\nDeleting Table')\n",
    "print(40*'-')\n",
    "d_result = session.execute(drop_schema)\n",
    "print(d_result.response_future)\n",
    "\n",
    "print('\\nCreating Table')\n",
    "print(40*'-')\n",
    "c_result = session.execute(create_schema)\n",
    "print(c_result.response_future)"
   ]
  },
  {
   "cell_type": "markdown",
   "metadata": {},
   "source": [
    "-----\n",
    "\n",
    "## Adding Data\n",
    "\n",
    "Given a collection, we can easily add new _records_ (or rows) to our\n",
    "Cassandra database by creating a CQL `INSERT` statement. As was the case\n",
    "with a relational database tables, a Cassandra table has a defined\n",
    "schema, which means our insert statements will be similar to a SQL\n",
    "insert statement. In the following code cell, we first create a\n",
    "`student` dictionary, followed by an insert CQL statement. While we could\n",
    "hard code the student data into the insert statement, we are using\n",
    "parameters to indicate the values will be supplied to the actual CQL\n",
    "`execute` statement. The syntax of these parameters is straightforward.\n",
    "For example, the parameter indicated by the `%(id)s` sequence means we\n",
    "will pass in the value as a dictionary, with the value corresponding to\n",
    "the `id` key being used in the query replacing the parameter in the CQL\n",
    "query. The `s` character simply means the data is transferred as a\n",
    "string.\n",
    "\n",
    "\n",
    "-----"
   ]
  },
  {
   "cell_type": "code",
   "execution_count": 6,
   "metadata": {
    "collapsed": false
   },
   "outputs": [
    {
     "name": "stdout",
     "output_type": "stream",
     "text": [
      "<ResponseFuture: query='<SimpleStatement query=\"\n",
      "INSERT INTO students (id, fname, lname, company, hire_date) \n",
      "VALUES (%(id)s, %(fname)s, %(lname)s, %(company)s, %(hire_date)s) ;\n",
      "\", consistency=Not Set>' request_id=20 result=None exception=None host=141.142.211.105>\n"
     ]
    }
   ],
   "source": [
    "import uuid\n",
    "from datetime import datetime\n",
    "\n",
    "student = {'id': 1,\n",
    "           'fname': 'Jane',\n",
    "           'lname': 'Doe',\n",
    "           'company': 'bdg surf shop',\n",
    "           'hire_date': datetime.now()}\n",
    "\n",
    "insert_one = '''\n",
    "INSERT INTO students (id, fname, lname, company, hire_date) \n",
    "VALUES (%(id)s, %(fname)s, %(lname)s, %(company)s, %(hire_date)s) ;\n",
    "'''\n",
    "\n",
    "io_result = session.execute(insert_one, student) \n",
    "\n",
    "print(io_result.response_future)"
   ]
  },
  {
   "cell_type": "markdown",
   "metadata": {},
   "source": [
    "-----\n",
    "\n",
    "We can also insert data by using a prepared statement, which provides\n",
    "better performance since the database can _compile_ the CQL statement\n",
    "and subsequently insert specific values in for the named placeholders.\n",
    "We demonstrate this technique in the following two code cells. First, we\n",
    "define the prepared statement, which in this case inserts data into the\n",
    "`students` table. The values to insert are parameterized (e.g., as `:id`\n",
    "and `:company`), which tells the database these values will be passed in\n",
    "whenever the CQL statement is actually executed. The statement is sent\n",
    "to the database to be prepared by calling the `prepare` method with the\n",
    "CQL.\n",
    "\n",
    "In the second cell, we process a dictionary of data to create two new\n",
    "records, and we pass the prepared statement into the `execute`\n",
    "statement, followed by the values. We also pass the values in for a\n",
    "third record directly to demonstrate the flexibility of this approach.\n",
    "\n",
    "-----"
   ]
  },
  {
   "cell_type": "code",
   "execution_count": 7,
   "metadata": {
    "collapsed": false
   },
   "outputs": [],
   "source": [
    "insert_many = '''\n",
    "INSERT INTO students (id, fname, lname, company, hire_date) \n",
    "VALUES (:id, :fname, :lname, :company, :hire_date) ;\n",
    "'''\n",
    "\n",
    "im_prepared = session.prepare(insert_many)"
   ]
  },
  {
   "cell_type": "code",
   "execution_count": 8,
   "metadata": {
    "collapsed": false
   },
   "outputs": [],
   "source": [
    "new_students = [\n",
    "    {'fname': 'Mike',\n",
    "     'lname': 'Simone',\n",
    "     'company': 'Del Ray Enterprises'},\n",
    "    {'fname': 'Clair',\n",
    "     'lname': 'Hwu',\n",
    "     'company': 'Hoboken Surfware Incorporated'}]\n",
    "\n",
    "# Insert multiple entires\n",
    "for idx, student in enumerate(new_students):\n",
    "    im_result = session.execute(im_prepared, ((idx + 1), \n",
    "                                              student['fname'], student['lname'],\n",
    "                                              student['company'], datetime.now()))\n",
    "    \n",
    "# Insert one using direct value substitution\n",
    "im_result = session.execute(im_prepared, (3, 'John', 'Doe', \"Bigdog's Surf Shop\",\n",
    "                                          datetime.now()))"
   ]
  },
  {
   "cell_type": "markdown",
   "metadata": {},
   "source": [
    "-----\n",
    "\n",
    "## Retrieving Data\n",
    "\n",
    "CQL is very similar to SQL in many respects, which makes many\n",
    "operations, such as querying a Cassandra database, very familiar. For\n",
    "example, to query (or retrieve) records, we simply issue a select\n",
    "statement. As was the case with SQL, a simple CQL select statement has a\n",
    "`SELECT` clause, a `FROM` clause, followed by an optional `WHERE`\n",
    "clause. The `SELECT` clause indicates what should be retrieved from the\n",
    "database, and can be aggregate functions, such as `COUNT` or attribute\n",
    "values. The `FROM` clause specifies the location of the records and can\n",
    "include join conditions, and the `WHERE` clause filters the records.\n",
    "\n",
    "In the following code cells, we demonstrate three different queries.\n",
    "First, we return a count of the records by using a `SELECT COUNT(*)`\n",
    "query on the `students` table. Second, we query a select group of\n",
    "attributes from the same table. Finally, we use a prepared statement\n",
    "to select specific columns from the `students` table with a specific\n",
    "condition, in this case we specify the record `id` attribute. In each\n",
    "case, the result set from the query contains the data of interest,\n",
    "either the count of records, or the selected columns, which are accessed\n",
    "as a dictionary from the result set cursor.\n",
    "\n",
    "-----"
   ]
  },
  {
   "cell_type": "code",
   "execution_count": 9,
   "metadata": {
    "collapsed": false
   },
   "outputs": [
    {
     "name": "stdout",
     "output_type": "stream",
     "text": [
      "<ResponseFuture: query='<SimpleStatement query=\"SELECT COUNT(*) FROM students\", consistency=Not Set>' request_id=25 result=[{'count': 4}] exception=None host=141.142.211.105>\n",
      "----------------------------------------\n",
      "Employee count = 4\n"
     ]
    }
   ],
   "source": [
    "# Query for the record count\n",
    "qr = session.execute('SELECT COUNT(*) FROM students')\n",
    "\n",
    "# Dump the query and result set.\n",
    "print(qr.response_future)\n",
    "\n",
    "print(40*'-')\n",
    "print('Employee count = {0}'.format(qr[0]['count']))"
   ]
  },
  {
   "cell_type": "code",
   "execution_count": 10,
   "metadata": {
    "collapsed": false
   },
   "outputs": [
    {
     "name": "stdout",
     "output_type": "stream",
     "text": [
      "----------------------------------------\n",
      "Name: Jane Doe\n",
      "Company: bdg surf shop\n",
      "Hired on 2017-04-01 21:27:48.204000\n",
      "----------------------------------------\n",
      "Name: John Doe\n",
      "Company: Bigdog's Surf Shop\n",
      "Hired on 2017-04-01 21:27:48.303000\n",
      "----------------------------------------\n",
      "Name: Clair Hwu\n",
      "Company: Hoboken Surfware Incorporated\n",
      "Hired on 2017-04-01 21:27:48.282000\n",
      "----------------------------------------\n",
      "Name: Mike Simone\n",
      "Company: Del Ray Enterprises\n",
      "Hired on 2017-04-01 21:27:48.263000\n",
      "----------------------------------------\n"
     ]
    }
   ],
   "source": [
    "query = '''\n",
    "SELECT fname, lname, company, hire_date FROM  students ;\n",
    "'''\n",
    "\n",
    "query_result = session.execute(query)\n",
    "\n",
    "# Display query results\n",
    "print(40*'-')\n",
    "for row in query_result:\n",
    "    print('Name: {0} {1}'.format(row['fname'], row['lname']))\n",
    "    print('Company: {0}'.format(row['company']))\n",
    "    print('Hired on {0}'.format(row['hire_date']))\n",
    "    print(40*'-')"
   ]
  },
  {
   "cell_type": "code",
   "execution_count": 11,
   "metadata": {
    "collapsed": false
   },
   "outputs": [
    {
     "name": "stdout",
     "output_type": "stream",
     "text": [
      "----------------------------------------\n",
      "Name: Jane Doe\n",
      "Company: bdg surf shop\n",
      "Hired on 2017-04-01 21:27:48.204000\n",
      "----------------------------------------\n",
      "Name: John Doe\n",
      "Company: Bigdog's Surf Shop\n",
      "Hired on 2017-04-01 21:27:48.303000\n",
      "----------------------------------------\n"
     ]
    }
   ],
   "source": [
    "# We can easily query on Primary Keys\n",
    "query = '''\n",
    "SELECT fname, lname, company, hire_date \n",
    "FROM  students \n",
    "WHERE lname = %(ln)s ;\n",
    "'''\n",
    "\n",
    "query_result = session.execute(query, {'ln': 'Doe'})\n",
    "\n",
    "# Display query results\n",
    "print(40*'-')\n",
    "for row in query_result:\n",
    "    print('Name: {0} {1}'.format(row['fname'], row['lname']))\n",
    "    print('Company: {0}'.format(row['company']))\n",
    "    print('Hired on {0}'.format(row['hire_date']))\n",
    "    print(40*'-')"
   ]
  },
  {
   "cell_type": "markdown",
   "metadata": {},
   "source": [
    "-----\n",
    "\n",
    "## Modifying Data\n",
    "\n",
    "Once records have been added to a Cassandra database, we can issue CQL\n",
    "update statements to update or modify attributes in one or more records.\n",
    "The format of an update statement is simple. We start by specifying the\n",
    "`UPDATE` clause, next comes the `SET` clause where indicate what\n",
    "attribute should be modified and the new value, after which comes a\n",
    "`WHERE` clause that actually selects the record or records of interest.\n",
    "In the following code cells, we first generate new temporary data to\n",
    "demonstrate updating (and subsequently deleting) data from a Cassandra\n",
    "database. \n",
    "\n",
    "-----"
   ]
  },
  {
   "cell_type": "code",
   "execution_count": 12,
   "metadata": {
    "collapsed": false
   },
   "outputs": [
    {
     "name": "stdout",
     "output_type": "stream",
     "text": [
      "----------------------------------------\n",
      "Employee count = 8\n"
     ]
    }
   ],
   "source": [
    "temp_students = [{'id': 11, 'fname': 'Petr', 'lname': 'Dow', 'company': 'bdg surf shop'},\n",
    "                 {'id': 12, 'fname': 'Paul', 'lname': 'Dow', 'company': 'bdg surf shop'},\n",
    "                 {'id': 13, 'fname': 'Mary', 'lname': 'Dow', 'company': 'bdg surf shop'},\n",
    "                 {'id': 14, 'fname': 'Arthur', 'lname': 'Dow', 'company': 'bdg surf shop'}]\n",
    "\n",
    "# Insert multiple entires\n",
    "for student in temp_students:\n",
    "    im_result = session.execute(im_prepared, (student['id'], \n",
    "                                              student['fname'], student['lname'],\n",
    "                                              student['company'], datetime.now()))\n",
    "\n",
    "# Count how many students\n",
    "qr = session.execute('SELECT COUNT(*) FROM students')\n",
    "\n",
    "print(40*'-')\n",
    "print('Employee count = {0}'.format(qr[0]['count']))"
   ]
  },
  {
   "cell_type": "code",
   "execution_count": 13,
   "metadata": {
    "collapsed": false
   },
   "outputs": [
    {
     "name": "stdout",
     "output_type": "stream",
     "text": [
      "Name: Peter Dow\n",
      "Company: bdg surf shop\n",
      "Hired on 2017-04-01 21:27:48.436000\n"
     ]
    }
   ],
   "source": [
    "# Update one record to fix the typo in the name.\n",
    "ud_stmt = '''\n",
    "UPDATE students\n",
    "  SET fname = 'Peter'\n",
    "  WHERE lname = 'Dow' AND id = 11 ;\n",
    "'''\n",
    "\n",
    "ur = session.execute(ud_stmt)\n",
    "\n",
    "# Display Updated Row\n",
    "query_result = session.execute(query, {'ln': 'Dow'})\n",
    "\n",
    "# Display query results\n",
    "for row in query_result:\n",
    "    if row['fname'] == 'Peter':\n",
    "        print('Name: {0} {1}'.format(row['fname'], row['lname']))\n",
    "        print('Company: {0}'.format(row['company']))\n",
    "        print('Hired on {0}'.format(row['hire_date']))    "
   ]
  },
  {
   "cell_type": "markdown",
   "metadata": {},
   "source": [
    "-----\n",
    "\n",
    "To update multiple rows, we can either generate multiple update\n",
    "statements, perhaps by iterating over values used in a `WHERE` clause,\n",
    "and execute multiple individual update statements, or, alternatively, we\n",
    "can issue a single `UPDATE` statement where multiple rows are directly\n",
    "selected in the `WHERE` clause. The latter approach generally provides\n",
    "the best performance, and is recommended. In addition, this mechanism\n",
    "enables multiple approaches to selecting the target rows. For example,\n",
    "the rows might be selected by employing a range query or by providing a\n",
    "set of allowed values for the target attribute. The latter technique is\n",
    "demonstrated in the following code cell, where the `id` attribute is\n",
    "selected to be in the set of values `(11, 12, 13, 14)`.\n",
    "\n",
    "-----"
   ]
  },
  {
   "cell_type": "code",
   "execution_count": 14,
   "metadata": {
    "collapsed": false
   },
   "outputs": [
    {
     "name": "stdout",
     "output_type": "stream",
     "text": [
      "Name: Peter Dow\n",
      "Company: Bigdogs Surf Shop\n",
      "Hired on 2017-04-01 21:27:48.436000\n",
      "----------------------------------------\n",
      "Name: Paul Dow\n",
      "Company: Bigdogs Surf Shop\n",
      "Hired on 2017-04-01 21:27:48.457000\n",
      "----------------------------------------\n",
      "Name: Mary Dow\n",
      "Company: Bigdogs Surf Shop\n",
      "Hired on 2017-04-01 21:27:48.479000\n",
      "----------------------------------------\n",
      "Name: Arthur Dow\n",
      "Company: Bigdogs Surf Shop\n",
      "Hired on 2017-04-01 21:27:48.498000\n",
      "----------------------------------------\n"
     ]
    }
   ],
   "source": [
    "# Update company name for multiple records.\n",
    "ud_stmt = '''\n",
    "UPDATE students\n",
    "  SET company = 'Bigdogs Surf Shop'\n",
    "  WHERE lname = 'Dow' AND id IN (11, 12, 13, 14) ;\n",
    "'''\n",
    "\n",
    "ur = session.execute(ud_stmt)\n",
    "\n",
    "# Display Updated Rows\n",
    "query_result = session.execute(query, {'ln': 'Dow'})\n",
    "\n",
    "# Display query results\n",
    "for row in query_result:\n",
    "    print('Name: {0} {1}'.format(row['fname'], row['lname']))\n",
    "    print('Company: {0}'.format(row['company']))\n",
    "    print('Hired on {0}'.format(row['hire_date']))    \n",
    "    print(40*'-')"
   ]
  },
  {
   "cell_type": "markdown",
   "metadata": {},
   "source": [
    "-----\n",
    "\n",
    "## Deleting Data\n",
    "\n",
    "To delete data, we construct a suitable CQL statement that leverages the\n",
    "`DELETE` clause to delete data identified in the `WHERE` clause. For\n",
    "example, int he following code cell we delete all rows where the last\n",
    "name is `Dow` and the record id is `11`. We execute the query and\n",
    "execute the previous query to demonstrate the target record was removed\n",
    "form the database. In the second code cell, we delete multiple nodes by\n",
    "using a prepared statement that allows us to specify values at run time. \n",
    "\n",
    "-----"
   ]
  },
  {
   "cell_type": "code",
   "execution_count": 15,
   "metadata": {
    "collapsed": false
   },
   "outputs": [
    {
     "name": "stdout",
     "output_type": "stream",
     "text": [
      "Name: Paul Dow\n",
      "Company: Bigdogs Surf Shop\n",
      "Hired on 2017-04-01 21:27:48.457000\n",
      "----------------------------------------\n",
      "Name: Mary Dow\n",
      "Company: Bigdogs Surf Shop\n",
      "Hired on 2017-04-01 21:27:48.479000\n",
      "----------------------------------------\n",
      "Name: Arthur Dow\n",
      "Company: Bigdogs Surf Shop\n",
      "Hired on 2017-04-01 21:27:48.498000\n",
      "----------------------------------------\n"
     ]
    }
   ],
   "source": [
    "del_stmt = '''\n",
    "DELETE FROM students\n",
    "WHERE lname = 'Dow' AND id = 11 ;\n",
    "'''\n",
    "\n",
    "dr = session.execute(del_stmt)\n",
    "                     \n",
    "# Display Updated Rows\n",
    "query_result = session.execute(query, {'ln': 'Dow'})\n",
    "\n",
    "# Display query results\n",
    "for row in query_result:\n",
    "    print('Name: {0} {1}'.format(row['fname'], row['lname']))\n",
    "    print('Company: {0}'.format(row['company']))\n",
    "    print('Hired on {0}'.format(row['hire_date']))    \n",
    "    print(40*'-')\n"
   ]
  },
  {
   "cell_type": "code",
   "execution_count": 16,
   "metadata": {
    "collapsed": false
   },
   "outputs": [
    {
     "name": "stdout",
     "output_type": "stream",
     "text": [
      "----------------------------------------\n",
      "Pre-Delete\n",
      "Employee (Dow) count = 3\n",
      "----------------------------------------\n",
      "Post-Delete\n",
      "Employee (Dow) count = 0\n"
     ]
    }
   ],
   "source": [
    "# Count how many students\n",
    "qr = session.execute(\"SELECT COUNT(*) FROM students WHERE lname = 'Dow'\")\n",
    "\n",
    "print(40*'-')\n",
    "print('Pre-Delete')\n",
    "print('Employee (Dow) count = {0}'.format(qr[0]['count']))                \n",
    "\n",
    "del_stmt = '''\n",
    "DELETE FROM students\n",
    "WHERE lname = 'Dow' AND id = %(id)s ;\n",
    "'''\n",
    "\n",
    "for id in [12, 13, 14]:\n",
    "    dr = session.execute(del_stmt, {'id': id})\n",
    "                     \n",
    "# Count how many students\n",
    "qr = session.execute(\"SELECT COUNT(*) FROM students WHERE lname = 'Dow'\")\n",
    "\n",
    "print(40*'-')\n",
    "print('Post-Delete')\n",
    "print('Employee (Dow) count = {0}'.format(qr[0]['count']))                "
   ]
  },
  {
   "cell_type": "markdown",
   "metadata": {},
   "source": [
    "-----\n",
    "\n",
    "## Keyspace Dump\n",
    "\n",
    "Clearly CQL is a powerful tool, and can be used to perform all\n",
    "operations one might need to do against a Cassandra instance.\n",
    "Constructing a CQL query can, therefore, be difficult. Fortunately,\n",
    "Cassandra allows one to easily construct the CQL query required to\n",
    "recreate a keyspace. Not only this is instructional, but it also is a\n",
    "great tool to provide a schema dump that can be used in emergency\n",
    "situations to reconstruct a Cassandra database. To generate this CQL\n",
    "dump, one simply calls the `export_as_string` method on the named\n",
    "keyspace, as shown below.\n",
    "\n",
    "\n",
    "-----"
   ]
  },
  {
   "cell_type": "code",
   "execution_count": 17,
   "metadata": {
    "collapsed": false
   },
   "outputs": [
    {
     "name": "stdout",
     "output_type": "stream",
     "text": [
      "CQL Query to recreate this keyspace:\n",
      "----------------------------------------\n",
      "CREATE KEYSPACE bigdog WITH replication = {'class': 'SimpleStrategy', 'replication_factor': '1'}  AND durable_writes = true;\n",
      "\n",
      "CREATE TABLE bigdog.students (\n",
      "    lname text,\n",
      "    id int,\n",
      "    company text,\n",
      "    fname text,\n",
      "    hire_date timestamp,\n",
      "    PRIMARY KEY (lname, id)\n",
      ") WITH CLUSTERING ORDER BY (id ASC)\n",
      "    AND bloom_filter_fp_chance = 0.01\n",
      "    AND caching = {'keys': 'ALL', 'rows_per_partition': 'NONE'}\n",
      "    AND comment = ''\n",
      "    AND compaction = {'class': 'org.apache.cassandra.db.compaction.SizeTieredCompactionStrategy', 'max_threshold': '32', 'min_threshold': '4'}\n",
      "    AND compression = {'chunk_length_in_kb': '64', 'class': 'org.apache.cassandra.io.compress.LZ4Compressor'}\n",
      "    AND crc_check_chance = 1.0\n",
      "    AND dclocal_read_repair_chance = 0.1\n",
      "    AND default_time_to_live = 0\n",
      "    AND gc_grace_seconds = 864000\n",
      "    AND max_index_interval = 2048\n",
      "    AND memtable_flush_period_in_ms = 0\n",
      "    AND min_index_interval = 128\n",
      "    AND read_repair_chance = 0.0\n",
      "    AND speculative_retry = '99PERCENTILE';\n"
     ]
    }
   ],
   "source": [
    "print('CQL Query to recreate this keyspace:')\n",
    "print(40*'-')\n",
    "print(cluster.metadata.keyspaces[ks_name].export_as_string())"
   ]
  },
  {
   "cell_type": "markdown",
   "metadata": {},
   "source": [
    "-----\n",
    "### Student Activity\n",
    "\n",
    "In the preceding cells, we introduced the Cassandra database and the\n",
    "Python Cassandra database driver. Now that you have run the Notebook, go\n",
    "back and make the following changes to see how the results change.\n",
    "\n",
    "1. Try performing a CQL query that uses a range `WHERE` clause.\n",
    "2. Create your own table and load data into it using prepared statements.\n",
    "3. Create two tables, the data you should be related across the tables\n",
    "to enable joins. For example, a friend table and a student table (since\n",
    "fellow student may or may not be your fiends). insert some fake data\n",
    "and query the data to find students who are friends by using a CQL join.\n",
    "\n",
    "-----"
   ]
  }
 ],
 "metadata": {
  "kernelspec": {
   "display_name": "Python 3",
   "language": "python",
   "name": "python3"
  },
  "language_info": {
   "codemirror_mode": {
    "name": "ipython",
    "version": 3
   },
   "file_extension": ".py",
   "mimetype": "text/x-python",
   "name": "python",
   "nbconvert_exporter": "python",
   "pygments_lexer": "ipython3",
   "version": "3.5.2"
  }
 },
 "nbformat": 4,
 "nbformat_minor": 0
}
