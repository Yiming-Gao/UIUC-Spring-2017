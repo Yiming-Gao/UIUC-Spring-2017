{
 "cells": [
  {
   "cell_type": "markdown",
   "metadata": {
    "deletable": false,
    "nbgrader": {
     "checksum": "1891bdcd87c6c960df75b6e90b02b234",
     "grade": false,
     "grade_id": "header",
     "locked": true,
     "solution": false
    }
   },
   "source": [
    "If you are not using the `Assignments` tab on the course JupyterHub server to read this notebook, read [Activating the assignments tab](https://github.com/lcdm-uiuc/info490-sp17/blob/master/help/act_assign_tab.md).\n",
    "\n",
    "A few things you should keep in mind when working on assignments:\n",
    "\n",
    "1. Make sure you fill in any place that says `YOUR CODE HERE`. Do **not** write your answer in anywhere else other than where it says `YOUR CODE HERE`. Anything you write anywhere else will be removed or overwritten by the autograder.\n",
    "\n",
    "2. Before you submit your assignment, make sure everything runs as expected. Go to menubar, select _Kernel_, and restart the kernel and run all cells (_Restart & Run all_).\n",
    "\n",
    "3. Do not change the title (i.e. file name) of this notebook.\n",
    "\n",
    "4. Make sure that you save your work (in the menubar, select _File_ → _Save and CheckPoint_)\n",
    "\n",
    "5. You are allowed to submit an assignment multiple times, but only the most recent submission will be graded."
   ]
  },
  {
   "cell_type": "markdown",
   "metadata": {
    "deletable": false,
    "nbgrader": {
     "checksum": "32beb22e4a2dfcbf4dbbbc17da9f704e",
     "grade": false,
     "grade_id": "markdown_1",
     "locked": true,
     "solution": false
    }
   },
   "source": [
    "# Problem 8.2. Social Media: Twitter\n",
    "\n",
    "In this problem, we will use the twitter API to extract a set of tweets, and perform a sentiment analysis on twitter data to classify tweets as positive or negative."
   ]
  },
  {
   "cell_type": "code",
   "execution_count": 1,
   "metadata": {
    "collapsed": false,
    "deletable": false,
    "nbgrader": {
     "checksum": "1ed5e175e34dc1475c311cca9a5ac577",
     "grade": false,
     "grade_id": "import",
     "locked": true,
     "solution": false
    }
   },
   "outputs": [],
   "source": [
    "import numpy as np\n",
    "import nltk\n",
    "import tweepy as tw\n",
    "\n",
    "from sklearn.utils import check_random_state\n",
    "from sklearn.cross_validation import train_test_split\n",
    "from sklearn.ensemble import RandomForestClassifier\n",
    "from sklearn.feature_extraction.text import TfidfVectorizer\n",
    "from sklearn.pipeline import Pipeline\n",
    "from sklearn.metrics import accuracy_score\n",
    "\n",
    "from nose.tools import assert_equal, assert_is_instance, assert_true, assert_almost_equal\n",
    "from numpy.testing import assert_array_equal"
   ]
  },
  {
   "cell_type": "markdown",
   "metadata": {
    "deletable": false,
    "nbgrader": {
     "checksum": "20b75f9f62a5067c5bb2b2d52a52b648",
     "grade": false,
     "grade_id": "markdown_2",
     "locked": true,
     "solution": false
    }
   },
   "source": [
    "## Twitter Application\n",
    "\n",
    "- Create a Twitter Application, and save the credentials into a file at `/home/data_scientist/twitter.cred`. \n",
    "\n",
    "`twitter.cred` must have the following four credentials in order on separate lines:\n",
    "\n",
    "```\n",
    "Access Token\n",
    "Access Token Secret\n",
    "Consumer Key\n",
    "Consumer Secret\n",
    "```\n",
    "\n",
    "Once you have stored your credientials, run the following code cells (you don't have to write any code in this section) and check if you are able to use the API."
   ]
  },
  {
   "cell_type": "code",
   "execution_count": 2,
   "metadata": {
    "collapsed": true,
    "deletable": false,
    "nbgrader": {
     "checksum": "79304f86ea6479e3c2e4d320d1560f66",
     "grade": false,
     "grade_id": "connect_twitter_api",
     "locked": true,
     "solution": false
    }
   },
   "outputs": [],
   "source": [
    "def connect_twitter_api(cred_file):\n",
    "    \n",
    "    # Order: Access Token, Access Token Secret, Consumer Key, Consumer SecretAccess\n",
    "    with open(cred_file) as fin:\n",
    "        tokens = [line.rstrip('\\n') for line in fin if not line.startswith('#')]\n",
    "\n",
    "    auth = tw.OAuthHandler(tokens[2], tokens[3])\n",
    "    auth.set_access_token(tokens[0], tokens[1])\n",
    "\n",
    "    return tw.API(auth)"
   ]
  },
  {
   "cell_type": "code",
   "execution_count": 3,
   "metadata": {
    "collapsed": false,
    "deletable": false,
    "nbgrader": {
     "checksum": "d19fa99695c24ebfe43add116e27a70d",
     "grade": true,
     "grade_id": "connect_twitter_api_test",
     "locked": true,
     "points": 6,
     "solution": false
    }
   },
   "outputs": [],
   "source": [
    "# Do NOT change file path or name of twitter.cred\n",
    "api = connect_twitter_api('/home/data_scientist/twitter.cred')\n",
    "assert_equal(api.get_user('katyperry').screen_name, 'katyperry')\n",
    "assert_equal(api.get_user('justinbieber').created_at.strftime('%Y %m %d %H %M %S'), '2009 03 28 16 41 22')\n",
    "assert_equal(api.get_user('BarackObama').name, 'Barack Obama')"
   ]
  },
  {
   "cell_type": "markdown",
   "metadata": {
    "deletable": false,
    "nbgrader": {
     "checksum": "1d9cdba64cf91a7d047230ff0a3d4fce",
     "grade": false,
     "grade_id": "markdown_3",
     "locked": true,
     "solution": false
    }
   },
   "source": [
    "## Positive and negative tweets\n",
    "\n",
    "We will first train a model on the NLTK twitter corpus, and use it to classify a set of tweets fetched from the Twitter API."
   ]
  },
  {
   "cell_type": "code",
   "execution_count": 4,
   "metadata": {
    "collapsed": true,
    "deletable": false,
    "nbgrader": {
     "checksum": "d002abeed67f6272d912c396f745bd8b",
     "grade": false,
     "grade_id": "import_twitter_samples",
     "locked": true,
     "solution": false
    }
   },
   "outputs": [],
   "source": [
    "from nltk.corpus import twitter_samples as tws"
   ]
  },
  {
   "cell_type": "markdown",
   "metadata": {
    "deletable": false,
    "nbgrader": {
     "checksum": "782ef32210576f371203bf83f90e8c9a",
     "grade": false,
     "grade_id": "markdown_4",
     "locked": true,
     "solution": false
    }
   },
   "source": [
    "- Write a function that creates a training set from the NLTK twitter corpus. Positive tweets are in `positive_tweets.json`, while negative tweets are in `negative_tweets.json`. The `data` and `targets` ararys should be one-dimensional numpy arrays, where the first half are the positive tweets and the second half are the negative tweets. Every positive tweets should be assigned a numerical label of 1 in `targets`, and negative tweets 0."
   ]
  },
  {
   "cell_type": "code",
   "execution_count": 5,
   "metadata": {
    "collapsed": false,
    "deletable": false,
    "nbgrader": {
     "checksum": "945661087204cb0a2cc7c6d606a96e6b",
     "grade": false,
     "grade_id": "get_pos_neg_tweets_answer",
     "locked": false,
     "solution": true
    }
   },
   "outputs": [],
   "source": [
    "def get_pos_neg_tweets(corpus):\n",
    "    '''\n",
    "    Creates a training set from twitter_samples corpus.\n",
    "    \n",
    "    Parameters\n",
    "    ----------\n",
    "    corpus: The nltk.corpus.twitter_samples corpus.\n",
    "    \n",
    "    Returns\n",
    "    -------\n",
    "    A tuple of (data, targets)\n",
    "    \n",
    "    '''\n",
    "    \n",
    "    # YOUR CODE HERE\n",
    "    pos_tweets = np.array(corpus.strings('positive_tweets.json'))\n",
    "    neg_tweets = np.array(corpus.strings('negative_tweets.json'))\n",
    "\n",
    "    pos_labels = np.ones(pos_tweets.shape[0])\n",
    "    neg_labels = np.zeros(neg_tweets.shape[0])\n",
    "\n",
    "    targets = np.concatenate((pos_labels, neg_labels), axis=0)\n",
    "    data = np.concatenate((pos_tweets, neg_tweets), axis = 0)\n",
    "    \n",
    "    return data, targets"
   ]
  },
  {
   "cell_type": "code",
   "execution_count": 6,
   "metadata": {
    "collapsed": false,
    "deletable": false,
    "nbgrader": {
     "checksum": "8202a842ed2430cffe38e04a04a2d178",
     "grade": false,
     "grade_id": "get_pos_neg_tweets_run",
     "locked": true,
     "solution": false
    }
   },
   "outputs": [],
   "source": [
    "data, targets = get_pos_neg_tweets(tws)"
   ]
  },
  {
   "cell_type": "code",
   "execution_count": 7,
   "metadata": {
    "collapsed": false,
    "deletable": false,
    "nbgrader": {
     "checksum": "30d3923b4ddab39d1e10e7a4f9ff3445",
     "grade": true,
     "grade_id": "get_pos_neg_tweets_test",
     "locked": true,
     "points": 8,
     "solution": false
    }
   },
   "outputs": [],
   "source": [
    "assert_is_instance(data, np.ndarray)\n",
    "assert_is_instance(targets, np.ndarray)\n",
    "assert_equal(len(data), 10000)\n",
    "assert_equal(len(targets), 10000)\n",
    "assert_array_equal(\n",
    "    data[:5],\n",
    "    [\n",
    "        '#FollowFriday @France_Inte @PKuchly57 @Milipol_Paris for being top '\n",
    "            'engaged members in my community this week :)',\n",
    "        '@Lamb2ja Hey James! How odd :/ Please call our Contact Centre on 02392441234'\n",
    "            ' and we will be able to assist you :) Many thanks!',\n",
    "        '@DespiteOfficial we had a listen last night :) As You Bleed is an amazing '\n",
    "            'track. When are you in Scotland?!',\n",
    "        '@97sides CONGRATS :)',\n",
    "        'yeaaaah yippppy!!!  my accnt verified rqst has succeed got a blue tick mark '\n",
    "            'on my fb profile :) in 15 days'\n",
    "        ]\n",
    "    )\n",
    "assert_array_equal(\n",
    "    data[5000:5005],\n",
    "    [\n",
    "        'hopeless for tmr :(',\n",
    "        \"Everything in the kids section of IKEA is so cute. Shame I'm nearly 19 in \"\n",
    "            \"2 months :(\",\n",
    "        '@Hegelbon That heart sliding into the waste basket. :(',\n",
    "        '“@ketchBurning: I hate Japanese call him \"bani\" :( :(”\\n\\nMe too',\n",
    "        'Dang starting next week I have \"work\" :('\n",
    "        ]\n",
    "    )\n",
    "assert_array_equal(targets[:5000], [1] * 5000)\n",
    "assert_array_equal(targets[5000:], [0] * 5000)"
   ]
  },
  {
   "cell_type": "markdown",
   "metadata": {
    "deletable": false,
    "nbgrader": {
     "checksum": "b1cde131e5d8089c74bc8d1595289786",
     "grade": false,
     "grade_id": "markdown_5",
     "locked": true,
     "solution": false
    }
   },
   "source": [
    "## Training\n",
    "\n",
    "We train on 80% of the data, and test the performance on the remaining 20%."
   ]
  },
  {
   "cell_type": "code",
   "execution_count": 8,
   "metadata": {
    "collapsed": true,
    "deletable": false,
    "nbgrader": {
     "checksum": "817bc70c856a9e6c753e28af0b2d550f",
     "grade": false,
     "grade_id": "train_test_split",
     "locked": true,
     "solution": false
    }
   },
   "outputs": [],
   "source": [
    "X_train, X_test, y_train, y_test = train_test_split(\n",
    "    data, targets, test_size=0.2, random_state=check_random_state(0)\n",
    "    )"
   ]
  },
  {
   "cell_type": "markdown",
   "metadata": {
    "deletable": false,
    "nbgrader": {
     "checksum": "4f73aaefd23d8e48813d8aeee1c474e7",
     "grade": false,
     "grade_id": "markdown_6",
     "locked": true,
     "solution": false
    }
   },
   "source": [
    "- Use unigrams, bigrams, and trigrams.\n",
    "- Build a pipeline by using TfidfVectorizer and RandomForestClassifier,\n",
    "- Name the first step tf and the second step rf,\n",
    "- Use default parameters for both TfidfVectorizer and RandomForestClassifier, and\n",
    "- Use English stop words,"
   ]
  },
  {
   "cell_type": "code",
   "execution_count": 9,
   "metadata": {
    "collapsed": true,
    "deletable": false,
    "nbgrader": {
     "checksum": "de5ee1700080cd9e9697c9b6638a71cf",
     "grade": false,
     "grade_id": "train_answer",
     "locked": false,
     "solution": true
    }
   },
   "outputs": [],
   "source": [
    "def train(X_train, y_train, X_test, random_state):\n",
    "    '''\n",
    "    Creates a document term matrix and uses Random Forest classifier to make document classifications.\n",
    "    \n",
    "    Parameters\n",
    "    ----------\n",
    "    X_train: A list of strings.\n",
    "    y_train: A list of strings.\n",
    "    X_test: A list of strings.\n",
    "    random_state: A np.random.RandomState instance.\n",
    "    \n",
    "    Returns\n",
    "    -------\n",
    "    A tuple of (clf, y_pred)\n",
    "    clf: A Pipeline instance.\n",
    "    y_pred: A numpy array.\n",
    "    '''\n",
    "    \n",
    "    # YOUR CODE HERE\n",
    "\n",
    "    tools = [('tf', TfidfVectorizer(stop_words = 'english', ngram_range = (1, 3))), \n",
    "             ('rf', RandomForestClassifier(random_state = random_state))]\n",
    "    clf = Pipeline(tools)\n",
    "    \n",
    "    # fit data\n",
    "    clf.fit(X_train, y_train)\n",
    "    # make prediction\n",
    "    y_pred = clf.predict(X_test)\n",
    "    \n",
    "    return clf, y_pred"
   ]
  },
  {
   "cell_type": "code",
   "execution_count": 10,
   "metadata": {
    "collapsed": false,
    "deletable": false,
    "nbgrader": {
     "checksum": "e76ab1dfd4fa60a2e7eb1fb69d513f58",
     "grade": false,
     "grade_id": "train_run",
     "locked": true,
     "solution": false
    }
   },
   "outputs": [
    {
     "name": "stdout",
     "output_type": "stream",
     "text": [
      "RF prediction accuracy =  72.3%\n"
     ]
    }
   ],
   "source": [
    "clf, y_pred = train(X_train, y_train, X_test, random_state=check_random_state(0))\n",
    "score = accuracy_score(y_pred, y_test)\n",
    "print(\"RF prediction accuracy = {0:5.1f}%\".format(100.0 * score))"
   ]
  },
  {
   "cell_type": "code",
   "execution_count": 11,
   "metadata": {
    "collapsed": false,
    "deletable": false,
    "nbgrader": {
     "checksum": "12f588d82212d003265a93599ab4abee",
     "grade": true,
     "grade_id": "train_test",
     "locked": true,
     "points": 8,
     "solution": false
    }
   },
   "outputs": [],
   "source": [
    "assert_is_instance(clf, Pipeline)\n",
    "assert_is_instance(y_pred, np.ndarray)\n",
    "tf = clf.named_steps['tf']\n",
    "assert_is_instance(tf, TfidfVectorizer)\n",
    "assert_is_instance(clf.named_steps['rf'], RandomForestClassifier)\n",
    "assert_equal(tf.stop_words, 'english')\n",
    "assert_equal(tf.ngram_range, (1, 3))\n",
    "assert_equal(len(y_pred), len(y_test))\n",
    "assert_array_equal(y_pred[:10], [0, 1, 1, 0, 1, 0, 0, 0, 1, 1])\n",
    "assert_array_equal(y_pred[-10:], [0, 0, 1, 1, 1, 0, 0, 0, 1, 0])\n",
    "assert_almost_equal(score, 0.723)"
   ]
  },
  {
   "cell_type": "markdown",
   "metadata": {
    "deletable": false,
    "nbgrader": {
     "checksum": "d953723857c2e90fd335cd805025fded",
     "grade": false,
     "grade_id": "markdown_7",
     "locked": true,
     "solution": false
    }
   },
   "source": [
    "## User timeline\n",
    "\n",
    "- Use Tweepy's [user_timeline()](http://docs.tweepy.org/en/latest/api.html#API.user_timeline) to extract 20 tweets from a specified user. Specify the `since_id` parameter for reproducibility."
   ]
  },
  {
   "cell_type": "code",
   "execution_count": 12,
   "metadata": {
    "collapsed": false,
    "deletable": false,
    "nbgrader": {
     "checksum": "6de7e56c427cdceaafd1826fba22cace",
     "grade": false,
     "grade_id": "get_timeline_answer",
     "locked": false,
     "solution": true
    }
   },
   "outputs": [],
   "source": [
    "def get_timeline(user, since_id, max_id):\n",
    "    '''\n",
    "    Fetches 20 tweets from \"user\".\n",
    "    \n",
    "    Parameters\n",
    "    ----------\n",
    "    user: A string. The ID or screen name of a Twitter user.\n",
    "    since_id: An int. Returns only statuses with an ID greater than (that is, more recent than) the specified ID.\n",
    "    max_id: An int. Returns only statuses with an ID less than (that is, older than) or equal to the specified ID..\n",
    "    \n",
    "    Returns\n",
    "    -------\n",
    "    A list of integers.\n",
    "    '''\n",
    "    \n",
    "    # Returns a collection of the most recent Tweets posted by the user \n",
    "    timeline = api.user_timeline(user, since_id = since_id, max_id = max_id)\n",
    "    \n",
    "    return timeline"
   ]
  },
  {
   "cell_type": "code",
   "execution_count": 13,
   "metadata": {
    "collapsed": false,
    "deletable": false,
    "nbgrader": {
     "checksum": "5e575a683786c8325fc2906aea61bdd5",
     "grade": false,
     "grade_id": "get_timeline_run_1",
     "locked": true,
     "solution": false
    }
   },
   "outputs": [],
   "source": [
    "timeline1 = get_timeline('TheDemocrats', since_id =735495811841298432  ,max_id=  837326424117817346 )"
   ]
  },
  {
   "cell_type": "code",
   "execution_count": 14,
   "metadata": {
    "collapsed": true,
    "deletable": false,
    "nbgrader": {
     "checksum": "b149256274e27398498d9b8a2b3c8897",
     "grade": false,
     "grade_id": "get_timeline_run_2",
     "locked": true,
     "solution": false
    }
   },
   "outputs": [],
   "source": [
    "timeline2 = get_timeline('GOP', since_id=  734118726795042817, max_id =834928725183586308)"
   ]
  },
  {
   "cell_type": "code",
   "execution_count": 15,
   "metadata": {
    "collapsed": false,
    "deletable": false,
    "nbgrader": {
     "checksum": "f2a3249df6607c497a74020488df889f",
     "grade": true,
     "grade_id": "get_timeline_test",
     "locked": true,
     "points": 8,
     "solution": false
    }
   },
   "outputs": [],
   "source": [
    "assert_equal(\n",
    "    [t.id for t in timeline1],\n",
    "    [837326424117817346,\n",
    "    837320785794564096,\n",
    "    837100935457488901,\n",
    "    837072132290949120,\n",
    "    837052049317588994,\n",
    "    837037094686031873,\n",
    "    837011510446682113,\n",
    "    836990720640749569,\n",
    "    836966617632342016,\n",
    "    836803847762886656,\n",
    "    836801033133260800,\n",
    "    836785330455998464,\n",
    "    836779989068558336,\n",
    "    836777446821281792,\n",
    "    836771651694039042,\n",
    "    836769183375458306,\n",
    "    836768477943836673,\n",
    "    836768098275495936,\n",
    "    836767367107645441,\n",
    "    836766862566387712]\n",
    "    )\n",
    "assert_equal(\n",
    "    [t.id for t in timeline2],\n",
    "    [834928725183586308,\n",
    "    834898073121861635,\n",
    "    834896078055014401,\n",
    "    834856145974153216,\n",
    "    834851413746413568,\n",
    "    834807922995712000,\n",
    "    834790862815125504,\n",
    "    834779274175512576,\n",
    "    834756446608879618,\n",
    "    834531775883911168,\n",
    "    834513243087523841,\n",
    "    834497491517263872,\n",
    "    834205062805196800,\n",
    "    834058475785351168,\n",
    "    833738748894535680,\n",
    "    833699482852327425,\n",
    "    833682386953056256,\n",
    "    833489605559275520,\n",
    "    833371582366175233,\n",
    "    833368197160136706])"
   ]
  },
  {
   "cell_type": "markdown",
   "metadata": {
    "deletable": false,
    "nbgrader": {
     "checksum": "5c8a445da1079306af51ca52afb37459",
     "grade": false,
     "grade_id": "markdown_8",
     "locked": true,
     "solution": false
    }
   },
   "source": [
    "## Make predictions\n",
    "\n",
    "- Use the RandomForestClassifier to classify each tweet in timeline as a positive tweet or a negative tweet."
   ]
  },
  {
   "cell_type": "code",
   "execution_count": 16,
   "metadata": {
    "collapsed": true,
    "deletable": false,
    "nbgrader": {
     "checksum": "4ebfe4eb859f679dc53be5af4c885519",
     "grade": false,
     "grade_id": "predict_answer",
     "locked": false,
     "solution": true
    }
   },
   "outputs": [],
   "source": [
    "def predict(clf, timeline):\n",
    "    '''\n",
    "    Uses a classifier (\"clf\") to classify each tweet in\n",
    "    \"timeline\" as a positive tweet or a negative tweet.\n",
    "    \n",
    "    Parameters\n",
    "    ----------\n",
    "    clf: A Pipeline instance.\n",
    "    timeline: A tweepy.models.ResultSet instance.\n",
    "    \n",
    "    Returns\n",
    "    -------\n",
    "    A numpy array.\n",
    "    '''\n",
    "    \n",
    "    # YOUR CODE HERE\n",
    "    messages = []\n",
    "\n",
    "    for tweet in timeline:\n",
    "        messages.append(tweet.text)\n",
    "\n",
    "    new_tweets = np.array(messages)\n",
    "    y_pred = clf.predict(new_tweets)\n",
    "\n",
    "    return y_pred"
   ]
  },
  {
   "cell_type": "code",
   "execution_count": 17,
   "metadata": {
    "collapsed": false,
    "deletable": false,
    "nbgrader": {
     "checksum": "ab84bb414726cd8f209768932a2092be",
     "grade": false,
     "grade_id": "predict_run_1",
     "locked": true,
     "solution": false
    }
   },
   "outputs": [
    {
     "name": "stdout",
     "output_type": "stream",
     "text": [
      "The Democrats account has 3 positive tweets and 17 negative tweets.\n"
     ]
    }
   ],
   "source": [
    "pred1 = predict(clf, timeline1)\n",
    "print('{} has {} positive tweets and {} negative tweets.'.format(\n",
    "    'The Democrats account', (pred1 == 1).sum(), (pred1 == 0).sum()))"
   ]
  },
  {
   "cell_type": "code",
   "execution_count": 18,
   "metadata": {
    "collapsed": false,
    "deletable": false,
    "nbgrader": {
     "checksum": "ba9b4b3d536040b329239641068b195e",
     "grade": true,
     "grade_id": "predict_test_1",
     "locked": true,
     "points": 5,
     "solution": false
    }
   },
   "outputs": [],
   "source": [
    "assert_is_instance(pred1, np.ndarray)\n",
    "assert_array_equal(\n",
    "     pred1,\n",
    "     [0.,  0.,  0.,  0.,  0.,  0.,  0.,  0.,  1.,  1.,  \n",
    "      0.,  0.,  0.,  0.,  0.,  0.,  0.,  0., 1.,  0.]\n",
    "    )"
   ]
  },
  {
   "cell_type": "code",
   "execution_count": 19,
   "metadata": {
    "collapsed": false,
    "deletable": false,
    "nbgrader": {
     "checksum": "0cb4a36c07f3598181e986a9b9e37380",
     "grade": false,
     "grade_id": "predict_run_2",
     "locked": true,
     "solution": false
    }
   },
   "outputs": [
    {
     "name": "stdout",
     "output_type": "stream",
     "text": [
      "The GOP account has 14 positive tweets and 6 negative tweets.\n"
     ]
    }
   ],
   "source": [
    "pred2 = predict(clf, timeline2)\n",
    "print('{} has {} positive tweets and {} negative tweets.'.format(\n",
    "    'The GOP account', (pred2 == 1).sum(), (pred2 == 0).sum()))"
   ]
  },
  {
   "cell_type": "code",
   "execution_count": 20,
   "metadata": {
    "collapsed": false,
    "deletable": false,
    "nbgrader": {
     "checksum": "2f8510076f0fbf68a50663f3d587173f",
     "grade": true,
     "grade_id": "predict_test_2",
     "locked": true,
     "points": 5,
     "solution": false
    }
   },
   "outputs": [],
   "source": [
    "assert_is_instance(pred2, np.ndarray)\n",
    "assert_array_equal(\n",
    "     pred2,\n",
    "     [1.,  1.,  1.,  1.,  0. , 1.,  0.,  0.,  1.,  0.,  \n",
    "      1.,  1.,  1.,  1.,  1.,  1.,  1.,  0., 0.,  1.]\n",
    "    )"
   ]
  }
 ],
 "metadata": {
  "kernelspec": {
   "display_name": "Python 3",
   "language": "python",
   "name": "python3"
  },
  "language_info": {
   "codemirror_mode": {
    "name": "ipython",
    "version": 3
   },
   "file_extension": ".py",
   "mimetype": "text/x-python",
   "name": "python",
   "nbconvert_exporter": "python",
   "pygments_lexer": "ipython3",
   "version": "3.5.2"
  }
 },
 "nbformat": 4,
 "nbformat_minor": 0
}
