{
 "cells": [
  {
   "cell_type": "markdown",
   "metadata": {
    "deletable": false,
    "nbgrader": {
     "checksum": "1891bdcd87c6c960df75b6e90b02b234",
     "grade": false,
     "grade_id": "header",
     "locked": true,
     "solution": false
    }
   },
   "source": [
    "If you are not using the `Assignments` tab on the course JupyterHub server to read this notebook, read [Activating the assignments tab](https://github.com/lcdm-uiuc/info490-sp17/blob/master/help/act_assign_tab.md).\n",
    "\n",
    "A few things you should keep in mind when working on assignments:\n",
    "\n",
    "1. Make sure you fill in any place that says `YOUR CODE HERE`. Do **not** write your answer in anywhere else other than where it says `YOUR CODE HERE`. Anything you write anywhere else will be removed or overwritten by the autograder.\n",
    "\n",
    "2. Before you submit your assignment, make sure everything runs as expected. Go to menubar, select _Kernel_, and restart the kernel and run all cells (_Restart & Run all_).\n",
    "\n",
    "3. Do not change the title (i.e. file name) of this notebook.\n",
    "\n",
    "4. Make sure that you save your work (in the menubar, select _File_ → _Save and CheckPoint_)\n",
    "\n",
    "5. You are allowed to submit an assignment multiple times, but only the most recent submission will be graded."
   ]
  },
  {
   "cell_type": "markdown",
   "metadata": {},
   "source": [
    "# Problem 6.2. Anomaly Detection\n",
    "\n",
    "In this problem, we will use machine learning techniques for anomaly detection to search for outliers in the data that pertains to the presence or absence of a vertebal / backbone disorder in a patient."
   ]
  },
  {
   "cell_type": "code",
   "execution_count": 1,
   "metadata": {
    "collapsed": false,
    "deletable": false,
    "nbgrader": {
     "checksum": "d5bed13f18e9f041d4d5372bd2153ba9",
     "grade": false,
     "grade_id": "import",
     "locked": true,
     "solution": false
    }
   },
   "outputs": [],
   "source": [
    "% matplotlib inline\n",
    "\n",
    "import seaborn as sns\n",
    "import matplotlib as mpl\n",
    "import matplotlib.pyplot as plt\n",
    "import numpy as np\n",
    "import pandas as pd\n",
    "import matplotlib.pyplot as plt\n",
    "from scipy import stats\n",
    "\n",
    "from sklearn.preprocessing import StandardScaler\n",
    "from sklearn.decomposition import PCA\n",
    "from sklearn import preprocessing\n",
    "from sklearn import svm\n",
    "from sklearn.utils import check_random_state\n",
    "\n",
    "from nose.tools import assert_equal, assert_almost_equal, assert_is_instance, assert_is_not, assert_in\n",
    "from numpy.testing import assert_array_equal, assert_array_almost_equal\n",
    "from pandas.util.testing import assert_frame_equal\n",
    "\n",
    "import warnings\n",
    "warnings.filterwarnings(\"ignore\")"
   ]
  },
  {
   "cell_type": "markdown",
   "metadata": {},
   "source": [
    "## Vertebral Column Data set\n",
    "We shall be looking at the vertebral column data set for this problem. This data set has been taken from the [UCI Machine Learning repository](http://archive.ics.uci.edu/ml/datasets/Vertebral+Column). The [vertebral column](https://en.wikipedia.org/wiki/Vertebral_column) or the backbone in humans consists of thirty three vertebrae that provide support to the body, but most importantly, houses the spinal cord which is the integral part of the [central nervous system](https://en.wikipedia.org/wiki/Central_nervous_system). \n",
    "The data set consists of data from 310 patients with six biomechanical features related to the pelvis and lumbar spine, namely, pelvic incidence, pelvic tilt, lumbar lordosis angle, sacral slope, pelvic radius and grade of spondylolisthesis. Further information on these features, can be found in this [publication](https://pdfs.semanticscholar.org/a972/7a403fc0b6c9324be101295fd6a42577f3c2.pdf). In addition to these features, the data set contains information about the condition of the patient. There are 210 patients that were diagnosed with either [sponylolisthesis](https://en.wikipedia.org/wiki/Spondylolisthesis) or [disc herniation](https://en.wikipedia.org/wiki/Spinal_disc_herniation) were classified with \"abnormal\" vertebral condition, denoted by 'AB', while there are 100 patients who didn't show any signs of these diseases were classified as having \"normal\" vetebral condition, denoted by 'NO'.\n",
    "Let's load the data set into a Pandas DataFrame."
   ]
  },
  {
   "cell_type": "code",
   "execution_count": 2,
   "metadata": {
    "collapsed": false,
    "deletable": false,
    "nbgrader": {
     "checksum": "b0fc1bd68557d60050dbdbcdd4c8d71d",
     "grade": false,
     "grade_id": "read_csv",
     "locked": true,
     "solution": false
    }
   },
   "outputs": [
    {
     "name": "stdout",
     "output_type": "stream",
     "text": [
      "   PelvicIncidence  PelvicTilt  LumbarLordosisAngle  SacralSlope  \\\n",
      "0            63.03       22.55                39.61        40.48   \n",
      "1            39.06       10.06                25.02        29.00   \n",
      "2            68.83       22.22                50.09        46.61   \n",
      "3            69.30       24.65                44.31        44.64   \n",
      "4            49.71        9.65                28.32        40.06   \n",
      "\n",
      "   PelvicRadius  SpondylolisthesisGrade PatientCondition  \n",
      "0         98.67                   -0.25               AB  \n",
      "1        114.41                    4.56               AB  \n",
      "2        105.99                   -3.53               AB  \n",
      "3        101.87                   11.21               AB  \n",
      "4        108.17                    7.92               AB  \n"
     ]
    }
   ],
   "source": [
    "vc_data = pd.read_csv('/home/data_scientist/data/misc/vert_column.csv', header=0, na_values='NA')\n",
    "#vc_data = pd.read_csv('./data/vert_column.csv', header=0, na_values='NA') \n",
    "print(vc_data.head())"
   ]
  },
  {
   "cell_type": "code",
   "execution_count": 3,
   "metadata": {
    "collapsed": false,
    "deletable": false,
    "nbgrader": {
     "checksum": "9d5b5c6c065ed9645c7d201c27c1618d",
     "grade": false,
     "grade_id": "describe_data",
     "locked": true,
     "solution": false
    }
   },
   "outputs": [
    {
     "data": {
      "text/html": [
       "<div>\n",
       "<table border=\"1\" class=\"dataframe\">\n",
       "  <thead>\n",
       "    <tr style=\"text-align: right;\">\n",
       "      <th></th>\n",
       "      <th>PelvicIncidence</th>\n",
       "      <th>PelvicTilt</th>\n",
       "      <th>LumbarLordosisAngle</th>\n",
       "      <th>SacralSlope</th>\n",
       "      <th>PelvicRadius</th>\n",
       "      <th>SpondylolisthesisGrade</th>\n",
       "    </tr>\n",
       "  </thead>\n",
       "  <tbody>\n",
       "    <tr>\n",
       "      <th>count</th>\n",
       "      <td>310.000000</td>\n",
       "      <td>310.000000</td>\n",
       "      <td>310.000000</td>\n",
       "      <td>310.000000</td>\n",
       "      <td>310.000000</td>\n",
       "      <td>310.000000</td>\n",
       "    </tr>\n",
       "    <tr>\n",
       "      <th>mean</th>\n",
       "      <td>60.496484</td>\n",
       "      <td>17.542903</td>\n",
       "      <td>51.930710</td>\n",
       "      <td>42.953871</td>\n",
       "      <td>117.920548</td>\n",
       "      <td>26.296742</td>\n",
       "    </tr>\n",
       "    <tr>\n",
       "      <th>std</th>\n",
       "      <td>17.236109</td>\n",
       "      <td>10.008140</td>\n",
       "      <td>18.553766</td>\n",
       "      <td>13.422748</td>\n",
       "      <td>13.317629</td>\n",
       "      <td>37.558883</td>\n",
       "    </tr>\n",
       "    <tr>\n",
       "      <th>min</th>\n",
       "      <td>26.150000</td>\n",
       "      <td>-6.550000</td>\n",
       "      <td>14.000000</td>\n",
       "      <td>13.370000</td>\n",
       "      <td>70.080000</td>\n",
       "      <td>-11.060000</td>\n",
       "    </tr>\n",
       "    <tr>\n",
       "      <th>25%</th>\n",
       "      <td>46.432500</td>\n",
       "      <td>10.667500</td>\n",
       "      <td>37.000000</td>\n",
       "      <td>33.347500</td>\n",
       "      <td>110.710000</td>\n",
       "      <td>1.600000</td>\n",
       "    </tr>\n",
       "    <tr>\n",
       "      <th>50%</th>\n",
       "      <td>58.690000</td>\n",
       "      <td>16.360000</td>\n",
       "      <td>49.565000</td>\n",
       "      <td>42.405000</td>\n",
       "      <td>118.265000</td>\n",
       "      <td>11.765000</td>\n",
       "    </tr>\n",
       "    <tr>\n",
       "      <th>75%</th>\n",
       "      <td>72.880000</td>\n",
       "      <td>22.120000</td>\n",
       "      <td>63.000000</td>\n",
       "      <td>52.692500</td>\n",
       "      <td>125.467500</td>\n",
       "      <td>41.285000</td>\n",
       "    </tr>\n",
       "    <tr>\n",
       "      <th>max</th>\n",
       "      <td>129.830000</td>\n",
       "      <td>49.430000</td>\n",
       "      <td>125.740000</td>\n",
       "      <td>121.430000</td>\n",
       "      <td>163.070000</td>\n",
       "      <td>418.540000</td>\n",
       "    </tr>\n",
       "  </tbody>\n",
       "</table>\n",
       "</div>"
      ],
      "text/plain": [
       "       PelvicIncidence  PelvicTilt  LumbarLordosisAngle  SacralSlope  \\\n",
       "count       310.000000  310.000000           310.000000   310.000000   \n",
       "mean         60.496484   17.542903            51.930710    42.953871   \n",
       "std          17.236109   10.008140            18.553766    13.422748   \n",
       "min          26.150000   -6.550000            14.000000    13.370000   \n",
       "25%          46.432500   10.667500            37.000000    33.347500   \n",
       "50%          58.690000   16.360000            49.565000    42.405000   \n",
       "75%          72.880000   22.120000            63.000000    52.692500   \n",
       "max         129.830000   49.430000           125.740000   121.430000   \n",
       "\n",
       "       PelvicRadius  SpondylolisthesisGrade  \n",
       "count    310.000000              310.000000  \n",
       "mean     117.920548               26.296742  \n",
       "std       13.317629               37.558883  \n",
       "min       70.080000              -11.060000  \n",
       "25%      110.710000                1.600000  \n",
       "50%      118.265000               11.765000  \n",
       "75%      125.467500               41.285000  \n",
       "max      163.070000              418.540000  "
      ]
     },
     "execution_count": 3,
     "metadata": {},
     "output_type": "execute_result"
    }
   ],
   "source": [
    "#Let's take a look at the statistical summary of our attributes\n",
    "vc_data.describe()"
   ]
  },
  {
   "cell_type": "markdown",
   "metadata": {},
   "source": [
    "## Standardization\n",
    "PCA is a scale-dependent method. For example, if the range of one column is [-100, 100], while the that of another column is [-0.1, 0.1], PCA will place more weight on the feature with larger values. One way to avoid this is to standardize a data set by scaling each feature so that the individual features all look like Gausssian distributions with zero mean and unit variance.\n",
    "For further detail, see Preprocessing data. The function scale provides a quick and easy way to perform this operation on a single array-like dataset.\n",
    "Write a function named standardize() that uses sklearn.preprocessing.StandardScaler to scale each features so that they have zero mean and unit variance."
   ]
  },
  {
   "cell_type": "code",
   "execution_count": 4,
   "metadata": {
    "collapsed": false,
    "deletable": false,
    "nbgrader": {
     "checksum": "38044b810de9ce0d4fdb9ea812908d73",
     "grade": false,
     "grade_id": "standardize_ans",
     "locked": false,
     "solution": true
    }
   },
   "outputs": [],
   "source": [
    "def standardize(df):\n",
    "    '''\n",
    "    Uses sklearn.preprocessing.StandardScaler to make each features look like\n",
    "    a Gaussian with zero mean and unit variance.\n",
    "    \n",
    "    Parameters\n",
    "    ----------\n",
    "    df: A pandas.DataFrame\n",
    "    \n",
    "    Returns\n",
    "    -------\n",
    "    A numpy array.\n",
    "    '''\n",
    "    \n",
    "    # YOUR CODE HERE   \n",
    "    # scale features\n",
    "    std_scaler = preprocessing.StandardScaler()\n",
    "    \n",
    "    # preprocessing can only be used on arrays\n",
    "    columns = []\n",
    "    scaled = []\n",
    "    for i in range(len(df.columns)):\n",
    "        columns.append(np.array(df.ix[:, i]))\n",
    "        scaled.append(std_scaler.fit_transform(columns[i].astype(float)))\n",
    "    \n",
    "    scaled = pd.DataFrame(scaled).T\n",
    "    \n",
    "    # add column names\n",
    "    scaled.columns = df.columns\n",
    "    scaled = scaled.as_matrix()\n",
    "    \n",
    "    return scaled\n"
   ]
  },
  {
   "cell_type": "code",
   "execution_count": 5,
   "metadata": {
    "collapsed": false,
    "deletable": false,
    "nbgrader": {
     "checksum": "75bc12629871e9935daec141dfe5d99f",
     "grade": false,
     "grade_id": "scaling",
     "locked": true,
     "solution": false
    }
   },
   "outputs": [],
   "source": [
    "scaled = standardize(vc_data[vc_data.columns[:6]])"
   ]
  },
  {
   "cell_type": "code",
   "execution_count": 6,
   "metadata": {
    "collapsed": false,
    "deletable": false,
    "nbgrader": {
     "checksum": "0429a14ea1290f70c329f7061539261c",
     "grade": true,
     "grade_id": "standardize_test",
     "locked": true,
     "points": 5,
     "solution": false
    }
   },
   "outputs": [],
   "source": [
    "rng = np.random.RandomState(0)\n",
    "n_samples, n_features = 4, 5\n",
    "\n",
    "df_t1 = pd.DataFrame(\n",
    "    rng.randn(n_samples, n_features),\n",
    "    index=[i for i in 'abcd'],\n",
    "    columns=[c for c  in 'abcde']\n",
    "    )\n",
    "df_t1.loc[:, 'a'] = 0.0  # make first feature zero\n",
    "\n",
    "scaled_t1 = standardize(df_t1)\n",
    "\n",
    "assert_is_not(df_t1, scaled_t1)\n",
    "assert_is_instance(scaled_t1, np.ndarray)\n",
    "assert_array_almost_equal(\n",
    "    scaled_t1.mean(axis=0),\n",
    "    n_features * [0.0] # scaled data should have mean zero\n",
    "    ) \n",
    "assert_array_almost_equal(\n",
    "    scaled_t1.std(axis=0),\n",
    "    [0., 1., 1., 1., 1.] # unit variance except for 1st feature\n",
    "    )"
   ]
  },
  {
   "cell_type": "markdown",
   "metadata": {},
   "source": [
    "\n",
    "## Principal Components Analysis\n",
    "Write a function named fit_pca() that takes a pandas.DataFrame and uses sklearn.decomposition.PCA to fit a PCA model on all values of df."
   ]
  },
  {
   "cell_type": "code",
   "execution_count": 7,
   "metadata": {
    "collapsed": true,
    "deletable": false,
    "nbgrader": {
     "checksum": "37b8173a5dddd83bf2823abfbe38aaa5",
     "grade": false,
     "grade_id": "pca_ans",
     "locked": false,
     "solution": true
    }
   },
   "outputs": [],
   "source": [
    "def fit_pca(df, n_components):\n",
    "    '''\n",
    "    Uses sklearn.decomposition.PCA to fit a PCA model on \"df\" via fit using fit_transform()\n",
    "    \n",
    "    Parameters\n",
    "    ----------\n",
    "    df: A pandas.DataFrame. Comes from delta.csv.\n",
    "    n_components: An int. Number of principal components to keep.\n",
    "    \n",
    "    Returns\n",
    "    -------\n",
    "    a tuple of an sklearn.decomposition.pca.PCA instance and a numpy array containing the reduced data set\n",
    "    '''\n",
    "    \n",
    "    # YOUR CODE HERE\n",
    "    pca = PCA(n_components = n_components)\n",
    "    pca.fit(df)\n",
    "    \n",
    "    # reduced data set\n",
    "    reduced = pca.fit_transform(df)\n",
    "    \n",
    "    return pca, reduced"
   ]
  },
  {
   "cell_type": "code",
   "execution_count": 8,
   "metadata": {
    "collapsed": false
   },
   "outputs": [],
   "source": [
    "# using 4 components (randomly chosen)\n",
    "n_components = 4\n",
    "pca, reduced = fit_pca(scaled, n_components=n_components)"
   ]
  },
  {
   "cell_type": "code",
   "execution_count": 9,
   "metadata": {
    "collapsed": false,
    "deletable": false,
    "nbgrader": {
     "checksum": "d1992507aba4bbf9b08f213678b27833",
     "grade": true,
     "grade_id": "pca_test",
     "locked": true,
     "points": 5,
     "solution": false
    }
   },
   "outputs": [],
   "source": [
    "\n",
    "assert_almost_equal(pca.explained_variance_ratio_.sum(), 0.945664604953, 3)\n",
    "assert_is_instance(reduced, np.ndarray)\n",
    "\n",
    "\n",
    "t_pca, t_reduced = fit_pca(scaled_t1, 5)\n",
    "assert_almost_equal(t_pca.explained_variance_ratio_.sum(), 1.0, 3)"
   ]
  },
  {
   "cell_type": "markdown",
   "metadata": {},
   "source": [
    "## Calculating gamma and nu for oneClass SVM\n",
    "Before we can create a [oneClass SVM](http://scikit-learn.org/stable/modules/generated/sklearn.svm.OneClassSVM.html) model, we first need to calculate the tow of the important parameters required. A rule of thumb for deciding upon the value of gamma is that it should be a value between the inverse of the total instances (number of rows) and inverse of the features. For the purposes of this assignment: \n",
    " $$ \\gamma = \\dfrac {1}{total  number  of  rows} $$"
   ]
  },
  {
   "cell_type": "code",
   "execution_count": 10,
   "metadata": {
    "collapsed": true,
    "deletable": false,
    "nbgrader": {
     "checksum": "e36a63055615d63f21aa8955cf2b7d09",
     "grade": false,
     "grade_id": "get_gamma_nu",
     "locked": false,
     "solution": true
    }
   },
   "outputs": [],
   "source": [
    "def get_gamma_nu(df, frac_of_outliers):\n",
    "    '''\n",
    "    Calculates the gamma and nu values to be used for the model. \n",
    "    Uses the inverse of the number of cases for calculating gamma.\n",
    "    Uses the scikit learn recommended formula for calculating nu.\n",
    "    \n",
    "    Parameters\n",
    "    ----------\n",
    "    df: A pandas.DataFrame containing pca data.\n",
    "    frac_of_outliers: A float. Expected Outlier Fraction.\n",
    "    \n",
    "    Returns\n",
    "    -------\n",
    "    A tuple of gamma and nu values\n",
    "    '''\n",
    "    # YOUR CODE HERE\n",
    "    gamma = 1/(len(df))\n",
    "    nu = frac_of_outliers * 0.95 + 0.05\n",
    "    \n",
    "    return gamma, nu"
   ]
  },
  {
   "cell_type": "code",
   "execution_count": 11,
   "metadata": {
    "collapsed": false,
    "deletable": false,
    "nbgrader": {
     "checksum": "73d7e6dbd52b960e4cfa24ba9174ac0c",
     "grade": true,
     "grade_id": "test_gamma_nu",
     "locked": true,
     "points": 5,
     "solution": false
    }
   },
   "outputs": [],
   "source": [
    "\n",
    "rng = np.random.RandomState(0)\n",
    "n_samples, n_features = 4, 5\n",
    "\n",
    "df_t1 = pd.DataFrame(\n",
    "    rng.randn(n_samples, n_features),\n",
    "    index=[i for i in 'abcd'],\n",
    "    columns=[c for c  in 'abcde']\n",
    "    )\n",
    "df_t1.loc[:, 'a'] = 0.0  # make first feature zero\n",
    "\n",
    "\n",
    "test1, test2 = get_gamma_nu(scaled,0.1)\n",
    "assert_almost_equal(test1, 0.0032258064516129032, 5)\n",
    "assert_almost_equal(test2, 0.14500000000000002, 3)\n",
    "\n",
    "scaled_t1 = standardize(df_t1)\n",
    "pca_t1,t_reduced = fit_pca(scaled_t1,5)\n",
    "test3, test4 = get_gamma_nu(t_reduced, 0.2)\n",
    "assert_almost_equal(test3, 0.25, 2)\n",
    "assert_almost_equal(test4, 0.24, 2)"
   ]
  },
  {
   "cell_type": "markdown",
   "metadata": {},
   "source": [
    "## OneClassSVM fitting and estimates\n",
    "In the following code cell, write a function named get_svc that requires four parameters: df, kernel, frac_of_outliers and random_state. It returns a sklearn.svm.OneClassSVM Classifier instance."
   ]
  },
  {
   "cell_type": "code",
   "execution_count": 12,
   "metadata": {
    "collapsed": false,
    "deletable": false,
    "nbgrader": {
     "checksum": "18dec0d43aa0f75165fd36abdc8cd3db",
     "grade": false,
     "grade_id": "get_svc",
     "locked": false,
     "solution": true
    }
   },
   "outputs": [],
   "source": [
    "def get_svc(df, kernel, frac_of_outliers, random_state):\n",
    "    '''\n",
    "    Takes in df, kernel and random state parameters, calculates nu & gamma using get_gamma_nu()\n",
    "    and returns a One Class SVM classifier\n",
    "    \n",
    "    Parameters\n",
    "    ----------\n",
    "    df: A pandas.DataFrame. Standardized version of data.\n",
    "    kernel: A string that specifies kernel to be used in SVM\n",
    "    random_state: A numpy.random.RandomState instance\n",
    "    \n",
    "    Returns\n",
    "    -------\n",
    "    An sklearn.svm.OneClassSVM\n",
    "    '''\n",
    "    # YOUR CODE HERE\n",
    "    gamma, nuv = get_gamma_nu(df, frac_of_outliers)\n",
    "    \n",
    "    model = svm.OneClassSVM(nu = nuv, kernel = kernel, gamma = gamma, random_state = random_state)\n",
    "    \n",
    "    return model\n",
    "    "
   ]
  },
  {
   "cell_type": "code",
   "execution_count": 13,
   "metadata": {
    "collapsed": false,
    "deletable": false,
    "nbgrader": {
     "checksum": "f194d7c142af681e81009c093c701cbc",
     "grade": true,
     "grade_id": "test_svc",
     "locked": true,
     "points": 5,
     "solution": false
    }
   },
   "outputs": [],
   "source": [
    "t_ocSVM1 = get_svc(scaled_t1, 'rbf',0.1, check_random_state(0))\n",
    "assert_is_instance(t_ocSVM1, svm.OneClassSVM)\n",
    "assert_equal(t_ocSVM1.kernel, 'rbf')\n",
    "assert_almost_equal(t_ocSVM1.gamma,0.25)\n",
    "\n",
    "t_ocSVM2 = get_svc(scaled_t1, 'linear',0.1, check_random_state(0))\n",
    "assert_is_instance(t_ocSVM2, svm.OneClassSVM)\n",
    "assert_equal(t_ocSVM2.kernel, 'linear')\n",
    "assert_almost_equal(t_ocSVM1.gamma,0.25)"
   ]
  },
  {
   "cell_type": "markdown",
   "metadata": {},
   "source": [
    "## Fit and Predict\n",
    "In the following code cell, write a function named fit_and_pred that makes classification predictions on the standardized version of the dataset, other than taking in the classifier instance as a parameter.\n"
   ]
  },
  {
   "cell_type": "code",
   "execution_count": 14,
   "metadata": {
    "collapsed": false,
    "deletable": false,
    "nbgrader": {
     "checksum": "6af7edf15a905de00301429b19f6a9cc",
     "grade": false,
     "grade_id": "fit_and_pred",
     "locked": false,
     "solution": true
    }
   },
   "outputs": [],
   "source": [
    "def fit_and_pred(svc, df):\n",
    "    '''\n",
    "    Fits the \"svc\" model on the standardized dataframe \"df\"\n",
    "    Makes predictions on \"df\".\n",
    "    \n",
    "    Parameters\n",
    "    ----------\n",
    "    ocSVM: A sklearn classifier instance.\n",
    "    df: A pandas.DataFrame. Standardized version of data.\n",
    "    \n",
    "    Returns\n",
    "    -------\n",
    "    A numpy array\n",
    "    '''\n",
    "    \n",
    "    # YOUR CODE HERE\n",
    "    svc.fit(df)\n",
    "    preds = svc.predict(df)\n",
    "    \n",
    "    return preds\n",
    "\n"
   ]
  },
  {
   "cell_type": "code",
   "execution_count": 15,
   "metadata": {
    "collapsed": false,
    "deletable": false,
    "nbgrader": {
     "checksum": "c50c07223fa8aa14a8907c5ddac772af",
     "grade": true,
     "grade_id": "fit_and_pred_tests",
     "locked": true,
     "points": 5,
     "solution": false
    }
   },
   "outputs": [],
   "source": [
    "t_svc = get_svc(scaled_t1, 'rbf',0.1, check_random_state(0))\n",
    "test_pred = fit_and_pred(t_svc, scaled_t1)\n",
    "assert_array_equal(test_pred, np.array([ 1.,  1., -1., -1.]))\n",
    "\n",
    "t_data = pd.DataFrame({\n",
    "    'X0': np.arange(100), \n",
    "    'X1': np.arange(-25, 75),\n",
    "    })\n",
    "scaled_t2 =standardize(t_data) \n",
    "pca_t2 = fit_pca(scaled_t2, 2)\n",
    "t2_svc = get_svc(scaled_t2, 'rbf',0.1, check_random_state(0))\n",
    "test2_pred = fit_and_pred(t2_svc, scaled_t2)\n",
    "assert_array_equal(test2_pred, np.array(\n",
    "[-1., -1., -1., -1., -1., -1., -1., -1.,  1.,  1.,  1.,  1.,  1.,  1.,  1.,  1.,  1.,  1.,\n",
    "  1.,  1.,  1.,  1.,  1.,  1.,  1.,  1.,  1.,  1.,  1.,  1.,  1.,  1.,  1.,  1.,  1.,  1.,\n",
    "  1.,  1.,  1.,  1.,  1.,  1.,  1.,  1.,  1.,  1.,  1.,  1.,  1.,  1.,  1.,  1.,  1.,  1.,\n",
    "  1.,  1.,  1.,  1.,  1.,  1.,  1.,  1.,  1.,  1.,  1.,  1.,  1.,  1.,  1.,  1.,  1.,  1.,\n",
    "  1.,  1.,  1.,  1.,  1.,  1.,  1.,  1.,  1.,  1.,  1.,  1.,  1.,  1.,  1.,  1.,  1.,  1.,\n",
    "  1.,  1., -1., -1., -1., -1., -1., -1., -1., -1.]))"
   ]
  },
  {
   "cell_type": "code",
   "execution_count": 16,
   "metadata": {
    "collapsed": true,
    "deletable": false,
    "nbgrader": {
     "checksum": "08b7d9429f6bcb27fef903ad5d8639b9",
     "grade": false,
     "grade_id": "fit_pred",
     "locked": true,
     "solution": false
    }
   },
   "outputs": [],
   "source": [
    "svc = get_svc(reduced,'rbf',0.1, check_random_state(0))\n",
    "preds = fit_and_pred(svc, scaled)"
   ]
  },
  {
   "cell_type": "markdown",
   "metadata": {},
   "source": [
    "## Identifying inliers and outliers\n",
    "Next, we sort the inliers and outliers based on the prediction classes from the prediction results of the model we just fitted."
   ]
  },
  {
   "cell_type": "code",
   "execution_count": 17,
   "metadata": {
    "collapsed": true,
    "deletable": false,
    "nbgrader": {
     "checksum": "9382b63f171a916f0c5547ed1fb9ef84",
     "grade": false,
     "grade_id": "get_pred_classes",
     "locked": false,
     "solution": true
    }
   },
   "outputs": [],
   "source": [
    "def get_pred_classes(preds):\n",
    "    '''\n",
    "    Retrieves prediction classes (outliers and inliers) from the data from the predictions\n",
    "    made by the model.\n",
    "    \n",
    "    Parameters\n",
    "    ----------\n",
    "    preds: A numpy array, containing predictions.\n",
    "    \n",
    "    Returns\n",
    "    -------\n",
    "    A tuple of outliers and inliers that contain indices from the data set\n",
    "    '''\n",
    "    # YOUR CODE HERE\n",
    "    inliers = np.where(preds == 1)\n",
    "    outliers = np.where(preds == -1)\n",
    "    \n",
    "    return outliers, inliers"
   ]
  },
  {
   "cell_type": "code",
   "execution_count": 18,
   "metadata": {
    "collapsed": false,
    "deletable": false,
    "nbgrader": {
     "checksum": "ba6291d078c5771ede0d28c3e349ffeb",
     "grade": true,
     "grade_id": "test_pred_classes",
     "locked": true,
     "points": 5,
     "solution": false
    }
   },
   "outputs": [],
   "source": [
    "t_outliers, t_inliers = get_pred_classes(test_pred)\n",
    "assert_array_equal(t_outliers, [[2,3]])\n",
    "assert_array_equal(t_inliers, [[0, 1]])\n",
    "\n",
    "t2_outliers, t2_inliers = get_pred_classes(test2_pred)\n",
    "assert_array_equal(t2_outliers, [[ 0,  1,  2,  3,  4,  5,  6,  7, 92, 93, 94, 95, 96, 97, 98, 99]])\n",
    "assert_array_equal(t2_inliers, [[ 8,  9, 10, 11, 12, 13, 14, 15, 16, 17, 18, 19, 20, 21, 22, 23, 24,\n",
    "       25, 26, 27, 28, 29, 30, 31, 32, 33, 34, 35, 36, 37, 38, 39, 40, 41,\n",
    "       42, 43, 44, 45, 46, 47, 48, 49, 50, 51, 52, 53, 54, 55, 56, 57, 58,\n",
    "       59, 60, 61, 62, 63, 64, 65, 66, 67, 68, 69, 70, 71, 72, 73, 74, 75,\n",
    "       76, 77, 78, 79, 80, 81, 82, 83, 84, 85, 86, 87, 88, 89, 90, 91]])"
   ]
  },
  {
   "cell_type": "code",
   "execution_count": 19,
   "metadata": {
    "collapsed": false,
    "deletable": false,
    "nbgrader": {
     "checksum": "4e5a154df807e41cdc10f91d98ab67e2",
     "grade": false,
     "grade_id": "pred_classes",
     "locked": true,
     "solution": false
    }
   },
   "outputs": [],
   "source": [
    "outliers, inliers = get_pred_classes(preds)"
   ]
  },
  {
   "cell_type": "markdown",
   "metadata": {},
   "source": [
    "## Visualizing data along the first two principal components\n",
    "Use maplotlib.plt to write a function named draw_scatter_plot() that creates a scatter plot of the data points (with inliers and outliers identified) along the first two principal components, as these components explain bulk of the variance in the data set, as can be observed by executing the code cell below. \n"
   ]
  },
  {
   "cell_type": "code",
   "execution_count": 20,
   "metadata": {
    "collapsed": false,
    "deletable": false,
    "nbgrader": {
     "checksum": "9d9e6351c19b46f9f5d6bd948dc12dd6",
     "grade": false,
     "grade_id": "pca_variance",
     "locked": true,
     "solution": false
    }
   },
   "outputs": [
    {
     "name": "stdout",
     "output_type": "stream",
     "text": [
      "Explained Variance per PCA component\n",
      " -----------------------------------\n",
      "PCA component  0: 54.1%\n",
      "PCA component  1: 19.9%\n",
      "PCA component  2: 12.7%\n",
      "PCA component  3:  7.9%\n",
      "----------------------------------- \n",
      "Total Explained Variance (All PCA components: 94.6%\n",
      "\n",
      "Variance explained (First two PCA components): 74.0%\n",
      "\n",
      "Variance explained (Last two PCA components): 20.6%\n",
      "\n"
     ]
    }
   ],
   "source": [
    "print(\"Explained Variance per PCA component\\n\", 35*'-')\n",
    "for idx, val in enumerate(pca.explained_variance_ratio_):\n",
    "    print('PCA component {0:2d}: {1:4.1f}%'.format(idx, val*100))\n",
    "    \n",
    "print(35*'-', '\\nTotal Explained Variance (All PCA components: {0:4.1f}%\\n'.format(\n",
    " sum(pca.explained_variance_ratio_[:]*100)))\n",
    "\n",
    "print('Variance explained (First two PCA components): {0:4.1f}%\\n'.format(\n",
    "    sum(pca.explained_variance_ratio_[:2]*100)))\n",
    "\n",
    "print('Variance explained (Last two PCA components): {0:4.1f}%\\n'.format(\n",
    "    sum(pca.explained_variance_ratio_[-2:]*100)))"
   ]
  },
  {
   "cell_type": "markdown",
   "metadata": {},
   "source": [
    "\n",
    "When you run the following code for draw_scatter_plot, you should generate the following plot:\n",
    "![](./images/PCA1vsPCA2.png)\n",
    "It makes use of the parameters inliers and outliers (obtained from get_pred_classes() ) that contain indices or locations of rows that have been identified for the respective classes. These indices pertain to those rows in the dataframe \"reduced\" that contain the principal component values for all the four (n_components we arbitrarily chose) numerical features for each of 310 cases. \n",
    "``` python\n",
    ">>> print(reduced)\n",
    "\n",
    "[[-0.23836132 -0.89346458 -1.54747828  0.05457487]\n",
    " [-2.24645299 -0.40130963 -0.30289504  0.64297846]\n",
    " [ 0.27829698 -0.65388174 -1.00857292 -0.51419182]\n",
    " ..., \n",
    " [-0.49758212  0.66527053 -0.36814074 -0.52018082]\n",
    " [-1.53121937 -0.40717078  0.2418938  -0.10213197]\n",
    " [-2.44753393 -0.0975671   0.52558415  0.10893291]]\n",
    " ```\n",
    "\n",
    "For the scatterplot, we use the first principal component for the x-axis and the second principal component for the y-axis."
   ]
  },
  {
   "cell_type": "code",
   "execution_count": 24,
   "metadata": {
    "collapsed": false,
    "deletable": false,
    "nbgrader": {
     "checksum": "9ee20037f835c69e55d92dd2abdd86d7",
     "grade": false,
     "grade_id": "draw_scatter_plot",
     "locked": false,
     "solution": true
    }
   },
   "outputs": [],
   "source": [
    "def draw_scatter_plot(inliers, outliers, reduced):\n",
    "    '''\n",
    "    Uses matplotlib.plt to plot a scatter plot with PCA1 on x-axis and PCA2 on the y-axis\n",
    "    First plot the inliers on the scatter plot and then plot the outliers on the same graph.\n",
    "    \n",
    "    Parameters\n",
    "    ----------\n",
    "    inliers: array containing indices of the data points identified as inliers\n",
    "    outliers: array containing indices of the data points identified as outliers\n",
    "    reduced: dataFrame containing the principal components of our data (returned by pca_fit() )\n",
    "    \n",
    "    Returns\n",
    "    -------\n",
    "    A maplotlib.Axes instance\n",
    "    '''\n",
    "    # YOUR CODE HERE\n",
    "    sns.set(style = 'darkgrid')\n",
    "    fig, ax = plt.subplots(figsize = (10, 6))\n",
    "    \n",
    "    plt.plot(reduced[inliers,0], reduced[inliers,1], 'o', color='dodgerblue')\n",
    "    plt.plot(reduced[outliers, 0], reduced[outliers,1], 'd', color='lightcoral')\n",
    "    \n",
    "    plt.legend(loc = 2)\n",
    "    ax.set_xlim([-9, 4])\n",
    "    ax.set_ylim([-4, 4])\n",
    "    ax.set_xlabel('PCA Component 1 (54.1%)')\n",
    "    ax.set_ylabel('PCA Component 2 (19.9%)')\n",
    "    ax.set_title('Variance explained(First two PCA components): 74.0%')\n",
    "    sns.despine(offset=10)\n",
    "\n",
    "    return ax"
   ]
  },
  {
   "cell_type": "code",
   "execution_count": 25,
   "metadata": {
    "collapsed": false,
    "deletable": false,
    "nbgrader": {
     "checksum": "2255a1e10dd427d53982e68112df377c",
     "grade": false,
     "grade_id": "plot_scatter",
     "locked": true,
     "solution": false
    }
   },
   "outputs": [
    {
     "data": {
      "image/png": "[encoded data removed]",
      "text/plain": [
       "<matplotlib.figure.Figure at 0x7fad5cae83c8>"
      ]
     },
     "metadata": {},
     "output_type": "display_data"
    }
   ],
   "source": [
    "ax = draw_scatter_plot(inliers, outliers, reduced)\n"
   ]
  },
  {
   "cell_type": "code",
   "execution_count": 23,
   "metadata": {
    "collapsed": false,
    "deletable": false,
    "nbgrader": {
     "checksum": "879c0543011133762e557979d2eea372",
     "grade": true,
     "grade_id": "test_scatter_plot",
     "locked": true,
     "points": 10,
     "solution": false
    }
   },
   "outputs": [],
   "source": [
    "assert_is_instance(ax, mpl.axes.Axes, msg=\"Your function should return a matplotlib.axes.Axes object.\")\n",
    "assert_is_not(len(ax.title.get_text()), 0, msg=\"Your plot doesn't have a title.\")\n",
    "assert_is_not(ax.xaxis.get_label_text(), '', msg=\"Change the x-axis label to something more descriptive.\")\n",
    "assert_is_not(ax.yaxis.get_label_text(), '', msg=\"Change the y-axis label to something more descriptive.\")\n",
    "\n",
    "lines = ax.get_lines()\n",
    "pts_lines= [l for l in lines]\n",
    "#t_inliers = [l for l in lines if l.get_label()=='inliers'][0]\n",
    "#t_outliers = [l for l in lines if l.get_label()=='outliers'][0]\n",
    "t_xdata = pts_lines[0].get_xdata()\n",
    "t_ydata = pts_lines[0].get_ydata()\n",
    "\n",
    "t2_xdata = pts_lines[-1].get_xdata()\n",
    "t2_ydata = pts_lines[-1].get_ydata()\n",
    "\n",
    "assert_array_almost_equal(abs(t_xdata), [0.23836132], 3)\n",
    "assert_array_almost_equal(abs(t_ydata), [0.89346458], 3)\n",
    "assert_array_almost_equal(abs(t2_xdata), [2.59795974], 3)\n",
    "assert_array_almost_equal(abs(t2_ydata), [0.1584883],3)"
   ]
  }
 ],
 "metadata": {
  "kernelspec": {
   "display_name": "Python 3",
   "language": "python",
   "name": "python3"
  },
  "language_info": {
   "codemirror_mode": {
    "name": "ipython",
    "version": 3
   },
   "file_extension": ".py",
   "mimetype": "text/x-python",
   "name": "python",
   "nbconvert_exporter": "python",
   "pygments_lexer": "ipython3",
   "version": "3.5.2"
  }
 },
 "nbformat": 4,
 "nbformat_minor": 2
}
