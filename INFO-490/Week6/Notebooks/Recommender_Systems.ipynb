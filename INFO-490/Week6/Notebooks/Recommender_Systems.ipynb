{
 "cells": [
  {
   "cell_type": "markdown",
   "metadata": {},
   "source": [
    "<DIV ALIGN=CENTER>\n",
    "\n",
    "# Introduction to Recommender Systems\n",
    "## Professor Robert J. Brunner\n",
    "  \n",
    "</DIV>  \n",
    "-----\n",
    "-----"
   ]
  },
  {
   "cell_type": "markdown",
   "metadata": {},
   "source": [
    "\n",
    "## Introduction\n",
    "\n",
    "In this IPython Notebook, we introduce the concept of a [Recommender\n",
    "System][rs]. Recommender systems are among the most popular machine\n",
    "learning techniques, and, in general, encompass a number of different\n",
    "types of machine learning algorithms that we have covered including\n",
    "classification, regression, and clustering. Some of the most popular\n",
    "recommender system approaches, however, are different and are\n",
    "fundamentally tied to data management. The classic example of a\n",
    "recommender system, is the market basket analysis, where data mining is\n",
    "performed on purchase transaction logs to first learn what types of\n",
    "objects are bought together (e.g, peanut butter and jelly) in order to, second,\n",
    "predict what someone might be interested in buying once they have\n",
    "selected an item (e.g., when peanut butter has been added to the cart,\n",
    "recommend jelly).\n",
    "\n",
    "More formally, the data structures that support this type  of analysis\n",
    "are known as frequent sets, since we collect sets of frequently\n",
    "purchased items. The most famous algorithm in this category is the [_a\n",
    "priori_][wap] algorithm, where we use what we have learned from previous\n",
    "transactions to make predictions before (i.e., _a priori_ information)\n",
    "someone completes a transaction. More generally, these algorithms are\n",
    "known as _collaborative filtering_, since the algorithm collaboratively\n",
    "filters through records of many individuals to identify trends.\n",
    "Formally, these types of algorithms are used to make recommendations,\n",
    "hence the name _recommender systems_. In addition to the traditional\n",
    "_market basket_ analysis, these algorithms are also used to make\n",
    "recommendations for video, such as Netflix or Hulu, and audio sites, such\n",
    "as Pandora or Spotify.\n",
    "\n",
    "In fact, anyone who has shopped online has been exposed to these\n",
    "algorithms. For example, at Amazon, when you are viewing the page for a\n",
    "particular item, you also are presented information on _other items you\n",
    "might be interested in_ and on _what other items people buy instead_.\n",
    "The first case is an example of item-based collaborative filtering,\n",
    "where the results of other items people have purchased together with\n",
    "this item are identified. The second is an example of user-based\n",
    "collaborative filtering, where the results from other, similar users,\n",
    "are used to identify items that might be of interest. Sometimes,\n",
    "however, the [results of this analysis can be problematic][tpg], and one\n",
    "should always be considerate of the impact predictions might have on the\n",
    "end user (this is clearly an area where _big brother_ impacts everyone).\n",
    "\n",
    "In this Notebook, we explore a sample data set, movie reviews, that can\n",
    "be used to learn more about recommender systems. Since Python does not\n",
    "(yet) have a standard implementation of recommender systems, we instead\n",
    "develop a single, user-based collaborative filtering example that uses\n",
    "the movie review data to make recommendations for new movies.\n",
    "\n",
    "-----\n",
    "[rs]: https://en.wikipedia.org/wiki/Recommender_system\n",
    "[wap]: https://en.wikipedia.org/wiki/Apriori_algorithm\n",
    "[tpg]: http://www.workplaceethicsadvice.com/2012/02/target-sends-coupons-to-pregnant-girl-and-unawares-dad-explode.html"
   ]
  },
  {
   "cell_type": "markdown",
   "metadata": {
    "collapsed": false
   },
   "source": [
    "-----\n",
    "\n",
    "## Movie Lens Data\n",
    "\n",
    "To begin exploring recommender systems, we will explore the [Movie\n",
    "Lens][ml] data. One problem with recommender systems is that they can\n",
    "use significant resources to make predictions since a large quantity of\n",
    "data is required to make the best predictions. Originally, these\n",
    "algorithms were developed to work with relational database systems,\n",
    "working directly within the database engine for maximal performance. As\n",
    "a result, in this Notebook, we will restrict our analysis to the small\n",
    "Movie Lens data set.\n",
    "\n",
    "We can grab the latest version of the small Movie Lens data set and use\n",
    "within this notebook, however, for this class we have already pulled\n",
    "this data and placed it in the indicated location. Note, to grab the\n",
    "data, you can execute the following Unix commands, either in a code cell\n",
    "or at the Unix command prompt.\n",
    "\n",
    "```bash\n",
    "\n",
    "wget http://files.grouplens.org/datasets/movielens/ml-latest-small.zip\n",
    "\n",
    "unzip ml-latest-small.zip\n",
    "```\n",
    "\n",
    "This data set includes a summary document in a file called `README.txt`.\n",
    "This document contains a summary of this data, which is included\n",
    "verbatim below. You can read the entire file either at the command line\n",
    "or via `%load ml-latest-small/README.txt` in a code cell.\n",
    "\n",
    "> Summary\n",
    "> =======\n",
    "\n",
    "> This dataset (ml-latest-small) describes 5-star rating and free-text\n",
    "> tagging activity from [MovieLens](http://movielens.org), a movie\n",
    "> recommendation service. It contains 105339 ratings and 6138 tag\n",
    "> applications across 10329 movies. These data were created by 668 users\n",
    "> between April 03, 1996 and January 09, 2016. This dataset was generated\n",
    "> on January 11, 2016.\n",
    "\n",
    "> Users were selected at random for inclusion. All selected users had\n",
    "> rated at least 20 movies. No demographic information is included. Each\n",
    "> user is represented by an id, and no other information is provided.\n",
    "\n",
    "> The data are contained in four files, `links.csv`, `movies.csv`,\n",
    "> `ratings.csv` and `tags.csv`. More details about the contents and use of\n",
    "> all these files follows.\n",
    "\n",
    "> This is a *development* dataset. As such, it may change over time and is\n",
    "> not an appropriate dataset for shared research results. See available\n",
    "> *benchmark* datasets if that is your intent.\n",
    "\n",
    "> This and other GroupLens data sets are publicly available for download\n",
    "> at <http://grouplens.org/datasets/>.\n",
    "\n",
    "-----\n",
    "\n",
    "In the following code cells, we define the location of this file, and\n",
    "use Unix commands to display the contents of the small Movie Lens data\n",
    "and the number of ratings included.\n",
    "\n",
    "-----\n",
    "[ml]: http://grouplens.org/datasets/movielens/latest/"
   ]
  },
  {
   "cell_type": "code",
   "execution_count": 1,
   "metadata": {
    "collapsed": true
   },
   "outputs": [],
   "source": [
    "# NAme of the directory holding the Small MovieLens data\n",
    "data_dir = '/home/data_scientist/data/ml-latest-small'"
   ]
  },
  {
   "cell_type": "code",
   "execution_count": 2,
   "metadata": {
    "collapsed": false
   },
   "outputs": [
    {
     "name": "stdout",
     "output_type": "stream",
     "text": [
      "total 3436\r\n",
      "drwxr-xr-x  2 root root      89 Jan 11  2016 .\r\n",
      "drwxr-xr-x 10 root root    4096 Sep  3 15:17 ..\r\n",
      "-rw-r--r--  1 root root  207997 Jan 11  2016 links.csv\r\n",
      "-rw-r--r--  1 root root  515700 Jan 11  2016 movies.csv\r\n",
      "-rw-r--r--  1 root root 2580392 Jan 11  2016 ratings.csv\r\n",
      "-rw-r--r--  1 root root    8056 Jan 11  2016 README.txt\r\n",
      "-rw-r--r--  1 root root  199073 Jan 11  2016 tags.csv\r\n"
     ]
    }
   ],
   "source": [
    "!ls -la $data_dir"
   ]
  },
  {
   "cell_type": "code",
   "execution_count": 3,
   "metadata": {
    "collapsed": false
   },
   "outputs": [
    {
     "name": "stdout",
     "output_type": "stream",
     "text": [
      "105340 /home/data_scientist/data/ml-latest-small/ratings.csv\r\n"
     ]
    }
   ],
   "source": [
    "!wc -l $data_dir/ratings.csv"
   ]
  },
  {
   "cell_type": "markdown",
   "metadata": {},
   "source": [
    "-----\n",
    "\n",
    "## Exploratory Data Analysis\n",
    "\n",
    "Before developing our recommendation system, we first explore the Movie\n",
    "Lens data. To simplify this task, we will read the ratings data and the\n",
    "movies data into two separate DataFrames. We then display several rows\n",
    "from each DataFrame, as well as compute and display some basic\n",
    "statistics.\n",
    "\n",
    "-----\n",
    "\n"
   ]
  },
  {
   "cell_type": "code",
   "execution_count": 4,
   "metadata": {
    "collapsed": false
   },
   "outputs": [],
   "source": [
    "# Set up Notebook\n",
    "\n",
    "# Standard imports\n",
    "import numpy as np\n",
    "import numpy.ma as ma\n",
    "\n",
    "import pandas as pd\n",
    "\n",
    "# We do this to ignore several specific Pandas warnings\n",
    "import warnings\n",
    "warnings.filterwarnings(\"ignore\")"
   ]
  },
  {
   "cell_type": "code",
   "execution_count": 5,
   "metadata": {
    "collapsed": false
   },
   "outputs": [],
   "source": [
    "import os\n",
    "\n",
    "ratings_file = os.path.join(data_dir, 'ratings.csv')\n",
    "movies_file = os.path.join(data_dir, 'movies.csv')\n",
    "\n",
    "ratings = pd.read_csv(ratings_file)\n",
    "movies = pd.read_csv(movies_file)"
   ]
  },
  {
   "cell_type": "code",
   "execution_count": 6,
   "metadata": {
    "collapsed": false
   },
   "outputs": [
    {
     "data": {
      "text/html": [
       "<div>\n",
       "<table border=\"1\" class=\"dataframe\">\n",
       "  <thead>\n",
       "    <tr style=\"text-align: right;\">\n",
       "      <th></th>\n",
       "      <th>movieId</th>\n",
       "      <th>title</th>\n",
       "      <th>genres</th>\n",
       "    </tr>\n",
       "  </thead>\n",
       "  <tbody>\n",
       "    <tr>\n",
       "      <th>10324</th>\n",
       "      <td>146684</td>\n",
       "      <td>Cosmic Scrat-tastrophe (2015)</td>\n",
       "      <td>Animation|Children|Comedy</td>\n",
       "    </tr>\n",
       "    <tr>\n",
       "      <th>10325</th>\n",
       "      <td>146878</td>\n",
       "      <td>Le Grand Restaurant (1966)</td>\n",
       "      <td>Comedy</td>\n",
       "    </tr>\n",
       "    <tr>\n",
       "      <th>10326</th>\n",
       "      <td>148238</td>\n",
       "      <td>A Very Murray Christmas (2015)</td>\n",
       "      <td>Comedy</td>\n",
       "    </tr>\n",
       "    <tr>\n",
       "      <th>10327</th>\n",
       "      <td>148626</td>\n",
       "      <td>The Big Short (2015)</td>\n",
       "      <td>Drama</td>\n",
       "    </tr>\n",
       "    <tr>\n",
       "      <th>10328</th>\n",
       "      <td>149532</td>\n",
       "      <td>Marco Polo: One Hundred Eyes (2015)</td>\n",
       "      <td>(no genres listed)</td>\n",
       "    </tr>\n",
       "  </tbody>\n",
       "</table>\n",
       "</div>"
      ],
      "text/plain": [
       "       movieId                                title                     genres\n",
       "10324   146684        Cosmic Scrat-tastrophe (2015)  Animation|Children|Comedy\n",
       "10325   146878           Le Grand Restaurant (1966)                     Comedy\n",
       "10326   148238       A Very Murray Christmas (2015)                     Comedy\n",
       "10327   148626                 The Big Short (2015)                      Drama\n",
       "10328   149532  Marco Polo: One Hundred Eyes (2015)         (no genres listed)"
      ]
     },
     "execution_count": 6,
     "metadata": {},
     "output_type": "execute_result"
    }
   ],
   "source": [
    "movies.tail()"
   ]
  },
  {
   "cell_type": "code",
   "execution_count": 7,
   "metadata": {
    "collapsed": false
   },
   "outputs": [
    {
     "data": {
      "text/html": [
       "<div>\n",
       "<table border=\"1\" class=\"dataframe\">\n",
       "  <thead>\n",
       "    <tr style=\"text-align: right;\">\n",
       "      <th></th>\n",
       "      <th>userId</th>\n",
       "      <th>movieId</th>\n",
       "      <th>rating</th>\n",
       "      <th>timestamp</th>\n",
       "    </tr>\n",
       "  </thead>\n",
       "  <tbody>\n",
       "    <tr>\n",
       "      <th>105334</th>\n",
       "      <td>668</td>\n",
       "      <td>142488</td>\n",
       "      <td>4.0</td>\n",
       "      <td>1451535844</td>\n",
       "    </tr>\n",
       "    <tr>\n",
       "      <th>105335</th>\n",
       "      <td>668</td>\n",
       "      <td>142507</td>\n",
       "      <td>3.5</td>\n",
       "      <td>1451535889</td>\n",
       "    </tr>\n",
       "    <tr>\n",
       "      <th>105336</th>\n",
       "      <td>668</td>\n",
       "      <td>143385</td>\n",
       "      <td>4.0</td>\n",
       "      <td>1446388585</td>\n",
       "    </tr>\n",
       "    <tr>\n",
       "      <th>105337</th>\n",
       "      <td>668</td>\n",
       "      <td>144976</td>\n",
       "      <td>2.5</td>\n",
       "      <td>1448656898</td>\n",
       "    </tr>\n",
       "    <tr>\n",
       "      <th>105338</th>\n",
       "      <td>668</td>\n",
       "      <td>148626</td>\n",
       "      <td>4.5</td>\n",
       "      <td>1451148148</td>\n",
       "    </tr>\n",
       "  </tbody>\n",
       "</table>\n",
       "</div>"
      ],
      "text/plain": [
       "        userId  movieId  rating   timestamp\n",
       "105334     668   142488     4.0  1451535844\n",
       "105335     668   142507     3.5  1451535889\n",
       "105336     668   143385     4.0  1446388585\n",
       "105337     668   144976     2.5  1448656898\n",
       "105338     668   148626     4.5  1451148148"
      ]
     },
     "execution_count": 7,
     "metadata": {},
     "output_type": "execute_result"
    }
   ],
   "source": [
    "ratings.tail()"
   ]
  },
  {
   "cell_type": "code",
   "execution_count": 8,
   "metadata": {
    "collapsed": false
   },
   "outputs": [
    {
     "data": {
      "text/html": [
       "<div>\n",
       "<table border=\"1\" class=\"dataframe\">\n",
       "  <thead>\n",
       "    <tr style=\"text-align: right;\">\n",
       "      <th></th>\n",
       "      <th>userId</th>\n",
       "      <th>movieId</th>\n",
       "      <th>rating</th>\n",
       "      <th>timestamp</th>\n",
       "    </tr>\n",
       "  </thead>\n",
       "  <tbody>\n",
       "    <tr>\n",
       "      <th>count</th>\n",
       "      <td>105339.000000</td>\n",
       "      <td>105339.000000</td>\n",
       "      <td>105339.000000</td>\n",
       "      <td>1.053390e+05</td>\n",
       "    </tr>\n",
       "    <tr>\n",
       "      <th>mean</th>\n",
       "      <td>364.924539</td>\n",
       "      <td>13381.312477</td>\n",
       "      <td>3.516850</td>\n",
       "      <td>1.130424e+09</td>\n",
       "    </tr>\n",
       "    <tr>\n",
       "      <th>std</th>\n",
       "      <td>197.486905</td>\n",
       "      <td>26170.456869</td>\n",
       "      <td>1.044872</td>\n",
       "      <td>1.802660e+08</td>\n",
       "    </tr>\n",
       "    <tr>\n",
       "      <th>min</th>\n",
       "      <td>1.000000</td>\n",
       "      <td>1.000000</td>\n",
       "      <td>0.500000</td>\n",
       "      <td>8.285650e+08</td>\n",
       "    </tr>\n",
       "    <tr>\n",
       "      <th>25%</th>\n",
       "      <td>192.000000</td>\n",
       "      <td>1073.000000</td>\n",
       "      <td>3.000000</td>\n",
       "      <td>9.711008e+08</td>\n",
       "    </tr>\n",
       "    <tr>\n",
       "      <th>50%</th>\n",
       "      <td>383.000000</td>\n",
       "      <td>2497.000000</td>\n",
       "      <td>3.500000</td>\n",
       "      <td>1.115154e+09</td>\n",
       "    </tr>\n",
       "    <tr>\n",
       "      <th>75%</th>\n",
       "      <td>557.000000</td>\n",
       "      <td>5991.000000</td>\n",
       "      <td>4.000000</td>\n",
       "      <td>1.275496e+09</td>\n",
       "    </tr>\n",
       "    <tr>\n",
       "      <th>max</th>\n",
       "      <td>668.000000</td>\n",
       "      <td>149532.000000</td>\n",
       "      <td>5.000000</td>\n",
       "      <td>1.452405e+09</td>\n",
       "    </tr>\n",
       "  </tbody>\n",
       "</table>\n",
       "</div>"
      ],
      "text/plain": [
       "              userId        movieId         rating     timestamp\n",
       "count  105339.000000  105339.000000  105339.000000  1.053390e+05\n",
       "mean      364.924539   13381.312477       3.516850  1.130424e+09\n",
       "std       197.486905   26170.456869       1.044872  1.802660e+08\n",
       "min         1.000000       1.000000       0.500000  8.285650e+08\n",
       "25%       192.000000    1073.000000       3.000000  9.711008e+08\n",
       "50%       383.000000    2497.000000       3.500000  1.115154e+09\n",
       "75%       557.000000    5991.000000       4.000000  1.275496e+09\n",
       "max       668.000000  149532.000000       5.000000  1.452405e+09"
      ]
     },
     "execution_count": 8,
     "metadata": {},
     "output_type": "execute_result"
    }
   ],
   "source": [
    "# Summary statistics for the ratings data set\n",
    "ratings.describe()"
   ]
  },
  {
   "cell_type": "code",
   "execution_count": 9,
   "metadata": {
    "collapsed": false
   },
   "outputs": [
    {
     "data": {
      "text/html": [
       "<div>\n",
       "<table border=\"1\" class=\"dataframe\">\n",
       "  <thead>\n",
       "    <tr style=\"text-align: right;\">\n",
       "      <th></th>\n",
       "      <th>movieId</th>\n",
       "    </tr>\n",
       "  </thead>\n",
       "  <tbody>\n",
       "    <tr>\n",
       "      <th>count</th>\n",
       "      <td>10329.000000</td>\n",
       "    </tr>\n",
       "    <tr>\n",
       "      <th>mean</th>\n",
       "      <td>31924.282893</td>\n",
       "    </tr>\n",
       "    <tr>\n",
       "      <th>std</th>\n",
       "      <td>37734.741149</td>\n",
       "    </tr>\n",
       "    <tr>\n",
       "      <th>min</th>\n",
       "      <td>1.000000</td>\n",
       "    </tr>\n",
       "    <tr>\n",
       "      <th>25%</th>\n",
       "      <td>3240.000000</td>\n",
       "    </tr>\n",
       "    <tr>\n",
       "      <th>50%</th>\n",
       "      <td>7088.000000</td>\n",
       "    </tr>\n",
       "    <tr>\n",
       "      <th>75%</th>\n",
       "      <td>59900.000000</td>\n",
       "    </tr>\n",
       "    <tr>\n",
       "      <th>max</th>\n",
       "      <td>149532.000000</td>\n",
       "    </tr>\n",
       "  </tbody>\n",
       "</table>\n",
       "</div>"
      ],
      "text/plain": [
       "             movieId\n",
       "count   10329.000000\n",
       "mean    31924.282893\n",
       "std     37734.741149\n",
       "min         1.000000\n",
       "25%      3240.000000\n",
       "50%      7088.000000\n",
       "75%     59900.000000\n",
       "max    149532.000000"
      ]
     },
     "execution_count": 9,
     "metadata": {},
     "output_type": "execute_result"
    }
   ],
   "source": [
    "# Summary statistics for the movies data set\n",
    "movies.describe()"
   ]
  },
  {
   "cell_type": "code",
   "execution_count": 10,
   "metadata": {
    "collapsed": false
   },
   "outputs": [
    {
     "data": {
      "text/plain": [
       "10325"
      ]
     },
     "execution_count": 10,
     "metadata": {},
     "output_type": "execute_result"
    }
   ],
   "source": [
    "# Number of unique movies in the ratings data file\n",
    "\n",
    "len(pd.unique(ratings['movieId'].ravel()))"
   ]
  },
  {
   "cell_type": "markdown",
   "metadata": {},
   "source": [
    "-----\n",
    "\n",
    "As the previous cells indicated, the `ratings` and `movies` DataFrames\n",
    "have a common column, `movieId`, which we can use to join these\n",
    "DataFrames together. This allows us to better understand these data,\n",
    "since we can see the name of the movie being rated (as opposed to just a\n",
    "`movieId`. In the next few code cells, we join these two DataFrames,\n",
    "display a few rows from the new DataFrame, and use Pandas functionality\n",
    "to display the most popular (by number of reviews) movies, as well as\n",
    "the movies that have the highest average ratings. \n",
    "\n",
    "The last task employs several useful tools. First, we perform a\n",
    "`groupby` operation where we employ two operations: mean value and size\n",
    "of sample. This creates a new data structure that has a special column\n",
    "that contains the number of reviews (from the size function) and a\n",
    "special column that contains the average rating (from the mean\n",
    "function). We can display the most popular (in terms of average rating),\n",
    "by first restricting the data structure to only those movies that have\n",
    "been rated twenty or more times, and display the first few rows of the\n",
    "sorted data in descending order.\n",
    "\n",
    "-----"
   ]
  },
  {
   "cell_type": "code",
   "execution_count": 11,
   "metadata": {
    "collapsed": true
   },
   "outputs": [],
   "source": [
    "# Merge two dataframes, the common column is selected aotumatically\n",
    "mv_lens = pd.merge(movies, ratings)"
   ]
  },
  {
   "cell_type": "code",
   "execution_count": 12,
   "metadata": {
    "collapsed": false
   },
   "outputs": [
    {
     "data": {
      "text/html": [
       "<div>\n",
       "<table border=\"1\" class=\"dataframe\">\n",
       "  <thead>\n",
       "    <tr style=\"text-align: right;\">\n",
       "      <th></th>\n",
       "      <th>movieId</th>\n",
       "      <th>title</th>\n",
       "      <th>genres</th>\n",
       "      <th>userId</th>\n",
       "      <th>rating</th>\n",
       "      <th>timestamp</th>\n",
       "    </tr>\n",
       "  </thead>\n",
       "  <tbody>\n",
       "    <tr>\n",
       "      <th>0</th>\n",
       "      <td>1</td>\n",
       "      <td>Toy Story (1995)</td>\n",
       "      <td>Adventure|Animation|Children|Comedy|Fantasy</td>\n",
       "      <td>2</td>\n",
       "      <td>5.0</td>\n",
       "      <td>859046895</td>\n",
       "    </tr>\n",
       "    <tr>\n",
       "      <th>1</th>\n",
       "      <td>1</td>\n",
       "      <td>Toy Story (1995)</td>\n",
       "      <td>Adventure|Animation|Children|Comedy|Fantasy</td>\n",
       "      <td>5</td>\n",
       "      <td>4.0</td>\n",
       "      <td>1303501039</td>\n",
       "    </tr>\n",
       "    <tr>\n",
       "      <th>2</th>\n",
       "      <td>1</td>\n",
       "      <td>Toy Story (1995)</td>\n",
       "      <td>Adventure|Animation|Children|Comedy|Fantasy</td>\n",
       "      <td>8</td>\n",
       "      <td>5.0</td>\n",
       "      <td>858610933</td>\n",
       "    </tr>\n",
       "    <tr>\n",
       "      <th>3</th>\n",
       "      <td>1</td>\n",
       "      <td>Toy Story (1995)</td>\n",
       "      <td>Adventure|Animation|Children|Comedy|Fantasy</td>\n",
       "      <td>11</td>\n",
       "      <td>4.0</td>\n",
       "      <td>850815810</td>\n",
       "    </tr>\n",
       "    <tr>\n",
       "      <th>4</th>\n",
       "      <td>1</td>\n",
       "      <td>Toy Story (1995)</td>\n",
       "      <td>Adventure|Animation|Children|Comedy|Fantasy</td>\n",
       "      <td>14</td>\n",
       "      <td>4.0</td>\n",
       "      <td>851766286</td>\n",
       "    </tr>\n",
       "  </tbody>\n",
       "</table>\n",
       "</div>"
      ],
      "text/plain": [
       "   movieId             title                                       genres  \\\n",
       "0        1  Toy Story (1995)  Adventure|Animation|Children|Comedy|Fantasy   \n",
       "1        1  Toy Story (1995)  Adventure|Animation|Children|Comedy|Fantasy   \n",
       "2        1  Toy Story (1995)  Adventure|Animation|Children|Comedy|Fantasy   \n",
       "3        1  Toy Story (1995)  Adventure|Animation|Children|Comedy|Fantasy   \n",
       "4        1  Toy Story (1995)  Adventure|Animation|Children|Comedy|Fantasy   \n",
       "\n",
       "   userId  rating   timestamp  \n",
       "0       2     5.0   859046895  \n",
       "1       5     4.0  1303501039  \n",
       "2       8     5.0   858610933  \n",
       "3      11     4.0   850815810  \n",
       "4      14     4.0   851766286  "
      ]
     },
     "execution_count": 12,
     "metadata": {},
     "output_type": "execute_result"
    }
   ],
   "source": [
    "mv_lens.head()"
   ]
  },
  {
   "cell_type": "code",
   "execution_count": 13,
   "metadata": {
    "collapsed": false
   },
   "outputs": [
    {
     "data": {
      "text/plain": [
       "Pulp Fiction (1994)                 325\n",
       "Forrest Gump (1994)                 311\n",
       "Shawshank Redemption, The (1994)    308\n",
       "Jurassic Park (1993)                294\n",
       "Silence of the Lambs, The (1991)    290\n",
       "Name: title, dtype: int64"
      ]
     },
     "execution_count": 13,
     "metadata": {},
     "output_type": "execute_result"
    }
   ],
   "source": [
    "# Display the most commonly rated movies\n",
    "mv_lens.title.value_counts().head()"
   ]
  },
  {
   "cell_type": "code",
   "execution_count": 14,
   "metadata": {
    "collapsed": false
   },
   "outputs": [
    {
     "data": {
      "text/html": [
       "<div>\n",
       "<table border=\"1\" class=\"dataframe\">\n",
       "  <thead>\n",
       "    <tr>\n",
       "      <th></th>\n",
       "      <th colspan=\"2\" halign=\"left\">rating</th>\n",
       "    </tr>\n",
       "    <tr>\n",
       "      <th></th>\n",
       "      <th>size</th>\n",
       "      <th>mean</th>\n",
       "    </tr>\n",
       "    <tr>\n",
       "      <th>title</th>\n",
       "      <th></th>\n",
       "      <th></th>\n",
       "    </tr>\n",
       "  </thead>\n",
       "  <tbody>\n",
       "    <tr>\n",
       "      <th>Nausicaä of the Valley of the Wind (Kaze no tani no Naushika) (1984)</th>\n",
       "      <td>22.0</td>\n",
       "      <td>4.477273</td>\n",
       "    </tr>\n",
       "    <tr>\n",
       "      <th>Touch of Evil (1958)</th>\n",
       "      <td>21.0</td>\n",
       "      <td>4.476190</td>\n",
       "    </tr>\n",
       "    <tr>\n",
       "      <th>Cinema Paradiso (Nuovo cinema Paradiso) (1989)</th>\n",
       "      <td>37.0</td>\n",
       "      <td>4.459459</td>\n",
       "    </tr>\n",
       "    <tr>\n",
       "      <th>Shawshank Redemption, The (1994)</th>\n",
       "      <td>308.0</td>\n",
       "      <td>4.454545</td>\n",
       "    </tr>\n",
       "    <tr>\n",
       "      <th>Dr. Horrible's Sing-Along Blog (2008)</th>\n",
       "      <td>23.0</td>\n",
       "      <td>4.434783</td>\n",
       "    </tr>\n",
       "  </tbody>\n",
       "</table>\n",
       "</div>"
      ],
      "text/plain": [
       "                                                   rating          \n",
       "                                                     size      mean\n",
       "title                                                              \n",
       "Nausicaä of the Valley of the Wind (Kaze no tan...   22.0  4.477273\n",
       "Touch of Evil (1958)                                 21.0  4.476190\n",
       "Cinema Paradiso (Nuovo cinema Paradiso) (1989)       37.0  4.459459\n",
       "Shawshank Redemption, The (1994)                    308.0  4.454545\n",
       "Dr. Horrible's Sing-Along Blog (2008)                23.0  4.434783"
      ]
     },
     "execution_count": 14,
     "metadata": {},
     "output_type": "execute_result"
    }
   ],
   "source": [
    "# Make a new Data structure that holds the movie, number of ratings, and the average rating.\n",
    "mv_stats = mv_lens.groupby('title').agg({'rating': [np.size, np.mean]})\n",
    "\n",
    "# Number of ratings to consider top movie\n",
    "rating_count = 20\n",
    "\n",
    "# Display most popular movies.\n",
    "top_movies = mv_stats['rating']['size'] >= rating_count\n",
    "mv_stats[top_movies].sort_values(by=('rating', 'mean'), ascending=False).head()"
   ]
  },
  {
   "cell_type": "markdown",
   "metadata": {},
   "source": [
    "----\n",
    "### User Based Collaborative Filtering\n",
    "\n",
    "We can now turn our attention to developing a collaborative filter to\n",
    "make recommendations. The basic idea we will employ is to find the user\n",
    "who is most _similar_ to the current user, and use the ratings from this\n",
    "one similar user to make recommendations. To do this, we need two\n",
    "things. First, we need a matrix that contains the movie ratings, indexed\n",
    "by the user id and the movie id. This allows us to find movies to\n",
    "recommend, given a particular user. Second, we need a definition of\n",
    "similarity, which implies a [distance measurement][scdm] (more similar\n",
    "things should be close, while different things should be far apart).\n",
    "There are a number of different distance measures that are employed,\n",
    "including [Euclidean distance][wed], [Manhattan distance][wmd], and\n",
    "[cosine similarity][wcs].\n",
    "\n",
    "In this Notebook, we will employ cosine similarity. However, we will not\n",
    "use the implementation in the scipy library since it is not exactly\n",
    "appropriate for what we need. The cosine similarity treats two sets of\n",
    "data as vectors. For example, we can make a vector for each user where\n",
    "each element in the array corresponds to a rating for a specific movie.\n",
    "obviously, for a rating system with many movies, these vectors are\n",
    "extremely long (in our case, there are $10, 325$ elements). The cosine\n",
    "similarity is calculated by multiplying these two vectors and dividing\n",
    "by their length. Thus, this measurement will be scaled to lie between\n",
    "$-1$ and $1$. If the value is one, the vectors are identical. If the\n",
    "value is minus one, the vectors are exactly opposite of each other. And\n",
    "if the value is zero, the vectors are perpendicular to each other. As a\n",
    "result, the cosine similarity is measuring the angle between the two\n",
    "vectors.\n",
    "\n",
    "To get started, we first construct a pivot table to reference the movie\n",
    "ratings from each user.\n",
    "\n",
    "-----\n",
    "[scdm]: http://docs.scipy.org/doc/scipy/reference/spatial.distance.html\n",
    "\n",
    "[wed]: https://en.wikipedia.org/wiki/Euclidean_distance\n",
    "[wmd]: https://en.wikipedia.org/wiki/Taxicab_geometry\n",
    "[wcs]: https://en.wikipedia.org/wiki/Cosine_similarity"
   ]
  },
  {
   "cell_type": "code",
   "execution_count": 15,
   "metadata": {
    "collapsed": false
   },
   "outputs": [],
   "source": [
    "# Make a pivot table containing ratings indexed by user id and movie id\n",
    "tmp_df = ratings.pivot(index='userId', columns='movieId', values='rating')"
   ]
  },
  {
   "cell_type": "markdown",
   "metadata": {},
   "source": [
    "-----\n",
    "\n",
    "The values in this pivot table hold the actual ratings. For simplicity,\n",
    "we can restrict our analysis to only _favorable_ ratings, which, since\n",
    "the movies are rated on a five-star system, we take to mean ratings\n",
    "greater than three. We convert the pivot table to hold one for favorable\n",
    "ratings and zero for unfavorable ratings and convert the result to a\n",
    "numpy matrix. The shape of the matrix indicates we have $668$ unique\n",
    "users, who have each rated one or more of $10,325$ movies.\n",
    "\n",
    "-----"
   ]
  },
  {
   "cell_type": "code",
   "execution_count": 16,
   "metadata": {
    "collapsed": false
   },
   "outputs": [
    {
     "name": "stdout",
     "output_type": "stream",
     "text": [
      "(668, 10325)\n"
     ]
    }
   ],
   "source": [
    "the_data = tmp_df.applymap(lambda x: 1 if x > 3 else 0).as_matrix()\n",
    "print(the_data.shape)"
   ]
  },
  {
   "cell_type": "markdown",
   "metadata": {},
   "source": [
    "-----\n",
    "\n",
    "This matrix is quite large, if we were processing the full movie data\n",
    "set, it would be prohibitively expensive. Fortunately, there is a simple\n",
    "fact that we can leverage. In general, we will not want to include items\n",
    "that haven't been rated enough times. This concept is sometimes called\n",
    "the _support_. Without sufficient ratings, we can't make accurate\n",
    "predictions as the power of this algorithm comes from leveraging data\n",
    "collected from multiple people who (ideally at least) have rated many\n",
    "things.\n",
    "\n",
    "As a result, we will generate a new pivot table, by first grouping the\n",
    "movies together, sorting into descending order, and selecting only those\n",
    "movies that have been reviewed by multiple people (in this case we will\n",
    "select only movies that have been reviewed at least `rating_count` or\n",
    "more times. By default in this Notebook, this variable is twenty, which\n",
    "means only those movies rated at least twenty times will be included in\n",
    "our analysis. Next, we create our pivot table as before, and change the\n",
    "ratings into either zero (if rated three or less) or one (if rated four\n",
    "or five). The shape of the matrix is now considerably smaller, with only\n",
    "$152$ unique users and $873$ unique movies.\n",
    "\n",
    "-----"
   ]
  },
  {
   "cell_type": "code",
   "execution_count": 17,
   "metadata": {
    "collapsed": false
   },
   "outputs": [],
   "source": [
    "mvrs = ratings.groupby('movieId').size().sort_values(ascending=False)\n",
    "tmp_ratings = ratings.ix[mvrs[mvrs > rating_count].index].dropna()"
   ]
  },
  {
   "cell_type": "code",
   "execution_count": 18,
   "metadata": {
    "collapsed": false
   },
   "outputs": [],
   "source": [
    "tmp_df = tmp_ratings.pivot(index='userId', columns='movieId', values='rating')"
   ]
  },
  {
   "cell_type": "code",
   "execution_count": 19,
   "metadata": {
    "collapsed": false
   },
   "outputs": [
    {
     "name": "stdout",
     "output_type": "stream",
     "text": [
      "(152, 873)\n"
     ]
    }
   ],
   "source": [
    "the_data = tmp_df.applymap(lambda x: 1 if x > 3 else 0).as_matrix()\n",
    "print(the_data.shape)"
   ]
  },
  {
   "cell_type": "markdown",
   "metadata": {},
   "source": [
    "----\n",
    "\n",
    "### Cosine Similarity\n",
    "\n",
    "We now create our function to compute the cosine similarity between our\n",
    "two vectors. We use simple numpy commands, and subsequently demonstrate\n",
    "it being used on sample vectors.\n",
    "\n",
    "----"
   ]
  },
  {
   "cell_type": "code",
   "execution_count": 20,
   "metadata": {
    "collapsed": true
   },
   "outputs": [],
   "source": [
    "# Define the Cosine Similarity function\n",
    "\n",
    "def cosine_similarity(u, v):\n",
    "    return(np.dot(u, v)/np.sqrt((np.dot(u, u) * np.dot(v, v))))"
   ]
  },
  {
   "cell_type": "code",
   "execution_count": 21,
   "metadata": {
    "collapsed": false
   },
   "outputs": [
    {
     "name": "stdout",
     "output_type": "stream",
     "text": [
      "cosine similarity(a, b) = 0.000\n",
      "cosine similarity(a, c) = 0.333\n",
      "cosine similarity(b, c) = 0.816\n",
      "cosine similarity(a, a) = 1.000\n"
     ]
    }
   ],
   "source": [
    "a = np.array([1, 1, 1, 0, 0])\n",
    "b = np.array([0, 0, 0, 1, 1])\n",
    "c = np.array([0, 1, 0, 1, 1])\n",
    "\n",
    "print('cosine similarity(a, b) = {0:4.3f}'.format(cosine_similarity(a, b)))\n",
    "print('cosine similarity(a, c) = {0:4.3f}'.format(cosine_similarity(a, c)))\n",
    "print('cosine similarity(b, c) = {0:4.3f}'.format(cosine_similarity(b, c)))\n",
    "\n",
    "print('cosine similarity(a, a) = {0:4.3f}'.format(cosine_similarity(a, a)))"
   ]
  },
  {
   "cell_type": "markdown",
   "metadata": {},
   "source": [
    "----\n",
    "\n",
    "### Single User\n",
    "\n",
    "We now develop the algorithm to make a recommendation for a single user.\n",
    "To do this, we first create a _fake_ user, by selecting several movies\n",
    "as favorable (effectively we simply make a new user vector). Given this\n",
    "new vector, we compute the cosine similarity between this new user and\n",
    "all users in our reduced data user-movie matrix. We identify the user\n",
    "who is most similar by selecting the row in the user-movie matrix with\n",
    "the highest cosine similarity, extract the movies favorably rated by\n",
    "this particular user, remove any that have already been rated by our\n",
    "_fake_ user, and display the results.\n",
    "\n",
    "To simplify the identification of the correct movie title, we add a new\n",
    "column to the DataFrame that holds the joined rating and movie data to\n",
    "map between movieId in our user-movie matrix and the movieID used in the\n",
    "original data.\n",
    "\n",
    "----"
   ]
  },
  {
   "cell_type": "code",
   "execution_count": 22,
   "metadata": {
    "collapsed": false
   },
   "outputs": [],
   "source": [
    "# The user-movie matrix\n",
    "\n",
    "x = the_data\n",
    "\n",
    "# Make a fake user (with movie ratings that will gaurantee a match)\n",
    "y = np.zeros(the_data.shape[1], dtype=np.int32)\n",
    "y[6] = 1 ; y[10] = 1; y[15] = 1; y[64] = 1; y[136] = 1\n",
    "y[180] = 1; y[230] = 1; y[339] = 1; y[622] = 1; y[703] = 1\n",
    "\n",
    "# Add a special index column to map the row in the x matrix to the userIds\n",
    "tmp_df.tmp_idx = np.array(range(x.shape[0]))"
   ]
  },
  {
   "cell_type": "code",
   "execution_count": 23,
   "metadata": {
    "collapsed": false
   },
   "outputs": [
    {
     "name": "stdout",
     "output_type": "stream",
     "text": [
      "[0 0 0 0 0 0 1 0 0 0 1 0 0 0 0 1 0 0 0 0 0 0 0 0 0 0 0 0 0 0]\n",
      "[0 0 0 0 0 0 0 0 0 0 0 0 0 0 0 0 0 0 0 0 0 0 0 0 1 0 0 0 0 0]\n",
      "\n",
      "Cosine Similarity(y, x[7]) = 0.283\n",
      "\n",
      "[1 1 1 1 1 1 1 1 1 1 1 1 1 1 1 1 1 1 1 1 1 1 1 1 0 1 1 1 1 1]\n"
     ]
    }
   ],
   "source": [
    "# Compute similarity, find maximum value\n",
    "sims = np.apply_along_axis(cosine_similarity, 1, x, y)\n",
    "mx = np.nanmax(sims)\n",
    "\n",
    "# Find the best matching user\n",
    "usr_idx = np.where(sims==mx)[0][0]\n",
    "\n",
    "# Print the first thirty reviews of test user and matched user.\n",
    "print(y[:30])\n",
    "print(x[usr_idx, :30])\n",
    "\n",
    "print('\\nCosine Similarity(y, x[{0:d}]) = {1:4.3f}' \\\n",
    "      .format(usr_idx, cosine_similarity(y, x[usr_idx])), end='\\n\\n')\n",
    "\n",
    "# Now we subtract the vectors\n",
    "# (any negative value is a movie to recommend)\n",
    "mov_vec = y - x[usr_idx]\n",
    "\n",
    "# We want a mask aray, so we zero out any recommended movie.\n",
    "mov_vec[mov_vec >= 0] = 1\n",
    "mov_vec[mov_vec < 0] = 0\n",
    "\n",
    "print(mov_vec[:30])"
   ]
  },
  {
   "cell_type": "code",
   "execution_count": 24,
   "metadata": {
    "collapsed": false
   },
   "outputs": [
    {
     "name": "stdout",
     "output_type": "stream",
     "text": [
      "\n",
      "3 Movie Recommendations for User = 8.0\n"
     ]
    }
   ],
   "source": [
    "# Print out the number of movies we will recommend.\n",
    "print('\\n{0} Movie Recommendations for User = {1}' \\\n",
    "      .format(mov_vec[mov_vec == 0].shape[0], \n",
    "              tmp_df[tmp_df.tmp_idx == usr_idx].index[0]))"
   ]
  },
  {
   "cell_type": "code",
   "execution_count": 25,
   "metadata": {
    "collapsed": false
   },
   "outputs": [],
   "source": [
    "# Get the columns (movieIds) for the current user\n",
    "mov_ids = tmp_df[tmp_df.tmp_idx == usr_idx].columns"
   ]
  },
  {
   "cell_type": "code",
   "execution_count": 26,
   "metadata": {
    "collapsed": false
   },
   "outputs": [],
   "source": [
    "# Now make a masked array to find movies to recommend\n",
    "# values are the movie ids, mask is the movies the most\n",
    "# similar user liked.\n",
    "\n",
    "ma_mov_idx = ma.array(mov_ids, mask = mov_vec)\n",
    "mov_idx = ma_mov_idx[~ma_mov_idx.mask]        "
   ]
  },
  {
   "cell_type": "code",
   "execution_count": 27,
   "metadata": {
    "collapsed": false
   },
   "outputs": [
    {
     "name": "stdout",
     "output_type": "stream",
     "text": [
      "------------------------------------------------------------\n",
      "Mr. Holland's Opus (1995)\n",
      "I Shot Andy Warhol (1996)\n",
      "William Shakespeare's Romeo + Juliet (1996)\n",
      "------------------------------------------------------------\n",
      "\n"
     ]
    }
   ],
   "source": [
    "# Now make a DataFrame of the moves of interest and display\n",
    "\n",
    "mv_df = movies.ix[movies.movieId.isin(mov_idx)].dropna()\n",
    "\n",
    "print(60*'-')\n",
    "\n",
    "for movie in mv_df.title.values:\n",
    "    print(movie)\n",
    "\n",
    "print(60*'-', end='\\n\\n')"
   ]
  },
  {
   "cell_type": "markdown",
   "metadata": {
    "collapsed": true
   },
   "source": [
    "-----\n",
    "\n",
    "## Student Activity\n",
    "\n",
    "In the preceding cells, we used cosine similarity to find the user most\n",
    "similar to a test (or fake) user in order to make recommendations. Now\n",
    "that you have run the Notebook, go back and make the following changes\n",
    "to see how the results change.\n",
    "\n",
    "1. Make a new fake user, ensure that there are movies in common with\n",
    "more than one real user. What movies are now recommended? Do they make\n",
    "sense?\n",
    "2. Try changing the `ratings_count` variable higher and lower. How does\n",
    "this change the results of the recommendation? Note this affects both\n",
    "the construction of the user-movie DataFrame and the final matrix.\n",
    "3. The current algorithm uses the only favorable ratings, but that isn't\n",
    "necessary. Try mapping the ratings to the space $-1, 1$ and repeating\n",
    "the analysis. In this mapping $-1$ corresponds to an unfavorable rating\n",
    "of one. How do the results change?\n",
    "\n",
    "Finally, the current algorithm finds the _best matching_ user and uses\n",
    "that user's ratings to make a recommendation. In reality, we would want\n",
    "to use $n$ best matching users to make recommendation. Change the\n",
    "algorithm to capture the five most similar users, and display the\n",
    "aggregated results.\n",
    "\n",
    "-----\n",
    "\n",
    "### Multiple User Recommendation\n",
    "\n",
    "The previous example provided recommendations for a single user. We can\n",
    "extend this example to make recommendations for multiple users. In this\n",
    "case, however, we still use the same basic algorithm. First, we divide\n",
    "our data into two samples: training and testing. We then iterate through\n",
    "our testing set to find the best matching user to compute\n",
    "recommendations for the current testing sample user. Finally, the\n",
    "recommendations are displayed for each user in the test sample.\n",
    "\n",
    "-----"
   ]
  },
  {
   "cell_type": "code",
   "execution_count": 28,
   "metadata": {
    "collapsed": false
   },
   "outputs": [],
   "source": [
    "from sklearn.cross_validation import train_test_split\n",
    "\n",
    "x, y = the_data, range(the_data.shape[0])\n",
    "\n",
    "x_train, x_test, y_train, y_test = train_test_split(x, y, test_size = 0.1, random_state=42)\n",
    "\n",
    "# Add an index into the user-movie DataFrame for the movies that are in the\n",
    "# user-movie matrix.\n",
    "tmp_df.tmp_idx = np.array(y)"
   ]
  },
  {
   "cell_type": "code",
   "execution_count": 29,
   "metadata": {
    "collapsed": false
   },
   "outputs": [
    {
     "name": "stdout",
     "output_type": "stream",
     "text": [
      "45 Movie Recommendations for User = 380.0\n",
      "------------------------------------------------------------\n",
      "Flirting With Disaster (1996)\n",
      "Star Wars: Episode IV - A New Hope (1977)\n",
      "Stargate (1994)\n",
      "Four Weddings and a Funeral (1994)\n",
      "Independence Day (a.k.a. ID4) (1996)\n",
      "Singin' in the Rain (1952)\n",
      "American in Paris, An (1951)\n",
      "Breakfast at Tiffany's (1961)\n",
      "It Happened One Night (1934)\n",
      "North by Northwest (1959)\n",
      "Sabrina (1954)\n",
      "Mr. Smith Goes to Washington (1939)\n",
      "Willy Wonka & the Chocolate Factory (1971)\n",
      "Sleeper (1973)\n",
      "Candidate, The (1972)\n",
      "Great Race, The (1965)\n",
      "Bonnie and Clyde (1967)\n",
      "Platoon (1986)\n",
      "Return of the Pink Panther, The (1975)\n",
      "Cook the Thief His Wife & Her Lover, The (1989)\n",
      "English Patient, The (1996)\n",
      "Blues Brothers, The (1980)\n",
      "Godfather: Part II, The (1974)\n",
      "Shining, The (1980)\n",
      "Somewhere in Time (1980)\n",
      "Field of Dreams (1989)\n",
      "Jaws (1975)\n",
      "Hunt for Red October, The (1990)\n",
      "L.A. Confidential (1997)\n",
      "Wag the Dog (1997)\n",
      "Marty (1955)\n",
      "Tom Jones (1963)\n",
      "Man for All Seasons, A (1966)\n",
      "French Connection, The (1971)\n",
      "Kramer vs. Kramer (1979)\n",
      "Ordinary People (1980)\n",
      "Take the Money and Run (1969)\n",
      "Klute (1971)\n",
      "Blue Velvet (1986)\n",
      "Lady and the Tramp (1955)\n",
      "Lord of the Rings, The (1978)\n",
      "Who's Afraid of Virginia Woolf? (1966)\n",
      "What Dreams May Come (1998)\n",
      "Pleasantville (1998)\n",
      "M*A*S*H (a.k.a. MASH) (1970)\n",
      "------------------------------------------------------------\n",
      "\n",
      "34 Movie Recommendations for User = 13.0\n",
      "------------------------------------------------------------\n",
      "Twelve Monkeys (a.k.a. 12 Monkeys) (1995)\n",
      "Seven (a.k.a. Se7en) (1995)\n",
      "Braveheart (1995)\n",
      "Crimson Tide (1995)\n",
      "Clerks (1994)\n",
      "Shawshank Redemption, The (1994)\n",
      "Clear and Present Danger (1994)\n",
      "Fugitive, The (1993)\n",
      "Jurassic Park (1993)\n",
      "Schindler's List (1993)\n",
      "Terminator 2: Judgment Day (1991)\n",
      "Dances with Wolves (1990)\n",
      "Fargo (1996)\n",
      "Craft, The (1996)\n",
      "Independence Day (a.k.a. ID4) (1996)\n",
      "Casablanca (1942)\n",
      "Reservoir Dogs (1992)\n",
      "Blues Brothers, The (1980)\n",
      "Full Metal Jacket (1987)\n",
      "Boot, Das (Boat, The) (1981)\n",
      "Shining, The (1980)\n",
      "Manchurian Candidate, The (1962)\n",
      "Dune (1984)\n",
      "Shakespeare in Love (1998)\n",
      "Lock, Stock & Two Smoking Barrels (1998)\n",
      "Patriot Games (1992)\n",
      "Gladiator (2000)\n",
      "Ocean's Eleven (2001)\n",
      "Lord of the Rings: The Two Towers, The (2002)\n",
      "Batman Begins (2005)\n",
      "Land of the Dead (2005)\n",
      "Departed, The (2006)\n",
      "Knocked Up (2007)\n",
      "Bourne Ultimatum, The (2007)\n",
      "------------------------------------------------------------\n",
      "\n",
      "13 Movie Recommendations for User = 19.0\n",
      "------------------------------------------------------------\n",
      "Fifth Element, The (1997)\n",
      "Pitch Black (2000)\n",
      "High Fidelity (2000)\n",
      "Joe Dirt (2001)\n",
      "Planet of the Apes (2001)\n",
      "Lord of the Rings: The Fellowship of the Ring, The (2001)\n",
      "Man on Fire (2004)\n",
      "Band of Brothers (2001)\n",
      "Constant Gardener, The (2005)\n",
      "Lives of Others, The (Das leben der Anderen) (2006)\n",
      "Shooter (2007)\n",
      "Lookout, The (2007)\n",
      "Bangkok Dangerous (2008)\n",
      "------------------------------------------------------------\n",
      "\n",
      "1 Movie Recommendations for User = 16.0\n",
      "------------------------------------------------------------\n",
      "Santa Clause, The (1994)\n",
      "------------------------------------------------------------\n",
      "\n",
      "68 Movie Recommendations for User = 557.0\n",
      "------------------------------------------------------------\n",
      "Star Wars: Episode VI - Return of the Jedi (1983)\n",
      "Stalker (1979)\n",
      "Back to the Future (1985)\n",
      "Big Lebowski, The (1998)\n",
      "Lost in Space (1998)\n",
      "Mulan (1998)\n",
      "Lethal Weapon (1987)\n",
      "Life Is Beautiful (La Vita è bella) (1997)\n",
      "Star Wars: Episode I - The Phantom Menace (1999)\n",
      "Ghostbusters (a.k.a. Ghost Busters) (1984)\n",
      "Golden Child, The (1986)\n",
      "Big (1988)\n",
      "Fight Club (1999)\n",
      "Beach, The (2000)\n",
      "Good Morning, Vietnam (1987)\n",
      "Gold Rush, The (1925)\n",
      "O Brother, Where Art Thou? (2000)\n",
      "Beverly Hills Cop (1984)\n",
      "Mummy Returns, The (2001)\n",
      "Shrek (2001)\n",
      "Twins (1988)\n",
      "Ocean's Eleven (2001)\n",
      "Lord of the Rings: The Fellowship of the Ring, The (2001)\n",
      "Star Wars: Episode II - Attack of the Clones (2002)\n",
      "Men in Black II (a.k.a. MIIB) (a.k.a. MIB 2) (2002)\n",
      "Solaris (2002)\n",
      "Lord of the Rings: The Two Towers, The (2002)\n",
      "Fahrenheit 451 (1966)\n",
      "Matrix Reloaded, The (2003)\n",
      "Terminator 3: Rise of the Machines (2003)\n",
      "Pirates of the Caribbean: The Curse of the Black Pearl (2003)\n",
      "Love Actually (2003)\n",
      "Lord of the Rings: The Return of the King, The (2003)\n",
      "Ladykillers, The (2004)\n",
      "Taxi 3 (2003)\n",
      "Shaun of the Dead (2004)\n",
      "1492: Conquest of Paradise (1992)\n",
      "Night Watch (Nochnoy dozor) (2004)\n",
      "Hitchhiker's Guide to the Galaxy, The (2005)\n",
      "House of D (2004)\n",
      "Crash (2004)\n",
      "Star Wars: Episode III - Revenge of the Sith (2005)\n",
      "Madagascar (2005)\n",
      "Ice Age 2: The Meltdown (2006)\n",
      "V for Vendetta (2006)\n",
      "Pirates of the Caribbean: Dead Man's Chest (2006)\n",
      "Hot Fuzz (2007)\n",
      "Day Watch (Dnevnoy dozor) (2006)\n",
      "Pirates of the Caribbean: At World's End (2007)\n",
      "Ocean's Thirteen (2007)\n",
      "Fido (2006)\n",
      "Transformers (2007)\n",
      "Into the Wild (2007)\n",
      "Beowulf (2007)\n",
      "Golden Compass, The (2007)\n",
      "Hellboy II: The Golden Army (2008)\n",
      "Dark Knight, The (2008)\n",
      "WALL·E (2008)\n",
      "Heart of a Dog (Sobachye serdtse) (1988)\n",
      "Mummy: Tomb of the Dragon Emperor, The (2008)\n",
      "Madagascar: Escape 2 Africa (2008)\n",
      "Seven Pounds (2008)\n",
      "Zombieland (2009)\n",
      "Avatar (2009)\n",
      "Sherlock Holmes (2009)\n",
      "Beyond a Reasonable Doubt (2009)\n",
      "Iron Man 2 (2010)\n",
      "Scream 4 (2011)\n",
      "------------------------------------------------------------\n",
      "\n",
      "36 Movie Recommendations for User = 501.0\n",
      "------------------------------------------------------------\n",
      "Shanghai Triad (Yao a yao yao dao waipo qiao) (1995)\n",
      "Twelve Monkeys (a.k.a. 12 Monkeys) (1995)\n",
      "Three Colors: White (Trzy kolory: Bialy) (1994)\n",
      "Shawshank Redemption, The (1994)\n",
      "Ciao, Professore! (Io speriamo che me la cavo) (1992)\n",
      "Philadelphia Story, The (1940)\n",
      "Singin' in the Rain (1952)\n",
      "Apartment, The (1960)\n",
      "Some Like It Hot (1959)\n",
      "Casablanca (1942)\n",
      "Ghost and Mrs. Muir, The (1947)\n",
      "Top Hat (1935)\n",
      "My Man Godfrey (1936)\n",
      "Crying Game, The (1992)\n",
      "Double Life of Veronique, The (Double Vie de Véronique, La) (1991)\n",
      "Star Wars: Episode V - The Empire Strikes Back (1980)\n",
      "Once Upon a Time in the West (C'era una volta il West) (1968)\n",
      "Henry V (1989)\n",
      "Boot, Das (Boat, The) (1981)\n",
      "Manhattan (1979)\n",
      "Cool Hand Luke (1967)\n",
      "Big Sleep, The (1946)\n",
      "Some Mother's Son (1996)\n",
      "Mutiny on the Bounty (1935)\n",
      "On the Waterfront (1954)\n",
      "Exorcist, The (1973)\n",
      "Strangers on a Train (1951)\n",
      "Life Is Beautiful (La Vita è bella) (1997)\n",
      "Notting Hill (1999)\n",
      "Tarzan (1999)\n",
      "Spartacus (1960)\n",
      "Color Purple, The (1985)\n",
      "Iron Giant, The (1999)\n",
      "Thomas Crown Affair, The (1999)\n",
      "Who Framed Roger Rabbit? (1988)\n",
      "Toy Story 2 (1999)\n",
      "------------------------------------------------------------\n",
      "\n",
      "10 Movie Recommendations for User = 20.0\n",
      "------------------------------------------------------------\n",
      "E.T. the Extra-Terrestrial (1982)\n",
      "Grand Day Out with Wallace and Gromit, A (1989)\n",
      "Truman Show, The (1998)\n",
      "10 Things I Hate About You (1999)\n",
      "Blow (2001)\n",
      "Donnie Darko (2001)\n",
      "Lost in Translation (2003)\n",
      "Kill Bill: Vol. 1 (2003)\n",
      "Into the Wild (2007)\n",
      "Up in the Air (2009)\n",
      "------------------------------------------------------------\n",
      "\n",
      "10 Movie Recommendations for User = 220.0\n",
      "------------------------------------------------------------\n",
      "True Lies (1994)\n",
      "Mars Attacks! (1996)\n",
      "L.A. Confidential (1997)\n",
      "Lock, Stock & Two Smoking Barrels (1998)\n",
      "eXistenZ (1999)\n",
      "Bringing Out the Dead (1999)\n",
      "Super Size Me (2004)\n",
      "Animatrix, The (2003)\n",
      "Coraline (2009)\n",
      "Inglourious Basterds (2009)\n",
      "------------------------------------------------------------\n",
      "\n"
     ]
    }
   ],
   "source": [
    "# Iterate through each user in test set.\n",
    "for idx, user in enumerate(x_test):\n",
    "    \n",
    "    # Compute similarity, find maximum value\n",
    "    sims = np.apply_along_axis(cosine_similarity, 1, x_train, user)\n",
    "    mx = np.nanmax(sims)\n",
    "    \n",
    "    # If maximum value is a real value    \n",
    "    if mx > 0:\n",
    "        \n",
    "        # Find the index in the similarity matrix with maximum value\n",
    "        train_idx = np.where(sims==mx)[0][0]\n",
    "        \n",
    "        # Now we subtract the vectors \n",
    "        # (any negative value is a movie to recommend)\n",
    "        mov_vec = user - x_train[train_idx]\n",
    "        \n",
    "        # We make a mask aray, so we zero out any recommended movie.\n",
    "        mov_vec[mov_vec >= 0] = 1\n",
    "        mov_vec[mov_vec < 0] = 0\n",
    "        \n",
    "        # We use the fact that y_train has the indices into the original\n",
    "        # temporary data frame\n",
    "\n",
    "        user_idx = tmp_df[tmp_df.tmp_idx == y_train[train_idx]]\n",
    "\n",
    "        # State how many movies are being recommend for this user id\n",
    "        print('{0} Movie Recommendations for User = {1}' \\\n",
    "              .format(mov_vec[mov_vec == 0].shape[0], \\\n",
    "                      tmp_df[tmp_df.tmp_idx == y_test[idx]].index[0]))\n",
    "        \n",
    "        print(60*'-')\n",
    "        # Now make a masked array to find movies to recommend\n",
    "        # values are the movie ids, mask is the movies the most\n",
    "        # similar user liked.\n",
    "        ma_mov_idx = ma.array(user_idx.columns, mask = mov_vec)\n",
    "        mov_idx = ma_mov_idx[~ma_mov_idx.mask]\n",
    "        \n",
    "        # Now make a DataFrame of the moves of interest and display\n",
    "        mv_df = movies.ix[movies.movieId.isin(mov_idx)].dropna()\n",
    "        for movie in mv_df.title.values:\n",
    "            print(movie)\n",
    "            \n",
    "        print(60*'-', end='\\n\\n')"
   ]
  },
  {
   "cell_type": "markdown",
   "metadata": {},
   "source": [
    "-----\n",
    "\n",
    "## Student Activity\n",
    "\n",
    "In the preceding cell, we computed the cosine similarity between test\n",
    "and training data to make recommendations.  Now that you have run the\n",
    "Notebook, go back and make the following changes to see how the results\n",
    "change.\n",
    "\n",
    "1. Right now, the algorithm uses **only** the best matching user. Change\n",
    "the algorithm to use the five best matching users to develop a more\n",
    "complete set of movie ratings.\n",
    "\n",
    "2. In some cases, the best matching user does not exist. Change the\n",
    "`rating_count` variable so that all movies are included. How does this\n",
    "change the performance and results of the algorithm?\n",
    "\n",
    "This example has been a user-based collaborative filtering. If we\n",
    "transpose our matrix, however, we have a movie-user matrix, which can be\n",
    "used to make item-based collaborative filtering recommendations. In this\n",
    "case, you will find users who have rated the current movie and use their\n",
    "other ratings to find movies to recommend. Implement this new algorithm\n",
    "by following this description  and the previous code.\n",
    "\n",
    "-----"
   ]
  }
 ],
 "metadata": {
  "kernelspec": {
   "display_name": "Python 3",
   "language": "python",
   "name": "python3"
  },
  "language_info": {
   "codemirror_mode": {
    "name": "ipython",
    "version": 3
   },
   "file_extension": ".py",
   "mimetype": "text/x-python",
   "name": "python",
   "nbconvert_exporter": "python",
   "pygments_lexer": "ipython3",
   "version": "3.5.2"
  }
 },
 "nbformat": 4,
 "nbformat_minor": 0
}
