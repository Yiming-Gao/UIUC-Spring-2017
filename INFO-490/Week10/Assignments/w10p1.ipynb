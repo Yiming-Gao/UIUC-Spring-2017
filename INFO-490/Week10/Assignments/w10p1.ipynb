{
 "cells": [
  {
   "cell_type": "markdown",
   "metadata": {
    "deletable": false,
    "nbgrader": {
     "checksum": "1206a454e6c628e914177ddb325af6a9",
     "grade": false,
     "grade_id": "header",
     "locked": true,
     "solution": false
    }
   },
   "source": [
    "If you are not using the `Assignments` tab on the course JupyterHub server to read this notebook, read [Activating the assignments tab](https://github.com/lcdm-uiuc/info490-sp17/blob/master/help/act_assign_tab.md).\n",
    "\n",
    "A few things you should keep in mind when working on assignments:\n",
    "\n",
    "1. Make sure you fill in any place that says `YOUR CODE HERE`. Do **not** write your answer in anywhere else other than where it says `YOUR CODE HERE`. Anything you write anywhere else will be removed or overwritten by the autograder.\n",
    "\n",
    "2. Before you submit your assignment, make sure everything runs as expected. Go to menubar, select _Kernel_, and restart the kernel and run all cells (_Restart & Run all_).\n",
    "\n",
    "3. Do not change the title (i.e. file name) of this notebook.\n",
    "\n",
    "4. Make sure that you save your work (in the menubar, select _File_  → _Save and CheckPoint_)\n",
    "\n",
    "5. You are allowed to submit an assignment multiple times, but only the most recent submission will be graded."
   ]
  },
  {
   "cell_type": "markdown",
   "metadata": {
    "deletable": false,
    "nbgrader": {
     "checksum": "32e1152d47004526d26f7d385f3a8360",
     "grade": false,
     "grade_id": "title",
     "locked": true,
     "solution": false
    }
   },
   "source": [
    "# Problem 10.1. Graph Concepts.\n",
    "\n"
   ]
  },
  {
   "cell_type": "code",
   "execution_count": 1,
   "metadata": {
    "collapsed": true,
    "deletable": false,
    "nbgrader": {
     "checksum": "0c26e4038d133009ed6850d9029f2751",
     "grade": false,
     "grade_id": "import",
     "locked": true,
     "solution": false
    }
   },
   "outputs": [],
   "source": [
    "%matplotlib inline\n",
    "import networkx as nx\n",
    "import numpy as np\n",
    "import matplotlib as mpl\n",
    "import matplotlib.pyplot as plt\n",
    "import seaborn as sns\n",
    "\n",
    "from nose.tools import assert_equal, assert_is_instance, assert_true\n",
    "from numpy.testing import assert_array_equal, assert_array_almost_equal"
   ]
  },
  {
   "cell_type": "markdown",
   "metadata": {
    "deletable": false,
    "nbgrader": {
     "checksum": "9e13561ad9eca31787e2545443444cd1",
     "grade": false,
     "grade_id": "markdown_1",
     "locked": true,
     "solution": false
    }
   },
   "source": [
    "## Directed graph\n",
    "\n",
    "- Make a directed graph with 22 integer nodes, and edges connecting every even integer node to the next odd integer node. Start from zero (Zero is an even number).\n",
    "\n",
    "![](images/digraph.png)"
   ]
  },
  {
   "cell_type": "code",
   "execution_count": 2,
   "metadata": {
    "collapsed": false,
    "deletable": false,
    "nbgrader": {
     "checksum": "ec06fb069cd270e37c6fc3f3ebc79613",
     "grade": false,
     "grade_id": "get_circular_dg_answer",
     "locked": false,
     "solution": true
    }
   },
   "outputs": [],
   "source": [
    "def make_circular_dg():\n",
    "    '''\n",
    "    Creates a directed graph with 22 integer nodes.\n",
    "    Every node that is divisible by 3 is connected to the next integer node\n",
    "    that is divisible by 3.\n",
    "    \n",
    "    Paramters\n",
    "    ---------\n",
    "    None\n",
    "    \n",
    "    Returns\n",
    "    -------\n",
    "    A networkx.Digraph instance.\n",
    "    '''\n",
    "    \n",
    "    # YOUR CODE HERE\n",
    "    dg = nx.DiGraph() \n",
    "    dg.add_nodes_from(range(22))\n",
    "    for item in range(7):\n",
    "        dg.add_edge(3 * item, 3 * (item + 1))\n",
    "    \n",
    "    return dg"
   ]
  },
  {
   "cell_type": "code",
   "execution_count": 3,
   "metadata": {
    "collapsed": false,
    "deletable": false,
    "nbgrader": {
     "checksum": "d397b289abc017c43fd0cfc3e36a1928",
     "grade": false,
     "grade_id": "get_circular_dg_run",
     "locked": true,
     "solution": false
    }
   },
   "outputs": [],
   "source": [
    "dg = make_circular_dg()"
   ]
  },
  {
   "cell_type": "code",
   "execution_count": 4,
   "metadata": {
    "collapsed": false,
    "deletable": false,
    "nbgrader": {
     "checksum": "c06b95108731231c7859b8f0c3e0eb8c",
     "grade": true,
     "grade_id": "get_circular_dg_test",
     "locked": true,
     "points": 7,
     "solution": false
    }
   },
   "outputs": [],
   "source": [
    "assert_is_instance(dg, nx.DiGraph)\n",
    "\n",
    "nodes = np.array(dg.nodes())\n",
    "assert_equal(nodes.size, 22)\n",
    "assert_equal(nodes.min(), 0)\n",
    "assert_equal(nodes.max(), 21)\n",
    "assert_true(np.all(np.diff(nodes) == 1))\n",
    "\n",
    "edges = np.array(dg.edges())\n",
    "assert_equal(edges.shape[0], 7)\n",
    "assert_equal(edges.shape[1], 2)\n",
    "assert_equal(edges[:, 0].min(), 0)\n",
    "assert_equal(edges[:, 0].max(), 18)\n",
    "assert_true(np.all(np.diff(edges[:, 0]) == 3))\n",
    "assert_equal(edges[:, 1].min(), 3)\n",
    "assert_equal(edges[:, 1].max(), 21)\n",
    "assert_true(np.all(np.diff(edges[:, 1]) == 3))"
   ]
  },
  {
   "cell_type": "markdown",
   "metadata": {
    "deletable": false,
    "nbgrader": {
     "checksum": "9a6d988b6364e5970eff2e3de49e1750",
     "grade": false,
     "grade_id": "markdown_2",
     "locked": true,
     "solution": false
    }
   },
   "source": [
    "- Draw the directed graph created with `get_circular_dg()`. Note that our function returns a Matplotlib axes instance. You should probably use the `ax` parameter in [NetworkX's drawing function](https://networkx.github.io/documentation/latest/reference/drawing.html)."
   ]
  },
  {
   "cell_type": "code",
   "execution_count": 6,
   "metadata": {
    "collapsed": false,
    "deletable": false,
    "nbgrader": {
     "checksum": "7401a16fc267d126cc8d94f65eb07e95",
     "grade": false,
     "grade_id": "draw_circular_dg_answer",
     "locked": false,
     "solution": true
    }
   },
   "outputs": [],
   "source": [
    "def draw_circular_dg(dg):\n",
    "    '''\n",
    "    Draws a directed graph.\n",
    "    \n",
    "    Paramters\n",
    "    ---------\n",
    "    dg: A networkx.DiGraph instance.\n",
    "    \n",
    "    Returns\n",
    "    -------\n",
    "    A matplotlib.Axes instance.\n",
    "    '''\n",
    "    \n",
    "    # YOUR CODE HERE\n",
    "    fig, ax = plt.subplots()\n",
    "    nx.draw_circular(dg, ax = ax, with_labels = True, node_color = \"lightblue\")\n",
    "    \n",
    "    return ax"
   ]
  },
  {
   "cell_type": "code",
   "execution_count": 7,
   "metadata": {
    "collapsed": false,
    "deletable": false,
    "nbgrader": {
     "checksum": "27a592f9bc0d5cef5e2ae7aa858d22c2",
     "grade": false,
     "grade_id": "draw_circular_dg_run",
     "locked": true,
     "solution": false
    }
   },
   "outputs": [
    {
     "data": {
      "image/png": "[encoded data removed]",
      "text/plain": [
       "<matplotlib.figure.Figure at 0x7f6dc3aa1828>"
      ]
     },
     "metadata": {},
     "output_type": "display_data"
    }
   ],
   "source": [
    "ax1 = draw_circular_dg(dg)\n",
    "plt.show()"
   ]
  },
  {
   "cell_type": "code",
   "execution_count": 8,
   "metadata": {
    "collapsed": false,
    "deletable": false,
    "nbgrader": {
     "checksum": "d795d8355dbc4f6ebf4b492dc61e09fe",
     "grade": true,
     "grade_id": "draw_circular_dg_test",
     "locked": true,
     "points": 8,
     "solution": false
    }
   },
   "outputs": [],
   "source": [
    "pos = np.array(list(nx.circular_layout(dg).values()))\n",
    "assert_is_instance(ax1, mpl.axes.Axes)\n",
    "assert_array_almost_equal(ax1.collections[0].get_offsets(), pos)\n",
    "for idx, seg in enumerate(ax1.collections[1].get_segments()):\n",
    "    line = np.vstack((pos[idx * 3], pos[idx * 3 + 3]))\n",
    "    assert_array_almost_equal(seg, line)\n",
    "assert_equal(len(ax1.collections[2].get_segments()), 7)"
   ]
  },
  {
   "cell_type": "markdown",
   "metadata": {
    "deletable": false,
    "nbgrader": {
     "checksum": "15ce512b2669f4f49adf49508e4988ae",
     "grade": false,
     "grade_id": "markdown_3",
     "locked": true,
     "solution": false
    }
   },
   "source": [
    "## Multigraph\n",
    "\n",
    "- Create an undirected multigraph with seven nodes.\n",
    "\n",
    "![](images/multigraph.png)"
   ]
  },
  {
   "cell_type": "code",
   "execution_count": 9,
   "metadata": {
    "collapsed": true,
    "deletable": false,
    "nbgrader": {
     "checksum": "ab0b529fc4046fe5ce5ea74242437bda",
     "grade": false,
     "grade_id": "get_multigraph_answer",
     "locked": false,
     "solution": true
    }
   },
   "outputs": [],
   "source": [
    "def make_multigraph():\n",
    "    '''\n",
    "    Creates an undirected multigraph with seven nodes.\n",
    "    \n",
    "    Paramters\n",
    "    ---------\n",
    "    None\n",
    "    \n",
    "    Returns\n",
    "    -------\n",
    "    A networkx.MultiGraph instance.\n",
    "    '''\n",
    "    \n",
    "    # YOUR CODE HERE\n",
    "    mg = nx.MultiGraph()\n",
    "    mg.add_nodes_from(range(7))\n",
    "    \n",
    "    return mg"
   ]
  },
  {
   "cell_type": "code",
   "execution_count": 10,
   "metadata": {
    "collapsed": true,
    "deletable": false,
    "nbgrader": {
     "checksum": "4fe48206bc55d62268153ce541ebc1ce",
     "grade": false,
     "grade_id": "get_multigraph_run",
     "locked": true,
     "solution": false
    }
   },
   "outputs": [],
   "source": [
    "mg0 = make_multigraph()"
   ]
  },
  {
   "cell_type": "code",
   "execution_count": 11,
   "metadata": {
    "collapsed": false,
    "deletable": false,
    "nbgrader": {
     "checksum": "41d8c86e13efff900949f6d2e1a3fd7f",
     "grade": true,
     "grade_id": "get_multigraph_test",
     "locked": true,
     "points": 7,
     "solution": false
    }
   },
   "outputs": [],
   "source": [
    "assert_is_instance(mg0, nx.MultiGraph)\n",
    "\n",
    "nodes = np.array(mg0.nodes())\n",
    "assert_equal(nodes.size, 7)\n",
    "assert_equal(nodes.min(), 0)\n",
    "assert_equal(nodes.max(), 6)\n",
    "assert_true(np.all(np.diff(nodes) == 1))\n",
    "\n",
    "assert_equal(len(mg0.edges()), 0)"
   ]
  },
  {
   "cell_type": "markdown",
   "metadata": {
    "deletable": false,
    "nbgrader": {
     "checksum": "acd0971046e05aec07b3c0f6b7ee9526",
     "grade": false,
     "grade_id": "markdown_4",
     "locked": true,
     "solution": false
    }
   },
   "source": [
    "- Draw the multigraph in circular format. Don't forget to use the `ax` parameter in NetworkX's drawing function."
   ]
  },
  {
   "cell_type": "code",
   "execution_count": 12,
   "metadata": {
    "collapsed": false,
    "deletable": false,
    "nbgrader": {
     "checksum": "5a6b8274c20c16701259ad0bfc486879",
     "grade": false,
     "grade_id": "draw_multigraph_answer",
     "locked": false,
     "solution": true
    }
   },
   "outputs": [],
   "source": [
    "def draw_multigraph(mg):\n",
    "    '''\n",
    "    Draws a multigraph in circular format.\n",
    "    \n",
    "    Paramters\n",
    "    ---------\n",
    "    mg: A networkx.MultiGraph instance.\n",
    "    \n",
    "    Returns\n",
    "    -------\n",
    "    A matplotlib.Axes instance.\n",
    "    '''\n",
    "    \n",
    "    # YOUR CODE HERE\n",
    "    fig, ax = plt.subplots()\n",
    "    nx.draw_circular(mg, ax = ax, with_labels = True, node_color = \"lightblue\")\n",
    "    \n",
    "    return ax"
   ]
  },
  {
   "cell_type": "code",
   "execution_count": 13,
   "metadata": {
    "collapsed": false,
    "deletable": false,
    "nbgrader": {
     "checksum": "c9c334c58c8f54405bbfbe77bc783687",
     "grade": false,
     "grade_id": "draw_multigraph_run_1",
     "locked": true,
     "solution": false
    }
   },
   "outputs": [
    {
     "data": {
      "image/png": "[encoded data removed]",
      "text/plain": [
       "<matplotlib.figure.Figure at 0x7f6dc12cd2b0>"
      ]
     },
     "metadata": {},
     "output_type": "display_data"
    }
   ],
   "source": [
    "ax2 = draw_multigraph(mg0)\n",
    "plt.show()"
   ]
  },
  {
   "cell_type": "code",
   "execution_count": 14,
   "metadata": {
    "collapsed": false,
    "deletable": false,
    "nbgrader": {
     "checksum": "fd66175085f55f90803af141697cd8fe",
     "grade": true,
     "grade_id": "draw_multigraph_test_1",
     "locked": true,
     "points": 6,
     "solution": false
    }
   },
   "outputs": [],
   "source": [
    "pos = np.array(list(nx.circular_layout(mg0).values()))\n",
    "assert_is_instance(ax2, mpl.axes.Axes)\n",
    "assert_equal(len(ax2.collections), 1)\n",
    "assert_equal(len(ax2.collections[0].get_offsets()), len(mg0.nodes()))"
   ]
  },
  {
   "cell_type": "markdown",
   "metadata": {
    "deletable": false,
    "nbgrader": {
     "checksum": "8d5e6e7aa4af365a866c8b7193a107a6",
     "grade": false,
     "grade_id": "markdown_5",
     "locked": true,
     "solution": false
    }
   },
   "source": [
    "## Add edges\n",
    "\n",
    "- Add new edges between all even integer nodes (0, 2, 4, 6) and between all odd integer nodes (1, 3, 5). \n",
    "\n",
    "![](images/multigraph_edges.png)"
   ]
  },
  {
   "cell_type": "code",
   "execution_count": 15,
   "metadata": {
    "collapsed": true,
    "deletable": false,
    "nbgrader": {
     "checksum": "70656e5499833640714a8e4b250779c1",
     "grade": false,
     "grade_id": "add_edges_answer",
     "locked": false,
     "solution": true
    }
   },
   "outputs": [],
   "source": [
    "def add_edges(mg):\n",
    "    '''\n",
    "    Adds new edges between all even integer nodes (0, 2, 4, 6)\n",
    "    and between all odd integer nodes (1, 3, 5).\n",
    "    \n",
    "    Paramters\n",
    "    ---------\n",
    "    mg: A networkx.MultiGraph instance.\n",
    "    \n",
    "    Returns\n",
    "    -------\n",
    "    A matplotlib.Axes instance.\n",
    "    '''\n",
    "    \n",
    "    # YOUR CODE HERE\n",
    "    edge_list = [(0,2), (0,4), (0,6), (2,4), (2,6), (4,6), (1,3), (1,5), (3,5)]\n",
    "    for item in edge_list:\n",
    "        mg.add_edge(*item)\n",
    "    \n",
    "    return mg"
   ]
  },
  {
   "cell_type": "code",
   "execution_count": 16,
   "metadata": {
    "collapsed": false,
    "deletable": false,
    "nbgrader": {
     "checksum": "432dfaf59e6df62b3506f8b8fcbd75c6",
     "grade": false,
     "grade_id": "add_edges_run",
     "locked": true,
     "solution": false
    }
   },
   "outputs": [],
   "source": [
    "mg1 = add_edges(mg0)"
   ]
  },
  {
   "cell_type": "code",
   "execution_count": 17,
   "metadata": {
    "collapsed": false,
    "deletable": false,
    "nbgrader": {
     "checksum": "52478c141d6264d708a24fa01191f9fe",
     "grade": true,
     "grade_id": "add_edges_test",
     "locked": true,
     "points": 6,
     "solution": false
    }
   },
   "outputs": [],
   "source": [
    "assert_is_instance(mg1, nx.MultiGraph)\n",
    "\n",
    "nodes = np.array(mg1.nodes())\n",
    "assert_array_equal(mg1.nodes(), mg0.nodes())\n",
    "\n",
    "edges = np.array(mg1.edges())\n",
    "assert_equal(edges.shape[0], 9)\n",
    "assert_equal(edges.shape[1], 2)\n",
    "assert_true(np.all((edges[:, 1] - edges[:, 0]) % 2 == 0))"
   ]
  },
  {
   "cell_type": "markdown",
   "metadata": {},
   "source": [
    "In the following code cell, we reuse `draw_multigraph()` from earlier to draw the new multigraph."
   ]
  },
  {
   "cell_type": "code",
   "execution_count": 18,
   "metadata": {
    "collapsed": false,
    "deletable": false,
    "nbgrader": {
     "checksum": "6d1b769b8381104ee9866684d25a8a16",
     "grade": false,
     "grade_id": "draw_multigraph_run_2",
     "locked": true,
     "solution": false
    }
   },
   "outputs": [
    {
     "data": {
      "image/png": "[encoded data removed]",
      "text/plain": [
       "<matplotlib.figure.Figure at 0x7f6dc3ac2dd8>"
      ]
     },
     "metadata": {},
     "output_type": "display_data"
    }
   ],
   "source": [
    "ax3 = draw_multigraph(mg1)\n",
    "plt.show()"
   ]
  },
  {
   "cell_type": "code",
   "execution_count": 19,
   "metadata": {
    "collapsed": false,
    "deletable": false,
    "nbgrader": {
     "checksum": "03a28c5eb3ce0b436f820d8cc5c34f4c",
     "grade": true,
     "grade_id": "draw_multigraph_test_2",
     "locked": true,
     "points": 6,
     "solution": false
    }
   },
   "outputs": [],
   "source": [
    "pos = np.array(list(nx.circular_layout(mg1).values()))\n",
    "assert_is_instance(ax3, mpl.axes.Axes)\n",
    "assert_equal(len(ax3.collections), 2) # 1 for nodes, 1 for edges\n",
    "assert_array_almost_equal(ax3.collections[0].get_offsets(), pos)\n",
    "assert_equal(len(ax3.collections[1].get_segments()), len(mg1.edges()))"
   ]
  }
 ],
 "metadata": {
  "kernelspec": {
   "display_name": "Python 3",
   "language": "python",
   "name": "python3"
  },
  "language_info": {
   "codemirror_mode": {
    "name": "ipython",
    "version": 3
   },
   "file_extension": ".py",
   "mimetype": "text/x-python",
   "name": "python",
   "nbconvert_exporter": "python",
   "pygments_lexer": "ipython3",
   "version": "3.5.2"
  }
 },
 "nbformat": 4,
 "nbformat_minor": 0
}
