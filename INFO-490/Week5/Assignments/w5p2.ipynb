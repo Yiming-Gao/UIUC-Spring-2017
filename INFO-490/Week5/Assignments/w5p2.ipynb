{
 "cells": [
  {
   "cell_type": "markdown",
   "metadata": {
    "collapsed": true
   },
   "source": [
    "If you are not using the `Assignments` tab on the course JupyterHub server to read this notebook, read [Activating the assignments tab](https://github.com/lcdm-uiuc/info490-sp17/blob/master/help/act_assign_tab.md).\n",
    "\n",
    "A few things you should keep in mind when working on assignments:\n",
    "\n",
    "1. Make sure you fill in any place that says `YOUR CODE HERE`. Do **not** write your answer in anywhere else other than where it says `YOUR CODE HERE`. Anything you write anywhere else will be removed or overwritten by the autograder.\n",
    "\n",
    "2. Before you submit your assignment, make sure everything runs as expected. Go to menubar, select _Kernel_, and restart the kernel and run all cells (_Restart & Run all_).\n",
    "\n",
    "3. Do not change the title (i.e. file name) of this notebook.\n",
    "\n",
    "4. Make sure that you save your work (in the menubar, select _File_ → _Save and CheckPoint_)\n",
    "\n",
    "5. You are allowed to submit an assignment multiple times, but only the most recent submission will be graded."
   ]
  },
  {
   "cell_type": "markdown",
   "metadata": {},
   "source": [
    "# Problem 5.2. Clustering.\n",
    "\n",
    "In this problem, we will continue from where we left off in Problem 5.1, and apply k-means clustering algorithm on Delta Airline's aircrafts."
   ]
  },
  {
   "cell_type": "code",
   "execution_count": 1,
   "metadata": {
    "collapsed": false,
    "deletable": false,
    "nbgrader": {
     "checksum": "11efd48bee6881dfeb364533955f9e1e",
     "grade": false,
     "grade_id": "import",
     "locked": true,
     "solution": false
    }
   },
   "outputs": [],
   "source": [
    "%matplotlib inline\n",
    "\n",
    "import numpy as np\n",
    "import pandas as pd\n",
    "import seaborn as sns\n",
    "import matplotlib as mpl\n",
    "import matplotlib.pyplot as plt\n",
    "import sklearn\n",
    "\n",
    "from sklearn.utils import check_random_state\n",
    "from sklearn.cluster import KMeans\n",
    "\n",
    "from nose.tools import assert_equal, assert_is_instance, assert_true, assert_is_not\n",
    "from numpy.testing import assert_array_equal, assert_array_almost_equal, assert_almost_equal"
   ]
  },
  {
   "cell_type": "markdown",
   "metadata": {},
   "source": [
    "I saved the `reduced` array (the first 10 principal components of the Delta Airline data set) from Problem 8.1 as a `npy` file.\n",
    "\n",
    "```python\n",
    ">>> np.save('delta_reduced.npy', reduced)\n",
    "```\n",
    "\n",
    "This file is in `/home/data_scientist/data/misc`. We will load this file as a Numpy array and start from there."
   ]
  },
  {
   "cell_type": "code",
   "execution_count": 2,
   "metadata": {
    "collapsed": false,
    "deletable": false,
    "nbgrader": {
     "checksum": "3d7ca39a3ce39be039b9da2b3d82a9d7",
     "grade": false,
     "grade_id": "load_reduced",
     "locked": true,
     "solution": false
    }
   },
   "outputs": [],
   "source": [
    "reduced = np.load('/home/data_scientist/data/misc/delta_reduced.npy')"
   ]
  },
  {
   "cell_type": "markdown",
   "metadata": {},
   "source": [
    "# k-means\n",
    "\n",
    "- Write a function named `cluster()` that fits a k-means clustering algorithm, and returns a tuple `(sklearn.cluster.k_means_.KMeans, np.array)`. The second element of the tuple is a 1-d array that contains the predictions of k-means clustering, i.e. which cluster each data point belongs to.\n",
    "\n",
    "Use default values for all parameters in `KMeans()` execept for `n_clusters` and `random_state`."
   ]
  },
  {
   "cell_type": "code",
   "execution_count": 3,
   "metadata": {
    "collapsed": true,
    "deletable": false,
    "nbgrader": {
     "checksum": "bab745ee031166a7aa45fd39b811a62a",
     "grade": false,
     "grade_id": "cluster_answer",
     "locked": false,
     "solution": true
    }
   },
   "outputs": [],
   "source": [
    "def cluster(array, random_state, n_clusters=4):\n",
    "    '''\n",
    "    Fits and predicts k-means clustering on \"array\"\n",
    "    \n",
    "    Parameters\n",
    "    ----------\n",
    "    array: A numpy array\n",
    "    random_state: Random seed, e.g. check_random_state(0)\n",
    "    n_clusters: The number of clusters. Default: 4\n",
    "    \n",
    "    Returns\n",
    "    -------\n",
    "    A tuple (sklearn.KMeans, np.ndarray)\n",
    "    '''\n",
    "    \n",
    "    # YOUR CODE HERE\n",
    "    # We build our model assuming three clusters\n",
    "    model = KMeans(n_clusters = n_clusters, random_state = random_state)\n",
    "\n",
    "    # We fit our data to assign classes\n",
    "    model.fit(array)\n",
    "\n",
    "    # Obtain the predictions\n",
    "    clusters = model.predict(array)\n",
    "    \n",
    "    return model, clusters"
   ]
  },
  {
   "cell_type": "code",
   "execution_count": 4,
   "metadata": {
    "collapsed": false,
    "deletable": false,
    "nbgrader": {
     "checksum": "68d629d30db2e6a224208bc327dac9f1",
     "grade": true,
     "grade_id": "cluster_test",
     "locked": true,
     "points": 8,
     "solution": false
    }
   },
   "outputs": [],
   "source": [
    "k_means_t, cluster_t = cluster(reduced, random_state=check_random_state(1), n_clusters=5)\n",
    "\n",
    "assert_is_instance(k_means_t, sklearn.cluster.k_means_.KMeans)\n",
    "assert_is_instance(cluster_t, np.ndarray)\n",
    "assert_equal(k_means_t.n_init, 10)\n",
    "assert_equal(k_means_t.n_clusters, 5)\n",
    "assert_equal(len(cluster_t), len(reduced))\n",
    "assert_true((cluster_t < 5).all()) # n_cluster = 5 so labels should be between 0 and 5\n",
    "assert_true((cluster_t >= 0).all())\n",
    "labels_gold = -1. * np.ones(len(reduced), dtype=np.int)\n",
    "mindist = np.empty(len(reduced))\n",
    "mindist.fill(np.infty)\n",
    "for i in range(5):\n",
    "    dist = np.sum((reduced - k_means_t.cluster_centers_[i])**2., axis=1)\n",
    "    labels_gold[dist < mindist] = i\n",
    "    mindist = np.minimum(dist, mindist)\n",
    "assert_true((mindist >= 0.0).all())\n",
    "assert_true((labels_gold != -1).all())\n",
    "assert_array_equal(labels_gold, cluster_t)"
   ]
  },
  {
   "cell_type": "markdown",
   "metadata": {},
   "source": [
    "## The elbow method\n",
    "\n",
    "Now, we would like to apply the k-means clustering technique, but how do we determine k, the number of clusters?\n",
    "\n",
    "The simplest method is [the elbow method](https://en.wikipedia.org/wiki/Determining_the_number_of_clusters_in_a_data_set#The_Elbow_Method). But what criterion should we use, i.e. what should go on the y-axis?\n",
    "\n",
    "According to [scikit-learn documentation](http://scikit-learn.org/stable/modules/clustering.html#k-means),\n",
    "\n",
    "```\n",
    "The KMeans algorithm clusters data by trying to separate samples in n groups of equal variance,\n",
    "minimizing a criterion known as the inertia or within-cluster sum-of-squares.\n",
    "```\n",
    "\n",
    "The scikit-learn documentation on [sklearn.cluster.KMeans](http://scikit-learn.org/stable/modules/generated/sklearn.cluster.KMeans.html#sklearn-cluster-kmeans) says that `sklearn.cluster.KMeans` has the inertia value in the `inertia_` attribute. So we can vary the number of clusters in `KMeans`, plot `KMeans.inertia_` as a function of the number of clusters, and pick the \"elbow\" in the plot.\n",
    "\n",
    "![](./images/elbow.png)\n",
    "\n",
    "Always use `check_random_state(0)` to seed the random number generator."
   ]
  },
  {
   "cell_type": "code",
   "execution_count": 5,
   "metadata": {
    "collapsed": false,
    "deletable": false,
    "nbgrader": {
     "checksum": "bff776a3802f72ba5e685f7efcd5389a",
     "grade": false,
     "grade_id": "plot_inertia_answer",
     "locked": false,
     "solution": true
    }
   },
   "outputs": [],
   "source": [
    "def plot_inertia(array, start=1, end=10):\n",
    "    '''\n",
    "    Increase the number of clusters from \"start\" to \"end\" (inclusive).\n",
    "    Finds the inertia of k-means clustering for different k.\n",
    "    Plots inertia as a function of the number of clusters.\n",
    "\n",
    "    \n",
    "    Parameters\n",
    "    ----------\n",
    "    array: A numpy array.\n",
    "    start: An int. Default: 1\n",
    "    end: An int. Default: 10\n",
    "    \n",
    "    Returns\n",
    "    -------\n",
    "    A matplotlib.Axes instance.\n",
    "    '''\n",
    "    \n",
    "    # YOUR CODE HERE\n",
    "    model_list = []\n",
    "    inertia_list = []\n",
    "    \n",
    "    for i in range(end):\n",
    "        model_list.append(cluster(array,\n",
    "                                  random_state = check_random_state(0),\n",
    "                                  n_clusters = i + 1)[0])\n",
    "        # get inertia_ values\n",
    "        inertia_list.append(model_list[i].inertia_)\n",
    "        \n",
    "    list_of_clusters = list(range(start, end + 1))\n",
    "    \n",
    "    # create elbow plot\n",
    "    sns.set_style('darkgrid')\n",
    "    fig, ax = plt.subplots()\n",
    "    ax.plot(list_of_clusters, inertia_list, color = sns.xkcd_rgb[\"greenish teal\"])\n",
    "    ax.set_title('The elbow method')\n",
    "    ax.set_xlabel('Number of clusters')\n",
    "    ax.set_ylabel('Inertia')\n",
    "\n",
    "    return ax"
   ]
  },
  {
   "cell_type": "code",
   "execution_count": 6,
   "metadata": {
    "collapsed": false,
    "deletable": false,
    "nbgrader": {
     "checksum": "b1ae2cfb0195eb818d5dbd4aa8a7396c",
     "grade": false,
     "grade_id": "plot_inertia_run",
     "locked": true,
     "solution": false
    }
   },
   "outputs": [
    {
     "data": {
      "image/png": "[encoded data removed]",
      "text/plain": [
       "<matplotlib.figure.Figure at 0x7ff011ca2a90>"
      ]
     },
     "metadata": {},
     "output_type": "display_data"
    }
   ],
   "source": [
    "inertia = plot_inertia(reduced)"
   ]
  },
  {
   "cell_type": "code",
   "execution_count": 7,
   "metadata": {
    "collapsed": false,
    "deletable": false,
    "nbgrader": {
     "checksum": "d961539e6816bb8e2e2817d77d06d75e",
     "grade": true,
     "grade_id": "plot_inertia_test",
     "locked": true,
     "points": 16,
     "solution": false
    }
   },
   "outputs": [],
   "source": [
    "assert_is_instance(inertia, mpl.axes.Axes)\n",
    "assert_true(len(inertia.lines) >= 1)\n",
    "\n",
    "xdata, ydata = inertia.lines[0].get_xydata().T\n",
    "\n",
    "for i in range(1, 11):\n",
    "    k_means_t, cluster_t = cluster(reduced, random_state=check_random_state(0), n_clusters=i)\n",
    "    assert_array_equal(xdata[i - 1], i)\n",
    "    assert_almost_equal(ydata[i - 1], k_means_t.inertia_)\n",
    "\n",
    "assert_is_not(len(inertia.title.get_text()), 0,\n",
    "    msg=\"Your plot doesn't have a title.\")\n",
    "assert_is_not(inertia.xaxis.get_label_text(), '',\n",
    "    msg=\"Change the x-axis label to something more descriptive.\")\n",
    "assert_is_not(inertia.yaxis.get_label_text(), '',\n",
    "    msg=\"Change the y-axis label to something more descriptive.\")"
   ]
  },
  {
   "cell_type": "markdown",
   "metadata": {},
   "source": [
    "## Pair Grid\n",
    "\n",
    "- Write a function named `plot_pair()` that uses [seaborn.PairGrid](http://stanford.edu/~mwaskom/software/seaborn/generated/seaborn.PairGrid.html#) to visualize the clusters in terms of first four principal components. The plots on the diagonal should be histograms of corresponding attributes, and the off-diagonal should be scatter plots.\n",
    "\n",
    "![](./images/pca_pair_plot.png)"
   ]
  },
  {
   "cell_type": "code",
   "execution_count": 8,
   "metadata": {
    "collapsed": false,
    "deletable": false,
    "nbgrader": {
     "checksum": "a5e560b8250412b751255cd4131e2cc0",
     "grade": false,
     "grade_id": "plot_pair_answer",
     "locked": false,
     "solution": true
    }
   },
   "outputs": [],
   "source": [
    "def plot_pair(reduced, clusters):\n",
    "    '''\n",
    "    Uses seaborn.PairGrid to visualize the data distribution\n",
    "    when axes are the first four principal components.\n",
    "    Diagonal plots are histograms. The off-diagonal plots are scatter plots.\n",
    "    \n",
    "    Parameters\n",
    "    ----------\n",
    "    reduced: A numpy array. Comes from importing delta_reduced.npy\n",
    "    \n",
    "    Returns\n",
    "    -------\n",
    "    A seaborn.axisgrid.PairGrid instance.\n",
    "    '''\n",
    "    # Label data\n",
    "    cols = ['PCA1', 'PCA2', 'PCA3', 'PCA4']\n",
    "    \n",
    "    # first four principal components\n",
    "    pc = pd.DataFrame(reduced[:, 0:4], columns = cols)\n",
    "    pc['clusters'] = clusters\n",
    "    \n",
    "    # Pair grid plot\n",
    "    ax = sns.PairGrid(pc, hue='clusters', vars = cols, palette = \"Set2\")\n",
    "    \n",
    "    # Diagonal and Off-diagonal plots\n",
    "    ax.map_diag(plt.hist, edgecolor=\"w\")\n",
    "    ax.map_offdiag(plt.scatter)\n",
    "    \n",
    "    return ax"
   ]
  },
  {
   "cell_type": "code",
   "execution_count": 9,
   "metadata": {
    "collapsed": false,
    "deletable": false,
    "nbgrader": {
     "checksum": "0a61605b2345299c98eb8a7cc434673b",
     "grade": false,
     "grade_id": "plot_pair_run",
     "locked": true,
     "points": 10,
     "solution": false
    }
   },
   "outputs": [
    {
     "data": {
      "image/png": "[encoded data removed]",
      "text/plain": [
       "<matplotlib.figure.Figure at 0x7ff013c253c8>"
      ]
     },
     "metadata": {},
     "output_type": "display_data"
    }
   ],
   "source": [
    "k_means, clusters = cluster(reduced, random_state=check_random_state(0), n_clusters=4)\n",
    "pg = plot_pair(reduced, clusters)"
   ]
  },
  {
   "cell_type": "markdown",
   "metadata": {},
   "source": [
    "We can see that the one outlier is in its own cluster, there’s 3 or 4 in the other and the remainder are split into two clusters of greater size."
   ]
  },
  {
   "cell_type": "code",
   "execution_count": 10,
   "metadata": {
    "collapsed": false,
    "deletable": false,
    "nbgrader": {
     "checksum": "23bb691549140785cd60fb0f80c6bc7c",
     "grade": true,
     "grade_id": "plot_pair_test",
     "locked": true,
     "points": 16,
     "solution": false
    }
   },
   "outputs": [],
   "source": [
    "assert_is_instance(pg.fig, plt.Figure)\n",
    "assert_true(len(pg.data.columns) >= 4)\n",
    "\n",
    "for ax in pg.diag_axes:\n",
    "    assert_equal(len(ax.patches), 4 * 10) # 4 clusters with 10 patches in each histogram\n",
    "\n",
    "for i, j in zip(*np.triu_indices_from(pg.axes, 1)):\n",
    "    ax = pg.axes[i, j]\n",
    "    x_out, y_out = ax.collections[0].get_offsets().T\n",
    "    x_in = reduced[clusters == 0, j] # we only check the first cluster\n",
    "    y_in = reduced[clusters == 0, i]\n",
    "    assert_array_equal(x_in, x_out)\n",
    "    assert_array_equal(y_in, y_out)\n",
    "\n",
    "for i, j in zip(*np.tril_indices_from(pg.axes, -1)):\n",
    "    ax = pg.axes[i, j]\n",
    "    x_in = reduced[clusters == 0, j]\n",
    "    y_in = reduced[clusters == 0, i]\n",
    "    x_out, y_out = ax.collections[0].get_offsets().T\n",
    "    assert_array_equal(x_in, x_out)\n",
    "    assert_array_equal(y_in, y_out)\n",
    "\n",
    "for i, j in zip(*np.diag_indices_from(pg.axes)):\n",
    "    ax = pg.axes[i, j]\n",
    "    assert_equal(len(ax.collections), 0)"
   ]
  },
  {
   "cell_type": "markdown",
   "metadata": {},
   "source": [
    "## More discussion\n",
    "\n",
    "You don't have to write any code in this section, but here's one interpretaion of what we have done.\n",
    "\n",
    "Let's take a closer look at each cluster."
   ]
  },
  {
   "cell_type": "code",
   "execution_count": 11,
   "metadata": {
    "collapsed": false
   },
   "outputs": [
    {
     "name": "stdout",
     "output_type": "stream",
     "text": [
      "Clusters\n",
      "0    153.625000\n",
      "1    244.733333\n",
      "2     44.500000\n",
      "3     54.000000\n",
      "Name: Accommodation, dtype: float64\n"
     ]
    }
   ],
   "source": [
    "df = pd.read_csv('/home/data_scientist/data/delta.csv', index_col='Aircraft')\n",
    "df['Clusters'] = clusters\n",
    "df['Aircraft'] = df.index\n",
    "df_grouped = df.groupby('Clusters').mean()\n",
    "print(df_grouped.Accommodation)"
   ]
  },
  {
   "cell_type": "code",
   "execution_count": 12,
   "metadata": {
    "collapsed": false
   },
   "outputs": [
    {
     "name": "stdout",
     "output_type": "stream",
     "text": [
      "Clusters\n",
      "0    137.048083\n",
      "1    190.538400\n",
      "2     84.810750\n",
      "3    111.000000\n",
      "Name: Length (ft), dtype: float64\n"
     ]
    }
   ],
   "source": [
    "print(df_grouped['Length (ft)'])"
   ]
  },
  {
   "cell_type": "markdown",
   "metadata": {},
   "source": [
    "Cluster 3 has only one aircraft:"
   ]
  },
  {
   "cell_type": "code",
   "execution_count": 13,
   "metadata": {
    "collapsed": false
   },
   "outputs": [
    {
     "name": "stdout",
     "output_type": "stream",
     "text": [
      "Aircraft\n",
      "Airbus A319 VIP    Airbus A319 VIP\n",
      "Name: Aircraft, dtype: object\n"
     ]
    }
   ],
   "source": [
    "clust3 = df[df.Clusters == 3]\n",
    "print(clust3.Aircraft)"
   ]
  },
  {
   "cell_type": "markdown",
   "metadata": {},
   "source": [
    "Airbus A319 VIP is not one of Delta Airline's regular fleet and is one of Airbus corporate jets.\n",
    "\n",
    "Cluster 2 has four aircrafts."
   ]
  },
  {
   "cell_type": "code",
   "execution_count": 14,
   "metadata": {
    "collapsed": false
   },
   "outputs": [
    {
     "name": "stdout",
     "output_type": "stream",
     "text": [
      "Aircraft\n",
      "CRJ 100/200 Pinnacle/SkyWest    CRJ 100/200 Pinnacle/SkyWest\n",
      "CRJ 100/200 ExpressJet                CRJ 100/200 ExpressJet\n",
      "E120                                                    E120\n",
      "ERJ-145                                              ERJ-145\n",
      "Name: Aircraft, dtype: object\n"
     ]
    }
   ],
   "source": [
    "clust2 = df[df.Clusters == 2]\n",
    "print(clust2.Aircraft)"
   ]
  },
  {
   "cell_type": "markdown",
   "metadata": {
    "collapsed": false
   },
   "source": [
    "These are small aircrafts and only have economy seats."
   ]
  },
  {
   "cell_type": "code",
   "execution_count": 15,
   "metadata": {
    "collapsed": false
   },
   "outputs": [
    {
     "name": "stdout",
     "output_type": "stream",
     "text": [
      "                              First Class  Business  Eco Comfort  Economy\n",
      "Aircraft                                                                 \n",
      "CRJ 100/200 Pinnacle/SkyWest            0         0            0        1\n",
      "CRJ 100/200 ExpressJet                  0         0            0        1\n",
      "E120                                    0         0            0        1\n",
      "ERJ-145                                 0         0            0        1\n"
     ]
    }
   ],
   "source": [
    "cols_seat = ['First Class', 'Business', 'Eco Comfort', 'Economy']\n",
    "print(df.loc[clust2.index, cols_seat])"
   ]
  },
  {
   "cell_type": "markdown",
   "metadata": {
    "collapsed": false
   },
   "source": [
    "Next, we look at Cluster 1."
   ]
  },
  {
   "cell_type": "code",
   "execution_count": 16,
   "metadata": {
    "collapsed": false
   },
   "outputs": [
    {
     "name": "stdout",
     "output_type": "stream",
     "text": [
      "Aircraft\n",
      "Airbus A330-200                      Airbus A330-200\n",
      "Airbus A330-200 (3L2)          Airbus A330-200 (3L2)\n",
      "Airbus A330-200 (3L3)          Airbus A330-200 (3L3)\n",
      "Airbus A330-300                      Airbus A330-300\n",
      "Boeing 747-400 (74S)            Boeing 747-400 (74S)\n",
      "Boeing 757-200 (75E)            Boeing 757-200 (75E)\n",
      "Boeing 757-200 (75X)            Boeing 757-200 (75X)\n",
      "Boeing 767-300 (76G)            Boeing 767-300 (76G)\n",
      "Boeing 767-300 (76L)            Boeing 767-300 (76L)\n",
      "Boeing 767-300 (76T)            Boeing 767-300 (76T)\n",
      "Boeing 767-300 (76Z V.1)    Boeing 767-300 (76Z V.1)\n",
      "Boeing 767-300 (76Z V.2)    Boeing 767-300 (76Z V.2)\n",
      "Boeing 767-400 (76D)            Boeing 767-400 (76D)\n",
      "Boeing 777-200ER                    Boeing 777-200ER\n",
      "Boeing 777-200LR                    Boeing 777-200LR\n",
      "Name: Aircraft, dtype: object\n"
     ]
    }
   ],
   "source": [
    "clust1 = df[df.Clusters == 1]\n",
    "print(clust1.Aircraft)"
   ]
  },
  {
   "cell_type": "markdown",
   "metadata": {
    "collapsed": false
   },
   "source": [
    "These aircrafts do not have first class seating."
   ]
  },
  {
   "cell_type": "code",
   "execution_count": 17,
   "metadata": {
    "collapsed": false
   },
   "outputs": [
    {
     "name": "stdout",
     "output_type": "stream",
     "text": [
      "                          First Class  Business  Eco Comfort  Economy\n",
      "Aircraft                                                             \n",
      "Airbus A330-200                     0         1            1        1\n",
      "Airbus A330-200 (3L2)               0         1            1        1\n",
      "Airbus A330-200 (3L3)               0         1            1        1\n",
      "Airbus A330-300                     0         1            1        1\n",
      "Boeing 747-400 (74S)                0         1            1        1\n",
      "Boeing 757-200 (75E)                0         1            1        1\n",
      "Boeing 757-200 (75X)                0         1            1        1\n",
      "Boeing 767-300 (76G)                0         1            1        1\n",
      "Boeing 767-300 (76L)                0         1            1        1\n",
      "Boeing 767-300 (76T)                0         1            1        1\n",
      "Boeing 767-300 (76Z V.1)            0         1            1        1\n",
      "Boeing 767-300 (76Z V.2)            0         1            1        1\n",
      "Boeing 767-400 (76D)                0         1            1        1\n",
      "Boeing 777-200ER                    0         1            1        1\n",
      "Boeing 777-200LR                    0         1            1        1\n"
     ]
    }
   ],
   "source": [
    "print(df.loc[clust1.index, cols_seat])"
   ]
  },
  {
   "cell_type": "markdown",
   "metadata": {},
   "source": [
    "Finally, cluster 0 has the following aircrafts:"
   ]
  },
  {
   "cell_type": "code",
   "execution_count": 18,
   "metadata": {
    "collapsed": false
   },
   "outputs": [
    {
     "name": "stdout",
     "output_type": "stream",
     "text": [
      "Aircraft\n",
      "Airbus A319                          Airbus A319\n",
      "Airbus A320                          Airbus A320\n",
      "Airbus A320 32-R                Airbus A320 32-R\n",
      "Boeing 717                            Boeing 717\n",
      "Boeing 737-700 (73W)        Boeing 737-700 (73W)\n",
      "Boeing 737-800 (738)        Boeing 737-800 (738)\n",
      "Boeing 737-800 (73H)        Boeing 737-800 (73H)\n",
      "Boeing 737-900ER (739)    Boeing 737-900ER (739)\n",
      "Boeing 757-200 (75A)        Boeing 757-200 (75A)\n",
      "Boeing 757-200 (75M)        Boeing 757-200 (75M)\n",
      "Boeing 757-200 (75N)        Boeing 757-200 (75N)\n",
      "Boeing 757-200 (757)        Boeing 757-200 (757)\n",
      "Boeing 757-200 (75V)        Boeing 757-200 (75V)\n",
      "Boeing 757-300                    Boeing 757-300\n",
      "Boeing 767-300 (76P)        Boeing 767-300 (76P)\n",
      "Boeing 767-300 (76Q)        Boeing 767-300 (76Q)\n",
      "Boeing 767-300 (76U)        Boeing 767-300 (76U)\n",
      "CRJ 700                                  CRJ 700\n",
      "CRJ 900                                  CRJ 900\n",
      "E170                                        E170\n",
      "E175                                        E175\n",
      "MD-88                                      MD-88\n",
      "MD-90                                      MD-90\n",
      "MD-DC9-50                              MD-DC9-50\n",
      "Name: Aircraft, dtype: object\n"
     ]
    }
   ],
   "source": [
    "clust0 = df[df.Clusters == 0]\n",
    "print(clust0.Aircraft)"
   ]
  },
  {
   "cell_type": "markdown",
   "metadata": {},
   "source": [
    "The aircrafts in cluster 0 (except for one aircraft) have first class seating but no business class."
   ]
  },
  {
   "cell_type": "code",
   "execution_count": 19,
   "metadata": {
    "collapsed": false
   },
   "outputs": [
    {
     "name": "stdout",
     "output_type": "stream",
     "text": [
      "                        First Class  Business  Eco Comfort  Economy\n",
      "Aircraft                                                           \n",
      "Airbus A319                       1         0            1        1\n",
      "Airbus A320                       1         0            1        1\n",
      "Airbus A320 32-R                  1         0            1        1\n",
      "Boeing 717                        1         0            1        1\n",
      "Boeing 737-700 (73W)              1         0            1        1\n",
      "Boeing 737-800 (738)              1         0            1        1\n",
      "Boeing 737-800 (73H)              1         0            1        1\n",
      "Boeing 737-900ER (739)            1         0            1        1\n",
      "Boeing 757-200 (75A)              1         0            1        1\n",
      "Boeing 757-200 (75M)              1         0            1        1\n",
      "Boeing 757-200 (75N)              1         0            1        1\n",
      "Boeing 757-200 (757)              1         0            1        1\n",
      "Boeing 757-200 (75V)              1         0            1        1\n",
      "Boeing 757-300                    1         0            1        1\n",
      "Boeing 767-300 (76P)              1         0            1        1\n",
      "Boeing 767-300 (76Q)              1         0            1        1\n",
      "Boeing 767-300 (76U)              0         1            1        1\n",
      "CRJ 700                           1         0            1        1\n",
      "CRJ 900                           1         0            1        1\n",
      "E170                              1         0            1        1\n",
      "E175                              1         0            1        1\n",
      "MD-88                             1         0            1        1\n",
      "MD-90                             1         0            1        1\n",
      "MD-DC9-50                         1         0            1        1\n"
     ]
    }
   ],
   "source": [
    "print(df.loc[clust0.index, cols_seat])"
   ]
  }
 ],
 "metadata": {
  "kernelspec": {
   "display_name": "Python 3",
   "language": "python",
   "name": "python3"
  },
  "language_info": {
   "codemirror_mode": {
    "name": "ipython",
    "version": 3
   },
   "file_extension": ".py",
   "mimetype": "text/x-python",
   "name": "python",
   "nbconvert_exporter": "python",
   "pygments_lexer": "ipython3",
   "version": "3.5.2"
  }
 },
 "nbformat": 4,
 "nbformat_minor": 0
}
