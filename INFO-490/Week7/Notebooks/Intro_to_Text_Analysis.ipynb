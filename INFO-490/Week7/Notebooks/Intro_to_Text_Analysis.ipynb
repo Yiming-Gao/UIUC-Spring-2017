{
 "cells": [
  {
   "cell_type": "markdown",
   "metadata": {},
   "source": [
    "<DIV ALIGN=CENTER>\n",
    "\n",
    "# Introduction to Text Analysis\n",
    "## Professor Robert J. Brunner\n",
    "  \n",
    "</DIV>  \n",
    "-----\n",
    "-----"
   ]
  },
  {
   "cell_type": "markdown",
   "metadata": {},
   "source": [
    "\n",
    "## Introduction\n",
    "\n",
    "In this IPython Notebook, we introduce text analysis, which is one of the most exciting application areas for machine learning. Text analysis forms the basis for natural language processing, and is explicitly used for sentiment analysis, for language identification, spelling correction, as well as mining text data from forms, such as medical informatics. Before moving into text classification and text mining, in this notebook we focus on basic text analysis tasks such as accessing data, tokenizing a corpus, and computing token frequencies. We demonstrate these tasks by using basic Python concepts and by using functionaility from within the scikit learn library, Finally, we introduce the NLTK library, and use methods within this library to perform these tasks.\n",
    "\n",
    "---\n",
    "\n",
    "[nlp]: https://en.wikipedia.org/wiki/Natural_language_processing\n",
    "[sa]: https://en.wikipedia.org/wiki/Sentiment_analysis\n",
    "[lc]: https://en.wikipedia.org/wiki/Language_identification\n",
    "[sc]: http://norvig.com/spell-correct.html\n",
    "[mi]: https://en.wikipedia.org/wiki/Health_informatics"
   ]
  },
  {
   "cell_type": "code",
   "execution_count": 1,
   "metadata": {
    "collapsed": false
   },
   "outputs": [],
   "source": [
    "# Display all plots inline\n",
    "% matplotlib inline"
   ]
  },
  {
   "cell_type": "markdown",
   "metadata": {},
   "source": [
    "## Data\n",
    "\n",
    "To get started with text analysis, we need texts to analyze. To get started, we will analyze the twenty newsgroup data set. We first download this data (scikit learn has built in methods for doing this, however, we have cached a copy locally on our server). The data are made available via a custom object, but we can access the data of interest by using dictionary keys. Before delving into text analysis, we first explore this data over several code cells to understand more about the task at hand.\n",
    "\n",
    "In case you are unaware, one primary use of the early Internet (i.e., pre-Web) was to share information among interested groups via newsgroups, or bulletin boards. Users could subscribe to these groups to send and receive postings of interest. This text classification problem uses postings to twenty newsgroups, thus the newsgroup is the classification target and the text in the posting is used to make the features. These postings were similar to emails, thus each posting will have a header, the article body, which might quote all or part of a previous message, and  possibly a footer (like an email signature). While we use the entire posting in these Notebooks, you can have the header, quoted text, and the footer removed by scikit learn by including the remove attribute, and indicating whether these sections should be removed. This attribute can take one or all of the values: header, footer, and quotes. For example, the following attribute would be  used to remove both headers and footers.\n",
    "\n",
    "```remove =('headers', 'footers')```\n",
    "\n",
    "---\n",
    "\n",
    "[tng]: http://kdd.ics.uci.edu/databases/20newsgroups/20newsgroups.data.html\n"
   ]
  },
  {
   "cell_type": "code",
   "execution_count": 2,
   "metadata": {
    "collapsed": false
   },
   "outputs": [
    {
     "name": "stdout",
     "output_type": "stream",
     "text": [
      "dict_keys(['DESCR', 'filenames', 'data', 'description', 'target_names', 'target'])\n"
     ]
    }
   ],
   "source": [
    "# load dataset\n",
    "from sklearn.datasets import fetch_20newsgroups\n",
    "\n",
    "text = fetch_20newsgroups(data_home='/home/data_scientist/data/textdm')\n",
    "\n",
    "# To learn more about these data, either browse the relevant \n",
    "# scikit learn documentation, or enter help(text) in an IPython code cell\n",
    "\n",
    "# The data can be accessed via Dictionary keys\n",
    "\n",
    "print(text.keys())"
   ]
  },
  {
   "cell_type": "code",
   "execution_count": 3,
   "metadata": {
    "collapsed": false
   },
   "outputs": [
    {
     "name": "stdout",
     "output_type": "stream",
     "text": [
      "Class  0 = alt.atheism\n",
      "Class  1 = comp.graphics\n",
      "Class  2 = comp.os.ms-windows.misc\n",
      "Class  3 = comp.sys.ibm.pc.hardware\n",
      "Class  4 = comp.sys.mac.hardware\n",
      "Class  5 = comp.windows.x\n",
      "Class  6 = misc.forsale\n",
      "Class  7 = rec.autos\n",
      "Class  8 = rec.motorcycles\n",
      "Class  9 = rec.sport.baseball\n",
      "Class 10 = rec.sport.hockey\n",
      "Class 11 = sci.crypt\n",
      "Class 12 = sci.electronics\n",
      "Class 13 = sci.med\n",
      "Class 14 = sci.space\n",
      "Class 15 = soc.religion.christian\n",
      "Class 16 = talk.politics.guns\n",
      "Class 17 = talk.politics.mideast\n",
      "Class 18 = talk.politics.misc\n",
      "Class 19 = talk.religion.misc\n"
     ]
    }
   ],
   "source": [
    "# Display target names, i.e., the names of the twenty news groups\n",
    "\n",
    "for idx, label in enumerate(text['target_names']):\n",
    "    print('Class {0:2d} = {1}'.format(idx, label))"
   ]
  },
  {
   "cell_type": "code",
   "execution_count": 4,
   "metadata": {
    "collapsed": false
   },
   "outputs": [
    {
     "name": "stdout",
     "output_type": "stream",
     "text": [
      "Target Newsgroup: sci.med\n",
      "----------------------------------------------------------------------\n",
      "From: geb@cs.pitt.edu (Gordon Banks)\n",
      "Subject: Re: sudden numbness in arm\n",
      "Reply-To: geb@cs.pitt.edu (Gordon Banks)\n",
      "Organization: Univ. of Pittsburgh Computer Science\n",
      "Lines: 48\n",
      "\n",
      "In article <C5u5LG.C3G@gpu.utcc.utoronto.ca> molnar@Bisco.CAnet.CA (Tom Molnar) writes:\n",
      ">I experienced a sudden numbness in my left arm this morning.  Just after\n",
      ">I completed my 4th set of deep squats.  Today was my weight training\n",
      ">day and I was just beginning my routine.  All of a sudden at the end of\n",
      ">the 4th set my arm felt like it had gone to sleep.  It was cold, turned pale,\n",
      ">and lost 60% of its strength.  The weight I used for squats wasn't that\n",
      ">heavy, I was working hard but not at 100% effort.  I waited for a few \n",
      ">minutes, trying to shake the arm back to life and then continued with\n",
      ">chest exercises (flyes) with lighter dumbells than I normally use.  But\n",
      ">I dropped the left dumbell during the first set, and experienced continued\n",
      ">arm weakness into the second.  So I quit training and decided not to do my\n",
      ">usual hour on the ski machine either.  I'll take it easy for the rest of\n",
      ">the day.\n",
      ">\n",
      ">My arm is *still* somewhat numb and significantly weaker than normal --\n",
      ">my hand still tingles a bit down to the thumb. Color has returned to normal\n",
      ">and it is no longer cold. \n",
      ">\n",
      ">Horrid thoughts of chunks of plaque blocking a major artery course through\n",
      ">my brain.  I'm 34, vegetarian, and pretty fit from my daily exercise\n",
      ">regimen.  So that can't be it.  Could a pinched nerve from the bar\n",
      ">cause these symptoms (I hope)?\n",
      "\n",
      "It likely has nothing to do with \"chunks of plaque\" but it sounds like\n",
      "you may have a neurovascular compromise to your arm and you need medical\n",
      "attention *before* doing any more weight lifting.  \n",
      "\n",
      "\n",
      "\n",
      "\n",
      "\n",
      "\n",
      "\n",
      "\n",
      "\n",
      "\n",
      "\n",
      "\n",
      "\n",
      "\n",
      "\n",
      "\n",
      "\n",
      "-- \n",
      "----------------------------------------------------------------------------\n",
      "Gordon Banks  N3JXP      | \"Skepticism is the chastity of the intellect, and\n",
      "geb@cadre.dsl.pitt.edu   |  it is shameful to surrender it too soon.\" \n",
      "----------------------------------------------------------------------------\n",
      "\n"
     ]
    }
   ],
   "source": [
    "# Display single message\n",
    "messageID = 251\n",
    "\n",
    "print('Target Newsgroup: {0}'.format(text['target_names'][text['target'][messageID]]))\n",
    "print(70*'-')\n",
    "\n",
    "message = text['data'][messageID]\n",
    "print(message)"
   ]
  },
  {
   "cell_type": "markdown",
   "metadata": {},
   "source": [
    "-----\n",
    "\n",
    "We can analyze text messages by using basic Python commands. For example, we can find how many times a word appears in a text by using Python `string` functions. One important item to consider, however, is that, by default, Python will search for sequences of characters in a text message. Thus, if a word is also part of larger words, we will over-count the occurrences, as demonstrated in the following code cell.\n",
    "\n",
    "We overcome this limitation by explicitly splitting a text into tokens. By default, in Python this is done at whitespace, but this can be changed. The second code cell demonstrates tokenizing a text string, and using a [`Counter`][pc] to accumulate the number of unique occurrences of each token. Finally, we employ regular expressions to split a text string, and use the resulting tokens to create another `Counter` that can be used to compare the results of regular expression parsing with the default string tokenization. One benefit of using regular expressions is that we can specifically indicate of what a token should be composed, in this case, we state a token is a sequence of one or more alphanumeric characters surrounded by white space. Thus the '>' token is removed.\n",
    "\n",
    "-----\n",
    "[pc]: https://docs.python.org/3.5/library/collections.html#collections.Counter"
   ]
  },
  {
   "cell_type": "code",
   "execution_count": 5,
   "metadata": {
    "collapsed": false
   },
   "outputs": [
    {
     "name": "stdout",
     "output_type": "stream",
     "text": [
      "Expression Count: 14\n",
      "Isolated Token Count: 9\n"
     ]
    }
   ],
   "source": [
    "token = 'to'\n",
    "i_token = ' {0} '.format(token)\n",
    "\n",
    "print('Expression Count: {0}'.format(message.count(token)))\n",
    "print('Isolated Token Count: {0}'.format(message.count(i_token)))"
   ]
  },
  {
   "cell_type": "code",
   "execution_count": 6,
   "metadata": {
    "collapsed": false
   },
   "outputs": [
    {
     "name": "stdout",
     "output_type": "stream",
     "text": [
      "Total number of tokens = 213\n",
      "---------------------------------------------------------------------------\n",
      "Top 40 tokens:\n",
      "---------------------------------------------------------------------------\n",
      "[ ('the', 11), ('of', 10), ('to', 9), ('and', 8), ('a', 7), ('my', 7), ('I', 6),\n",
      "  ('arm', 6), ('it', 6), ('was', 4), ('is', 4), ('>I', 3), ('for', 3),\n",
      "  ('sudden', 3), ('weight', 3), ('with', 3), ('It', 2), ('>and', 2),\n",
      "  ('numbness', 2), ('in', 2), ('training', 2), ('do', 2), ('So', 2),\n",
      "  ('experienced', 2), ('>', 2), ('|', 2), ('from', 2), ('Banks)', 2),\n",
      "  ('but', 2), ('>my', 2), ('geb@cs.pitt.edu', 2), ('left', 2), ('>the', 2),\n",
      "  ('4th', 2), ('normal', 2), ('at', 2), ('that', 2), ('than', 2), ('set', 2),\n",
      "  ('(Gordon', 2)]\n"
     ]
    }
   ],
   "source": [
    "# Accumulate counts of tokens, using string functionality\n",
    "import collections as cl\n",
    "\n",
    "# Used to print out sequences\n",
    "import pprint\n",
    "pp = pprint.PrettyPrinter(indent=2, depth=2, width=80, compact=True)\n",
    "\n",
    "# Tokenize and create counter\n",
    "words = message.split()\n",
    "wc = cl.Counter(words)\n",
    "\n",
    "# Number of tokens to display from message\n",
    "wc_display = 40\n",
    "\n",
    "# Display results\n",
    "print('Total number of tokens = {0:d}'.format(len(wc)))\n",
    "print(75*'-')\n",
    "print('Top {} tokens:'.format(wc_display))\n",
    "print(75*'-')\n",
    "pp.pprint(wc.most_common(wc_display))"
   ]
  },
  {
   "cell_type": "code",
   "execution_count": 7,
   "metadata": {
    "collapsed": false
   },
   "outputs": [
    {
     "name": "stdout",
     "output_type": "stream",
     "text": [
      "Total number of tokens = 207\n",
      "---------------------------------------------------------------------------\n",
      "Top 40 tokens:\n",
      "---------------------------------------------------------------------------\n",
      "[ ('the', 13), ('I', 12), ('of', 10), ('and', 10), ('to', 9), ('my', 9),\n",
      "  ('arm', 7), ('a', 7), ('it', 7), ('is', 4), ('was', 4), ('geb', 3),\n",
      "  ('pitt', 3), ('set', 3), ('for', 3), ('Banks', 3), ('sudden', 3), ('edu', 3),\n",
      "  ('weight', 3), ('with', 3), ('Gordon', 3), ('It', 2), ('numbness', 2),\n",
      "  ('cold', 2), ('in', 2), ('training', 2), ('do', 2), ('So', 2),\n",
      "  ('experienced', 2), ('from', 2), ('chunks', 2), ('but', 2), ('still', 2),\n",
      "  ('plaque', 2), ('you', 2), ('4th', 2), ('day', 2), ('normal', 2), ('at', 2),\n",
      "  ('that', 2)]\n"
     ]
    }
   ],
   "source": [
    "# Use regular expressions to tokenize\n",
    "import re\n",
    "pattern = re.compile(r'[^\\w\\s]')\n",
    "\n",
    "# tokenize and accumulate token counts\n",
    "words = re.sub(pattern, ' ', message).split()\n",
    "wc = cl.Counter(words)\n",
    "\n",
    "# Display results\n",
    "print('Total number of tokens = {0:d}'.format(len(wc)))\n",
    "print(75*'-')\n",
    "print('Top {} tokens:'.format(wc_display))\n",
    "print(75*'-')\n",
    "pp.pprint(wc.most_common(wc_display))"
   ]
  },
  {
   "cell_type": "markdown",
   "metadata": {},
   "source": [
    "-----\n",
    "\n",
    "The previous cells tokenized a text document, but identical tokens with different case will be treated as distinct. In general, this is not a desirable result since it could undercount the occurrences of an otherwise important token. We can easily convert a text to all lowercase to prevent this, by using the string `lower` method. This is demonstrated int he following code cell, where the total number of tokens has changed, as well as the counts of specific tokens (such as `in`).\n",
    "\n",
    "-----"
   ]
  },
  {
   "cell_type": "code",
   "execution_count": 8,
   "metadata": {
    "collapsed": false
   },
   "outputs": [
    {
     "name": "stdout",
     "output_type": "stream",
     "text": [
      "Total number of tokens = 197\n",
      "---------------------------------------------------------------------------\n",
      "Top 40 tokens:\n",
      "---------------------------------------------------------------------------\n",
      "[ ('the', 14), ('i', 12), ('of', 10), ('and', 10), ('to', 10), ('my', 10),\n",
      "  ('it', 9), ('arm', 7), ('a', 7), ('was', 4), ('is', 4), ('geb', 3), ('in', 3),\n",
      "  ('pitt', 3), ('from', 3), ('but', 3), ('gordon', 3), ('set', 3), ('banks', 3),\n",
      "  ('sudden', 3), ('edu', 3), ('weight', 3), ('with', 3), ('for', 3),\n",
      "  ('numbness', 2), ('training', 2), ('do', 2), ('chunks', 2), ('molnar', 2),\n",
      "  ('ca', 2), ('still', 2), ('so', 2), ('you', 2), ('plaque', 2),\n",
      "  ('experienced', 2), ('4th', 2), ('day', 2), ('normal', 2), ('cold', 2),\n",
      "  ('at', 2)]\n"
     ]
    }
   ],
   "source": [
    "# We can convert message to lower-case\n",
    "words = re.sub(pattern, ' ', message.lower()).split()\n",
    "wc = cl.Counter(words)\n",
    "\n",
    "# Display results\n",
    "print('Total number of tokens = {0:d}'.format(len(wc)))\n",
    "print(75*'-')\n",
    "print('Top {} tokens:'.format(wc_display))\n",
    "print(75*'-')\n",
    "pp.pprint(wc.most_common(wc_display))"
   ]
  },
  {
   "cell_type": "markdown",
   "metadata": {},
   "source": [
    "-----\n",
    "\n",
    "Tokenizing a text document is interesting, but traditional machine learning algorithms operate directly on numerical data. One approach to analyze a text document is to generate a numerical representation of a text document by counting the number of times a word occurs (as we did with the `Counter` collection previously. Another approach is to normalize the token counts by the total number of tokens, which creates a term (or token) frequency. We demonstrate this in the following code cell, where we display the _top_ terms and their frequency in the message.\n",
    "\n",
    "-----"
   ]
  },
  {
   "cell_type": "code",
   "execution_count": 9,
   "metadata": {
    "collapsed": false
   },
   "outputs": [
    {
     "name": "stdout",
     "output_type": "stream",
     "text": [
      "Term        : Frequency\n",
      "-------------------------\n",
      "the         : 0.042\n",
      "i           : 0.036\n",
      "of          : 0.030\n",
      "and         : 0.030\n",
      "to          : 0.030\n",
      "my          : 0.030\n",
      "it          : 0.027\n",
      "arm         : 0.021\n",
      "a           : 0.021\n",
      "was         : 0.012\n",
      "is          : 0.012\n",
      "geb         : 0.009\n",
      "in          : 0.009\n",
      "pitt        : 0.009\n",
      "from        : 0.009\n",
      "but         : 0.009\n",
      "gordon      : 0.009\n",
      "set         : 0.009\n",
      "banks       : 0.009\n",
      "sudden      : 0.009\n",
      "edu         : 0.009\n",
      "weight      : 0.009\n",
      "with        : 0.009\n",
      "for         : 0.009\n",
      "numbness    : 0.006\n",
      "training    : 0.006\n",
      "do          : 0.006\n",
      "chunks      : 0.006\n",
      "molnar      : 0.006\n",
      "ca          : 0.006\n",
      "still       : 0.006\n",
      "so          : 0.006\n",
      "you         : 0.006\n",
      "plaque      : 0.006\n",
      "experienced : 0.006\n",
      "4th         : 0.006\n",
      "day         : 0.006\n",
      "normal      : 0.006\n",
      "cold        : 0.006\n",
      "at          : 0.006\n"
     ]
    }
   ],
   "source": [
    "print('{0:12s}: {1}'.format('Term', 'Frequency'))\n",
    "print(25*'-')\n",
    "\n",
    "t_wc = sum(wc.values())\n",
    "for wt in wc.most_common(wc_display):\n",
    "    print('{0:12s}: {1:4.3f}'.format(wt[0], wt[1]/t_wc))"
   ]
  },
  {
   "cell_type": "markdown",
   "metadata": {},
   "source": [
    "-----\n",
    "\n",
    "## Student Activity\n",
    "\n",
    "In the preceding cells, we used the twenty newsgroup data to perform some basic text analysis. Now that you have run the Notebook, go back and make the following changes to see how the results change.\n",
    "\n",
    "1. Remove the header, footer, and quoted material. How does this change the results? \n",
    "2. Change your regular expression so that tokens are sequences of two or more characters (i.e., no numbers). How does this change the results?\n",
    "3. Try timing the three technique (you might want a longer text document). Which is the fastest technique? Can you explain why?\n",
    "\n",
    "-----\n",
    "\n",
    "## Bag of Words\n",
    "\n",
    "A simple question about text data mining that you might have is _How does one classify documents made up of words when machine learning algorithms work on numerical data?_ The simple answer is we need to build a numerical summary of a data set that our algorithms can manipulate. A conceptually easy approach  to implement this idea is to identify all possible words in the documents of interest and to track the number of times each words occurs in specific documents. This produces a (very) sparse matrix for our sample of documents, where the columns are the possible words (or tokens) and the rows are different documents. \n",
    "\n",
    "This concept, where one tokenizes documents to build these sparse matrices is more formally known as _bag of words_, because we effectively create the [bag of words][bwd] out of which are documents are constructed. In the bag of words model, each document can be mapped into a vector, where the individual elements correspond to the number of times the words (associated with the particular column) appears in the document.\n",
    "\n",
    "With scikit learn, we can use the [`CountVectorizer`][skcv] to break our document into tokens (in this case words), which are used to construct our _bag of words_ for the given set of documents. Given this tokenizer, we first need to construct the list of tokens, which we do with the `fit` method. Second, we need to transform our documents into this sparse matrix, which we do with the `transform` method. Since both steps use the same input dta, there is a convenience method to perform both operations at the same time, called `fit_transform`.\n",
    "\n",
    "-----\n",
    "[bwd]: https://en.wikipedia.org/wiki/Bag-of-words_model\n",
    "[skcv]: http://scikit-learn.org/stable/modules/generated/sklearn.feature_extraction.text.CountVectorizer.html"
   ]
  },
  {
   "cell_type": "code",
   "execution_count": 10,
   "metadata": {
    "collapsed": false
   },
   "outputs": [],
   "source": [
    "# Define our vectorizer\n",
    "from sklearn.feature_extraction.text import CountVectorizer\n",
    "cv = CountVectorizer(analyzer='word', lowercase=True)"
   ]
  },
  {
   "cell_type": "markdown",
   "metadata": {
    "collapsed": false
   },
   "source": [
    "-----\n",
    "\n",
    "Given the `CountVectorizer` we can see the number of words in our _bag_\n",
    "as well as the number of documents on which we train, which in this case\n",
    "agrees with the values we obtained when we read in the data.\n",
    "\n",
    "-----"
   ]
  },
  {
   "cell_type": "code",
   "execution_count": 11,
   "metadata": {
    "collapsed": false
   },
   "outputs": [
    {
     "data": {
      "text/plain": [
       "CountVectorizer(analyzer='word', binary=False, decode_error='strict',\n",
       "        dtype=<class 'numpy.int64'>, encoding='utf-8', input='content',\n",
       "        lowercase=True, max_df=1.0, max_features=None, min_df=1,\n",
       "        ngram_range=(1, 1), preprocessor=None, stop_words=None,\n",
       "        strip_accents=None, token_pattern='(?u)\\\\b\\\\w\\\\w+\\\\b',\n",
       "        tokenizer=None, vocabulary=None)"
      ]
     },
     "execution_count": 11,
     "metadata": {},
     "output_type": "execute_result"
    }
   ],
   "source": [
    "# Build a vocabulary from our data\n",
    "cv.fit(text['data'])"
   ]
  },
  {
   "cell_type": "code",
   "execution_count": 12,
   "metadata": {
    "collapsed": false
   },
   "outputs": [
    {
     "name": "stdout",
     "output_type": "stream",
     "text": [
      "Number of Samples = 1\n",
      "Number of Tokens = 130107\n",
      "---------------------------------------------------------------------------\n",
      "[[0 0 0 0 0 0 0 0 0 0 0 0 0 0 0 0 0 0 0 0 0 0 0 0 0 0 0 0 0 0 0 0 0 0 0 0 0\n",
      "  0 0 0 0 0 0 0 0 0 0 0 0 0 0 0 0 0 0 0 0 0 0 0 0 0 0 0 0 0 0 0 0 0 0 0 0 0\n",
      "  0 0 0 0 0 0 0 0 0 0 0 0 0 0 0 0 0 0 0 0 0 0 0 0 0]]\n",
      "---------------------------------------------------------------------------\n",
      "Tuples from Document-Term Matrix[i, j] and c (Count)\n",
      "---------------------------------------------------------------------------\n",
      "[ (0, 2337, 1), (0, 11891, 1), (0, 14011, 1), (0, 14730, 2), (0, 16455, 1),\n",
      "  (0, 26605, 1), (0, 27436, 1), (0, 28146, 10), (0, 28601, 1), (0, 29376, 7),\n",
      "  (0, 29556, 1), (0, 29573, 1), (0, 30044, 2), (0, 30243, 1), (0, 31414, 1),\n",
      "  (0, 31767, 3), (0, 31793, 1), (0, 32311, 1), (0, 32517, 1), (0, 32542, 1),\n",
      "  (0, 33508, 1), (0, 33527, 1), (0, 33879, 1), (0, 34772, 1), (0, 35805, 3),\n",
      "  (0, 36206, 1), (0, 36955, 1), (0, 37219, 2), (0, 37295, 1), (0, 37565, 1),\n",
      "  (0, 37627, 1), (0, 38194, 1), (0, 39122, 1), (0, 39294, 1), (0, 39701, 2),\n",
      "  (0, 40938, 2), (0, 41049, 1), (0, 41485, 1), (0, 41571, 1), (0, 41614, 1),\n",
      "  (0, 42304, 2), (0, 42876, 1), (0, 42969, 1), (0, 43740, 2), (0, 44889, 1),\n",
      "  (0, 45295, 2), (0, 45645, 1), (0, 45824, 1), (0, 48351, 2), (0, 48479, 1),\n",
      "  (0, 48753, 1), (0, 49090, 1), (0, 49213, 1), (0, 49416, 1), (0, 49417, 1),\n",
      "  (0, 49506, 1), (0, 50174, 1), (0, 50527, 3), (0, 50654, 1), (0, 50881, 1),\n",
      "  (0, 51609, 1), (0, 53276, 1), (0, 53278, 1), (0, 53418, 2), (0, 54870, 1),\n",
      "  (0, 55011, 1), (0, 55525, 1), (0, 55569, 1), (0, 56011, 1), (0, 56283, 3),\n",
      "  (0, 56979, 3), (0, 58487, 3), (0, 59761, 1), (0, 59833, 3), (0, 59961, 1),\n",
      "  (0, 61546, 1), (0, 61803, 1), (0, 61959, 1), (0, 62123, 2), (0, 62221, 1),\n",
      "  (0, 62534, 1), (0, 63962, 1), (0, 64038, 1), (0, 64153, 1), (0, 66608, 3),\n",
      "  (0, 67700, 1), (0, 68003, 1), (0, 68532, 4), (0, 68766, 9), (0, 68857, 1),\n",
      "  (0, 71079, 2), (0, 75151, 2), (0, 75828, 1), (0, 75854, 1), (0, 75870, 1),\n",
      "  (0, 75901, 2), (0, 75906, 1), (0, 76032, 1), (0, 76377, 1), (0, 76685, 1),\n",
      "  (0, 76825, 1), (0, 78644, 1), (0, 79043, 1), (0, 80005, 1), (0, 80809, 1),\n",
      "  (0, 82308, 1), (0, 83441, 2), (0, 83706, 1), (0, 83743, 1), (0, 85354, 10),\n",
      "  (0, 85684, 1), (0, 86493, 1), (0, 86663, 1), (0, 86816, 1), (0, 87626, 1),\n",
      "  (0, 87873, 2), (0, 87879, 1), (0, 87949, 2), (0, 87974, 1), (0, 88361, 1),\n",
      "  (0, 88372, 2), (0, 89362, 10), (0, 89860, 1), (0, 90379, 1), (0, 91771, 1),\n",
      "  (0, 93915, 1), (0, 94037, 3), (0, 94048, 1), (0, 94275, 2), (0, 95834, 1),\n",
      "  (0, 98440, 1), (0, 99721, 1), (0, 100444, 1), (0, 101034, 1), (0, 101378, 1),\n",
      "  (0, 101549, 1), (0, 103084, 1), (0, 105252, 1), (0, 105742, 1),\n",
      "  (0, 106275, 3), (0, 106532, 1), (0, 106561, 1), (0, 107354, 1),\n",
      "  (0, 107811, 1), (0, 107828, 1), (0, 108047, 1), (0, 108558, 2),\n",
      "  (0, 108828, 1), (0, 108871, 1), (0, 108972, 1), (0, 109788, 2),\n",
      "  (0, 110697, 2), (0, 111010, 1), (0, 111322, 1), (0, 111553, 3),\n",
      "  (0, 112085, 1), (0, 112564, 1), (0, 113279, 1), (0, 114418, 2),\n",
      "  (0, 114440, 2), (0, 114455, 14), (0, 114520, 1), (0, 114625, 1),\n",
      "  (0, 114731, 1), (0, 114813, 1), (0, 114882, 1), (0, 114934, 1),\n",
      "  (0, 115200, 1), (0, 115475, 10), (0, 115508, 1), (0, 115579, 1),\n",
      "  (0, 115663, 1), (0, 116099, 2), (0, 116727, 1), (0, 117038, 1),\n",
      "  (0, 118952, 1), (0, 119737, 1), (0, 119740, 1), (0, 119832, 1),\n",
      "  (0, 119872, 1), (0, 119930, 1), (0, 121005, 1), (0, 123074, 1),\n",
      "  (0, 123292, 4), (0, 123310, 1), (0, 123586, 1), (0, 123592, 1),\n",
      "  (0, 123699, 3), (0, 124616, 3), (0, 125035, 1), (0, 125271, 1),\n",
      "  (0, 128402, 2), (0, 128420, 1)]\n"
     ]
    }
   ],
   "source": [
    "# We can now process documents.\n",
    "\n",
    "# We needd an iteratable to appply cv.transform()\n",
    "msg = []\n",
    "msg.append(message)\n",
    "\n",
    "# Transform one message, which is easier to comprehend.\n",
    "# By default, scikit learn uses sparse matrices for text processing\n",
    "# What is returned is a Document Term Matrix (dtm)\n",
    "dtm = cv.transform(msg)\n",
    "\n",
    "print('Number of Samples = {0}'.format(dtm.shape[0]))\n",
    "print('Number of Tokens = {0}'.format(dtm.shape[1]))\n",
    "print(75*'-')\n",
    "\n",
    "# We can convert from sparse to dense to explore the document-term matrix\n",
    "# The range was manually chosen to have several non-zero elements\n",
    "print(dtm.todense()[:,45141:45240])\n",
    "print(75*'-')\n",
    "\n",
    "# We can also print only nonzero DTM matrix elements\n",
    "\n",
    "print('Tuples from Document-Term Matrix[i, j] and c (Count)')\n",
    "print(75*'-')\n",
    "\n",
    "import scipy.sparse as sp\n",
    "\n",
    "# Find non-zero elements\n",
    "i, j, c = sp.find(dtm)\n",
    "dtm_list = list(zip(i, j, c))\n",
    "pp.pprint(dtm_list)"
   ]
  },
  {
   "cell_type": "markdown",
   "metadata": {},
   "source": [
    "-----\n",
    "\n",
    "We can grab the words in our _bag of words_ by extracting the _vocabulary_. This allows us to see if words are present in the documents. We can also find which term occurs most frequently, least frequently, as well as the overall top terms.\n",
    "\n",
    "-----"
   ]
  },
  {
   "cell_type": "code",
   "execution_count": 13,
   "metadata": {
    "collapsed": false
   },
   "outputs": [
    {
     "name": "stdout",
     "output_type": "stream",
     "text": [
      "Arbitrary Word (the): Column = 114455\n",
      "Max Word (the): Column = 114455\n",
      "Min Word (100): Column = 2337\n"
     ]
    }
   ],
   "source": [
    "# We can explore the terms in our vocabulary\n",
    "terms = cv.vocabulary_\n",
    "\n",
    "# Look at single term\n",
    "my_word = 'the'\n",
    "print(\"Arbitrary Word ({0}): Column = {1}\".format(my_word, terms[my_word]))\n",
    "\n",
    "from operator import itemgetter\n",
    "max_key = max(dtm_list, key=itemgetter(2))[1]\n",
    "min_key = min(dtm_list, key=itemgetter(2))[1]\n",
    "\n",
    "x_max = [key for key in terms.keys() if terms[key] == max_key]\n",
    "x_min = [key for key in terms.keys() if terms[key] == min_key]\n",
    "\n",
    "print(\"Max Word ({0}): Column = {1}\".format(x_max[0], max_key))\n",
    "print(\"Min Word ({0}): Column = {1}\".format(x_min[0], min_key))"
   ]
  },
  {
   "cell_type": "code",
   "execution_count": 14,
   "metadata": {
    "collapsed": false
   },
   "outputs": [
    {
     "name": "stdout",
     "output_type": "stream",
     "text": [
      "Count: Term in Vocabulary\n",
      "----------------------------------------\n",
      "   14: vocabulary[114455] = the\n",
      "   10: vocabulary[115475] = to\n",
      "   10: vocabulary[89362] = of\n",
      "   10: vocabulary[85354] = my\n",
      "   10: vocabulary[28146] = and\n",
      "    9: vocabulary[68766] = it\n",
      "    7: vocabulary[29376] = arm\n",
      "    4: vocabulary[123292] = was\n",
      "    4: vocabulary[68532] = is\n",
      "    3: vocabulary[31767] = banks\n"
     ]
    }
   ],
   "source": [
    "# Number of terms to display\n",
    "top_display = 10\n",
    "\n",
    "# Sort our document term list, and unzip\n",
    "dtm_list.sort(key=itemgetter(2), reverse=True)\n",
    "i, j, c = zip(*dtm_list)\n",
    "\n",
    "# Grab out the keys and values for top terms\n",
    "x_keys = [(k, v) for k, v in terms.items() if terms[k] in j[:top_display]]\n",
    "x_keys.sort(key=itemgetter(1), reverse=True)\n",
    "\n",
    "# Grab the data, including counts from DTM list\n",
    "x_counts = dtm_list[:top_display]\n",
    "x_counts.sort(key=itemgetter(1), reverse=True)\n",
    "\n",
    "# Now we merge the two lists so we can sort to display terms in order\n",
    "x_merged = []\n",
    "for idx in range(len(x_keys)):\n",
    "    if x_keys[idx][1] != x_counts[idx][1]:\n",
    "        print('Error: column mismatch!')\n",
    "\n",
    "    x_merged.append((x_keys[idx][0], x_keys[idx][1], x_counts[idx][2]))\n",
    "\n",
    "x_merged.sort(key=itemgetter(2), reverse=True)\n",
    "\n",
    "# Print results\n",
    "print('Count: Term in Vocabulary')\n",
    "print(40*'-')\n",
    "for x in x_merged:\n",
    "    print(\"{2:5d}: vocabulary[{0}] = {1}\".format(x[1], x[0], x[2]))"
   ]
  },
  {
   "cell_type": "markdown",
   "metadata": {},
   "source": [
    "-----\n",
    "\n",
    "## Student Activity\n",
    "\n",
    "In the preceding cells, we used scikit learn to parse our sample text message by using `CountVectorizer`. If you look carefully, you will notice the default results are different than our standard Python text analysis. For example, note how we do not have the single character word `a` in the list of most common items. The reason is the default tokenizer for `CountVectorizer` removes single character words (as they are assumed to be uninformative). You can change this by providing a new regular expression to the `CountVectorizer` via the `token_pattern` parameter. \n",
    "\n",
    "Now that you have run the Notebook, go back and make the following changes to see how the results change.\n",
    "\n",
    "1. Change the `CountVectorizer` regular expression to the string `'(?u)\\\\b\\\\w+\\\\b'`, how do the results change?\n",
    "2. Try vectorizing a different message (i.e., transform a different message, or messages). How do the results change?\n",
    "3. You can have `CountVectorizer` text processing object remove accented words by setting the `strip_accents` parameter to `True`. Does setting this parameter change the results?\n",
    "\n",
    "-----\n",
    "\n",
    "## NLTK\n",
    "\n",
    "The scikit learn library is a general purpose, Python machine learning library that does include some basic text analysis functionality. Text analysis, however is an extremely large and growing topic. As a result, we will want to explore an additional library for natural language processing. This library, known as [Natural Language ToolKit][nltk], or NLTK, enables a wide range of text analyses either on its own, or in conjunction with scikit learn. The NLTK library is extensive and includes [documentation][nltkd] covering many of the topics we have demonstrated previously.\n",
    "\n",
    "In the rest of this Notebook, we will explore how to use NLTK to perform basic text analysis, in a similar manner as demonstrated earlier via standard Python and the scikit learn library. First we import the library, and tokenize the message. We create an NLTK frequency distribution by passing a list of words to the NLTK `FreqDist` method.\n",
    "\n",
    "-----\n",
    "[nltk]: http://www.nltk.org\n",
    "[nltkd]: http://www.nltk.org/book/"
   ]
  },
  {
   "cell_type": "code",
   "execution_count": 15,
   "metadata": {
    "collapsed": true
   },
   "outputs": [],
   "source": [
    "import nltk"
   ]
  },
  {
   "cell_type": "code",
   "execution_count": 16,
   "metadata": {
    "collapsed": false
   },
   "outputs": [
    {
     "name": "stdout",
     "output_type": "stream",
     "text": [
      "[ ('--', 78), ('>', 22), ('.', 18), ('the', 14), ('i', 12), ('of', 10),\n",
      "  ('and', 10), ('my', 10), ('it', 9), ('to', 9)]\n"
     ]
    }
   ],
   "source": [
    "# Tokenize a text document\n",
    "words = [word.lower() for word in nltk.word_tokenize(message)]\n",
    "\n",
    "# Count number of occurances for each token\n",
    "counts = nltk.FreqDist(words)\n",
    "pp.pprint(counts.most_common(top_display))"
   ]
  },
  {
   "cell_type": "markdown",
   "metadata": {},
   "source": [
    "-----\n",
    "\n",
    "We can clean up the list of tokens by using a regular expression with the `word_tokenize` method. We can reuse our previously defined regular expression `pattern = re.compile(r'[^\\w\\s]')` to identify tokens as one or more alphanumeric characters followed by a whitespace character. Doing this removes the punctuation tokens, as shown below.\n",
    "\n",
    "-----"
   ]
  },
  {
   "cell_type": "code",
   "execution_count": 17,
   "metadata": {
    "collapsed": false
   },
   "outputs": [
    {
     "name": "stdout",
     "output_type": "stream",
     "text": [
      "[ ('the', 14), ('i', 12), ('of', 10), ('and', 10), ('to', 10), ('my', 10),\n",
      "  ('it', 9), ('arm', 7), ('a', 7), ('was', 4)]\n"
     ]
    }
   ],
   "source": [
    "# Specify an RE to parse a text document\n",
    "words = [word.lower() for word in nltk.word_tokenize(re.sub(pattern, ' ', message))]\n",
    "\n",
    "# Count token occurances\n",
    "counts = nltk.FreqDist(words)\n",
    "pp.pprint(counts.most_common(top_display))"
   ]
  },
  {
   "cell_type": "markdown",
   "metadata": {},
   "source": [
    "-----\n",
    "\n",
    "One measure of the use of tokens in a document is [lexical diversity][ld], which is the fraction of unique tokens, or terms, in a document to the total tokens, or terms in a document. \n",
    "\n",
    "-----\n",
    "[ld]: https://en.wikipedia.org/wiki/Lexical_diversity"
   ]
  },
  {
   "cell_type": "code",
   "execution_count": 18,
   "metadata": {
    "collapsed": false
   },
   "outputs": [
    {
     "name": "stdout",
     "output_type": "stream",
     "text": [
      "Message has 197 tokens and 336 words for a lexical diversity of 1.706\n"
     ]
    }
   ],
   "source": [
    "\n",
    "num_words = len(words)\n",
    "num_tokens = len(counts)\n",
    "lexdiv  =  num_words / num_tokens\n",
    "print(\"Message has %i tokens and %i words for a lexical diversity of %0.3f\" % (num_tokens, num_words, lexdiv))"
   ]
  },
  {
   "cell_type": "markdown",
   "metadata": {},
   "source": [
    "-----\n",
    "\n",
    "We can compute the number of [unique sample values][b], [number of samples outcomes][n], and the [maximum occurring token][m] with simple NLTK statistical functions. We can also iterate through and display the most commonly occurring terms and their counts.\n",
    "\n",
    "-----\n",
    "[b]: http://www.nltk.org/api/nltk.html?highlight=freqdist#nltk.probability.FreqDist.B\n",
    "[n]: http://www.nltk.org/api/nltk.html?highlight=freqdist#nltk.probability.FreqDist.N\n",
    "[m]: http://www.nltk.org/api/nltk.html?highlight=freqdist#nltk.probability.FreqDist.N"
   ]
  },
  {
   "cell_type": "code",
   "execution_count": 19,
   "metadata": {
    "collapsed": false
   },
   "outputs": [
    {
     "name": "stdout",
     "output_type": "stream",
     "text": [
      "Number of unique bins(tokens) = 197\n",
      "\n",
      "Number of sample outcomes = 336\n",
      "\n",
      "Maximum occuring token = the\n",
      "\n",
      "Term        : Count\n",
      "-------------------------\n",
      "the         :  14.000\n",
      "i           :  12.000\n",
      "of          :  10.000\n",
      "and         :  10.000\n",
      "to          :  10.000\n",
      "my          :  10.000\n",
      "it          :  9.000\n",
      "arm         :  7.000\n",
      "a           :  7.000\n",
      "was         :  4.000\n"
     ]
    }
   ],
   "source": [
    "# Display number of unique tokens (or bins)\n",
    "print('Number of unique bins(tokens) = {0}\\n'.format(counts.B()))\n",
    "print('Number of sample outcomes = {0}\\n'.format(counts.N()))\n",
    "print('Maximum occuring token = {0}\\n'.format(counts.max()))\n",
    "\n",
    "print('{0:12s}: {1}'.format('Term', 'Count'))\n",
    "print(25*'-')\n",
    "\n",
    "for token, freq in counts.most_common(top_display):\n",
    "    print('{0:12s}:  {1:4.3f}'.format(token, freq))"
   ]
  },
  {
   "cell_type": "markdown",
   "metadata": {},
   "source": [
    "-----\n",
    "\n",
    "For some machine learning applications, words that occur rarely are important. For example, in a classification process, words that are uniquely assigned to a particular message should carry considerable weight. Taken to the extreme, words that only occur once in an entire set of documents, or corpus, provide unique insight into the particular text document in which they occur. A word that only occurs once in an entire corpus is known as a [_hapax_][ha]. NLTK has a `hapaxes` method that can be used to quickly find _hapaxes_ in a corpus.\n",
    "\n",
    "-----\n",
    "[ha]: https://en.wikipedia.org/wiki/Hapax_legomenon"
   ]
  },
  {
   "cell_type": "code",
   "execution_count": 20,
   "metadata": {
    "collapsed": false
   },
   "outputs": [
    {
     "name": "stdout",
     "output_type": "stream",
     "text": [
      "[ 'lines', 'vegetarian', 'article', 'used', 'writes', 'beginning', 'may', 'fit',\n",
      "  'strength', 'significantly']\n"
     ]
    }
   ],
   "source": [
    "# Hapaxes\n",
    "pp.pprint(counts.hapaxes()[:10])"
   ]
  },
  {
   "cell_type": "markdown",
   "metadata": {},
   "source": [
    "-----\n",
    "\n",
    "We can also use NLTK to quickly see the most commonly used tokens. First, we can use the `tabulate` method to display the top tokens and their frequency (i.e., what we did in multiple lines of code earlier). Second, we can visually plot the counts of the top tokens by using the `plot` method. Note, we decorate the traditional plot by using , but the `plot` method will generate a simple visualization with one function call.\n",
    "\n",
    "-----"
   ]
  },
  {
   "cell_type": "code",
   "execution_count": 21,
   "metadata": {
    "collapsed": false
   },
   "outputs": [
    {
     "name": "stdout",
     "output_type": "stream",
     "text": [
      "the   i  of and  to  my  it arm   a was \n",
      " 14  12  10  10  10  10   9   7   7   4 \n"
     ]
    }
   ],
   "source": [
    "counts.tabulate(top_display)"
   ]
  },
  {
   "cell_type": "code",
   "execution_count": 22,
   "metadata": {
    "collapsed": false
   },
   "outputs": [
    {
     "data": {
      "image/png": "[encoded data removed]",
      "text/plain": [
       "<matplotlib.figure.Figure at 0x7f06ed0491d0>"
      ]
     },
     "metadata": {},
     "output_type": "display_data"
    }
   ],
   "source": [
    "import seaborn as sns\n",
    "import matplotlib.pyplot as plt\n",
    "\n",
    "fig, axs = plt.subplots(figsize=(10,6))\n",
    "sns.set(style=\"white\", font_scale=1.5)\n",
    "sns.despine(offset=5)#, trim=True)\n",
    "counts.plot(top_display, cumulative=False)\n",
    "axs.set_title('Term Count')\n",
    "plt.show()"
   ]
  },
  {
   "cell_type": "markdown",
   "metadata": {},
   "source": [
    "-----\n",
    "## NLTK Corpus\n",
    "\n",
    "To this point, we have analyzed the twenty newsgroup data that are available from within scikit learn. The NLTK library includes a number of [data sets][nc] that can be downloaded and used directly from within NLTK. One data set that we will use repeatedly in this course will be the NLTK [movie review corpus][mrc]. These data should be available in your Docker container. If not, NLTK provides the `nltk.download()` method to download either all or one particular corpus.\n",
    "\n",
    "In the following code cells, we access the movie review data set, display (part) of the data set's README (or general documentation), before we begin to process the words or terms in the corpus.\n",
    "\n",
    "-----\n",
    "[nc]: http://www.nltk.org/nltk_data/\n",
    "[mrc]: http://www.cs.cornell.edu/people/pabo/movie-review-data/"
   ]
  },
  {
   "cell_type": "code",
   "execution_count": 23,
   "metadata": {
    "collapsed": false
   },
   "outputs": [],
   "source": [
    "# Access the NLTK movie review data set. \n",
    "\n",
    "mvr = nltk.corpus.movie_reviews"
   ]
  },
  {
   "cell_type": "code",
   "execution_count": 24,
   "metadata": {
    "collapsed": false
   },
   "outputs": [
    {
     "name": "stdout",
     "output_type": "stream",
     "text": [
      "Sentiment Polarity Dataset Version 2.0\n",
      "Bo Pang and Lillian Lee\n",
      "\n",
      "http://www.cs.cornell.edu/people/pabo/movie-review-data/\n",
      "\n",
      "Distributed with NLTK with permission from the authors.\n",
      "\n"
     ]
    }
   ],
   "source": [
    "# Print the data set README,  remove array bounds to see entire file\n",
    "print(mvr.readme()[:178])"
   ]
  },
  {
   "cell_type": "code",
   "execution_count": 25,
   "metadata": {
    "collapsed": false
   },
   "outputs": [
    {
     "name": "stdout",
     "output_type": "stream",
     "text": [
      "Movie Review has 39768 tokens and 1583820 words for a lexical diversity of 39.826\n"
     ]
    }
   ],
   "source": [
    "mvr_words = mvr.words()\n",
    "counts  = nltk.FreqDist(mvr_words)\n",
    "num_words = len(mvr_words)\n",
    "num_tokens = len(counts)\n",
    "lexdiv  =  num_words / num_tokens\n",
    "print(\"Movie Review has {0} tokens and {1} words for a lexical diversity of {2:4.3f}\".format(num_tokens, num_words, lexdiv))"
   ]
  },
  {
   "cell_type": "code",
   "execution_count": 26,
   "metadata": {
    "collapsed": false
   },
   "outputs": [
    {
     "name": "stdout",
     "output_type": "stream",
     "text": [
      "[ 'plot', ':', 'two', 'teen', 'couples', 'go', 'to', 'a', 'church', 'party',\n",
      "  ',', 'drink', 'and', 'then', 'drive', '.', 'they', 'get', 'into', 'an',\n",
      "  'accident', '.', 'one', 'of', 'the', 'guys', 'dies', ',', 'but', 'his',\n",
      "  'girlfriend', 'continues', 'to', 'see', 'him', 'in', 'her', 'life', ',',\n",
      "  'and', 'has', 'nightmares', '.', 'what', \"'\", 's', 'the', 'deal', '?',\n",
      "  'watch']\n"
     ]
    }
   ],
   "source": [
    "pp.pprint(mvr.words()[:50])"
   ]
  },
  {
   "cell_type": "markdown",
   "metadata": {},
   "source": [
    "-----\n",
    "\n",
    "The data are organized into separate files for each movie review. Since these reviews have an associated sentiment:? negative and positive, the reviews are categorized (via a directory structure) into `neg` or `pos` respectively. We can directly access a single review, which can be treated as a single text document. In the next few code cells we directly access the number of files, which can be used to count the number of reviews (assuming one review per file). We also display the contents of a single file, before displaying a subset of the files in one particular category, in this case `neg`, or negative reviews.\n",
    "\n",
    "-----"
   ]
  },
  {
   "cell_type": "code",
   "execution_count": 27,
   "metadata": {
    "collapsed": false
   },
   "outputs": [
    {
     "name": "stdout",
     "output_type": "stream",
     "text": [
      "Total Number of reviews = 2000\n"
     ]
    }
   ],
   "source": [
    "# Each article is in a separate file\n",
    "\n",
    "print('Total Number of reviews = {0}'.format(len(mvr.fileids())))"
   ]
  },
  {
   "cell_type": "code",
   "execution_count": 28,
   "metadata": {
    "collapsed": false
   },
   "outputs": [
    {
     "name": "stdout",
     "output_type": "stream",
     "text": [
      "Example File: neg/cv000_29416.txt\n"
     ]
    }
   ],
   "source": [
    "a_filename = mvr.fileids()[0]\n",
    "print('Example File: {0}'.format(a_filename))"
   ]
  },
  {
   "cell_type": "code",
   "execution_count": 29,
   "metadata": {
    "collapsed": false
   },
   "outputs": [
    {
     "name": "stdout",
     "output_type": "stream",
     "text": [
      "('plot : two teen couples go to a church party , drink and then drive . \\n'\n",
      " 'they get into an accident . \\n'\n",
      " 'one of the guys dies , but his girlfriend continues to see him in her life , '\n",
      " 'and has nightmares . \\n'\n",
      " \"what's the d\")\n"
     ]
    }
   ],
   "source": [
    "# Print part of the file\n",
    "pp.pprint(mvr.raw(a_filename)[:211])"
   ]
  },
  {
   "cell_type": "code",
   "execution_count": 30,
   "metadata": {
    "collapsed": false
   },
   "outputs": [
    {
     "name": "stdout",
     "output_type": "stream",
     "text": [
      "['neg', 'pos']\n"
     ]
    }
   ],
   "source": [
    "# Display article assigned categories\n",
    "pp.pprint(mvr.categories())"
   ]
  },
  {
   "cell_type": "code",
   "execution_count": 31,
   "metadata": {
    "collapsed": false
   },
   "outputs": [
    {
     "name": "stdout",
     "output_type": "stream",
     "text": [
      "[ 'neg/cv000_29416.txt', 'neg/cv001_19502.txt', 'neg/cv002_17424.txt',\n",
      "  'neg/cv003_12683.txt', 'neg/cv004_12641.txt', 'neg/cv005_29357.txt',\n",
      "  'neg/cv006_17022.txt', 'neg/cv007_4992.txt', 'neg/cv008_29326.txt',\n",
      "  'neg/cv009_29417.txt', 'neg/cv010_29063.txt', 'neg/cv011_13044.txt',\n",
      "  'neg/cv012_29411.txt', 'neg/cv013_10494.txt', 'neg/cv014_15600.txt',\n",
      "  'neg/cv015_29356.txt', 'neg/cv016_4348.txt', 'neg/cv017_23487.txt',\n",
      "  'neg/cv018_21672.txt', 'neg/cv019_16117.txt']\n"
     ]
    }
   ],
   "source": [
    "# Find articles that have specific category\n",
    "pp.pprint(mvr.fileids('neg')[:20])"
   ]
  },
  {
   "cell_type": "markdown",
   "metadata": {},
   "source": [
    "-----\n",
    "\n",
    "Given the contents of a file, we can process the associated text in the same manner as before. In this case, we tokenize one review into sentences as opposed to the traditional word tokens. After this, we create a list of words that are much longer than normal. As this simple example demonstrates, this can be a useful technique to search for potential problems, since in this case, none of the example shown are actual words.\n",
    "\n",
    "-----"
   ]
  },
  {
   "cell_type": "code",
   "execution_count": 32,
   "metadata": {
    "collapsed": false
   },
   "outputs": [
    {
     "name": "stdout",
     "output_type": "stream",
     "text": [
      "[ '9', ':', 'its', 'pathetic', 'attempt', 'at', '\"', 'improving', '\"', 'on',\n",
      "  'a', 'shakespeare', 'classic', '.']\n",
      "['8', ':', 'its', 'just', 'another', 'piece', 'of', 'teen', 'fluff', '.']\n",
      "['7', ':', 'kids', 'in', 'high', 'school', 'are', 'not', 'that', 'witty', '.']\n",
      "['6', ':', 'the', 'wittiness', 'is', 'not', 'witty', 'enough', '.']\n",
      "['5', ':', 'the', 'comedy', 'is', 'not', 'funny', '.']\n",
      "['4', ':', 'the', 'acting', 'is', 'poor', '.']\n",
      "['3', ':', 'the', 'music', '.']\n",
      "['2', ':', 'the', 'poster', '.']\n",
      "['1', ':', 'its', 'worse', 'than', 'she', \"'\", 's', 'all', 'that', '!']\n",
      "[ '10', '=', 'a', 'classic', '9', '=', 'borderline', 'classic', '8', '=',\n",
      "  'excellent', '7', '=', 'good', '6', '=', 'better', 'than', 'average', '5',\n",
      "  '=', 'average', '4', '=', 'disappointing', '3', '=', 'poor', '2', '=',\n",
      "  'awful', '1', '=', 'a', 'crap', 'classic']\n"
     ]
    }
   ],
   "source": [
    "# Display sentances from an article\n",
    "\n",
    "a_filename = 'neg/cv779_18989.txt'\n",
    "for sent in mvr.sents(a_filename):\n",
    "    pp.pprint(sent)"
   ]
  },
  {
   "cell_type": "code",
   "execution_count": 33,
   "metadata": {
    "collapsed": false
   },
   "outputs": [
    {
     "name": "stdout",
     "output_type": "stream",
     "text": [
      "[ 'uuuuuuggggggglllllllyyyyy', 's_funniest_home_videos_',\n",
      "  '_the_last_days_of_disco_', '_i_know_what_you_did_last_summer_',\n",
      "  '_fear_and_loathing_in_las_vegas_', '_breakfast_of_champions_',\n",
      "  '_breakfast_of_champions_', '_a_night_at_the_roxbury_',\n",
      "  '_a_night_at_the_roxbury_',\n",
      "  '__________________________________________________________',\n",
      "  '____________________________________________', '==========================',\n",
      "  '========================', '=======================',\n",
      "  '--------------------------------------------------------------',\n",
      "  '--------------------------------------------------------------',\n",
      "  '--------------------------------------------------------------',\n",
      "  '--------------------------------------------------------------',\n",
      "  '--------------------------------------------------------------',\n",
      "  '--------------------------------------------------------------']\n"
     ]
    }
   ],
   "source": [
    "# We can process the words with normal Python\n",
    "# For example, print out really long words\n",
    "long_words = [word for word in mvr_words if len(word) > 22]\n",
    "long_words.sort(reverse=True)\n",
    "pp.pprint(long_words)"
   ]
  },
  {
   "cell_type": "markdown",
   "metadata": {},
   "source": [
    "-----\n",
    "\n",
    "## Student Activity\n",
    "\n",
    "In the preceding cells, we used NLTK to access the movie review corpus. Now that you have run the Notebook, go back and make the following changes to see how the results change.\n",
    "\n",
    "1. Tabulate the top tokens in the entire movie review corpus.\n",
    "2. Plot the top tokens in the entire movie review corpus.\n",
    "3. Search for words longer than eighteen characters. Did you find any real words?\n",
    "\n",
    "-----"
   ]
  }
 ],
 "metadata": {
  "kernelspec": {
   "display_name": "Python 3",
   "language": "python",
   "name": "python3"
  },
  "language_info": {
   "codemirror_mode": {
    "name": "ipython",
    "version": 3
   },
   "file_extension": ".py",
   "mimetype": "text/x-python",
   "name": "python",
   "nbconvert_exporter": "python",
   "pygments_lexer": "ipython3",
   "version": "3.5.2"
  }
 },
 "nbformat": 4,
 "nbformat_minor": 0
}
